{
 "cells": [
  {
   "cell_type": "markdown",
   "metadata": {},
   "source": [
    "# Self-classifying MNIST Digits [![Colab](https://colab.research.google.com/assets/colab-badge.svg)](https://colab.research.google.com/github/maxencefaldor/cax/blob/main/examples/44_self_classifying_mnist.ipynb)"
   ]
  },
  {
   "cell_type": "markdown",
   "metadata": {},
   "source": [
    "## Installation"
   ]
  },
  {
   "cell_type": "markdown",
   "metadata": {},
   "source": [
    "You will need Python 3.10 or later, and a working JAX installation. For example, you can install JAX with:"
   ]
  },
  {
   "cell_type": "code",
   "execution_count": null,
   "metadata": {},
   "outputs": [],
   "source": [
    "%pip install -U \"jax[cuda12]\""
   ]
  },
  {
   "cell_type": "markdown",
   "metadata": {},
   "source": [
    "Then, install CAX from PyPi:"
   ]
  },
  {
   "cell_type": "code",
   "execution_count": null,
   "metadata": {},
   "outputs": [],
   "source": [
    "%pip install -U \"cax[examples]\""
   ]
  },
  {
   "cell_type": "markdown",
   "metadata": {},
   "source": [
    "## Import"
   ]
  },
  {
   "cell_type": "code",
   "execution_count": 1,
   "metadata": {},
   "outputs": [],
   "source": [
    "import jax\n",
    "import jax.numpy as jnp\n",
    "import mediapy\n",
    "import optax\n",
    "import torchvision\n",
    "from flax import nnx\n",
    "from tqdm.auto import tqdm\n",
    "\n",
    "from cax.core.ca import CA\n",
    "from cax.core.perceive import ConvPerceive\n",
    "from cax.core.update import NCAUpdate\n",
    "from cax.nn.pool import Pool\n",
    "from cax.types import Input, State\n",
    "from cax.utils import clip_and_uint8"
   ]
  },
  {
   "cell_type": "markdown",
   "metadata": {},
   "source": [
    "## Configuration"
   ]
  },
  {
   "cell_type": "code",
   "execution_count": 2,
   "metadata": {},
   "outputs": [],
   "source": [
    "seed = 0\n",
    "\n",
    "spatial_dims = (28, 28)\n",
    "channel_size = 20\n",
    "perception_size = 80\n",
    "hidden_layers_sizes = (80,)\n",
    "cell_dropout_rate = 0.5\n",
    "\n",
    "pool_size = 1_024\n",
    "batch_size = 16\n",
    "num_steps = 20\n",
    "learning_rate = 1e-3\n",
    "\n",
    "key = jax.random.key(seed)\n",
    "rngs = nnx.Rngs(seed)"
   ]
  },
  {
   "cell_type": "markdown",
   "metadata": {},
   "source": [
    "## Dataset"
   ]
  },
  {
   "cell_type": "code",
   "execution_count": 3,
   "metadata": {},
   "outputs": [
    {
     "data": {
      "text/html": [
       "<table class=\"show_images\" style=\"border-spacing:0px;\"><tr><td style=\"padding:1px;\"><img width=\"128\" height=\"128\" style=\"image-rendering:pixelated; object-fit:cover;\" src=\"data:image/png;base64,iVBORw0KGgoAAAANSUhEUgAAABwAAAAcCAIAAAD9b0jDAAAB7ElEQVR4nO2UP8hxURjAz0VKittd/CuLwSDKICWDDEbdE5OyyMZksTEpg0ky3AwmC2VQdyAKpQwGA5IMhJXrT7crx32H2/flfT/vHzJ93/ebTj3P+XWenvM8APzn70EsFhO/SCQS6XS6Wq1qtdpSqcTzPMuyyWTyNl/ymUiv10ulUofD4XQ6cRz3+Xy30dVqlc1mIYSHw2E4HLbb7dsodtdotVqbzaZSqbwbvV6voVDodDoBADabzXa7nU6n39dLEMRsNkPv6fV6NE2zLMswzPeKu5AkWSgUIpGIYBwMBnK5HABgMpkoinpSCgBQKBQYhlEUhRAKBAI/vyj6Irbf73meF4oNh8Mi0VfJjyGXy1utFkLI4/G8TAoAMBgMDMMsFotisRiNRjHs/p95GAjhbrcTmhaPxzUazWu8ZrO5Xq8L3nw+r9PpXuPFcTwYDF4uF4RQo9F4jVSA4ziEEMdxLpfrbsKns/8nFovF7/fbbDaJRAIAGI/HnU7n+acZjcZcLrder3+P7Pl8pmn6SZ1arY7FYvP5/HYJ9Pt9r9f7jE6lUrnd7tFo9GGnQAifGS2CIMrl8oct1e12SZKUyWQP6+x2e6VSWS6Xt7rj8ZhKpYQV9UPedR9CCCEUzpPJpFarIYQymcxut3v4gf8wb5vwG2+h9UGFAAAAAElFTkSuQmCC\"/></td><td style=\"padding:1px;\"><img width=\"128\" height=\"128\" style=\"image-rendering:pixelated; object-fit:cover;\" src=\"data:image/png;base64,iVBORw0KGgoAAAANSUhEUgAAABwAAAAcCAIAAAD9b0jDAAAB8ElEQVR4nO3Su4vqQBQHYMfCgKQTCyGW2i0EA2JAsEwRy8Q/RLDQSrSwsjCdVUAIVjaxsxAfQcHGdJYaRDGFD7ASzjFbhCt7110f64Xb7K+bmZOPkzPj8fzm/4bjOFVVEVFV1Vgs9g9ElmV3ux38yXa7fVWMx+PL5RIRAWC/39u2DQA8z/t8vp9wfr8/mUwuFgsAcNHJZCJJkrssFArXn3jvovV6vdfrMQxz2YnFYjRN9/t9j8fz9vb2NMpxnCiKhBBCyGAwyOVyhJDNZjOdThVF8Xq9hJC7bf2VjzfTbrdpmhZFMZ/PB4NBtwARj8fjE88gGo1qmoaItm2bpilJ0nWNO2JN0x4SKYrSdR0ADoeDIAiBQODjTD+hw+HwIZTnefevU6nUjbLn0NFohIjdbvd2meM4iGgYxqf9L24/nU6zLOs4jq7rt9Hz+ew4jmma99uUZRkA1ut1KBT6roaiqEqlgoidToem6UfR+Xx+QyyXywBgWZYgCPfFC1qr1b48ZVlW0zQAaLVaD3FuMpkMIlqWdX2UzWZ3ux0iNhqNJ8RLp6fTSVEUlmXD4bAsy7quW5aFiPP5vNlsJhKJn6BuVqvVbDa7LA3DKJVKz3FuGIYZj8eu4j5vALBt+7spP5pQKFQsFi9otVqNRCIvib95Me/8RUrNjUX6NgAAAABJRU5ErkJggg==\"/></td><td style=\"padding:1px;\"><img width=\"128\" height=\"128\" style=\"image-rendering:pixelated; object-fit:cover;\" src=\"data:image/png;base64,iVBORw0KGgoAAAANSUhEUgAAABwAAAAcCAIAAAD9b0jDAAABlklEQVR4nO3Ur6vCUBQH8HMPY2BRFOQGRVgQ20wGDSIMRGxaZ1bw3zAJZpNJk02TwWRzOKMLKoJDQdtAUATZXhDU54/r3jC9975p9+zuc8/gcAH+8/sjSdJms4lEInd1vF0kk8lcLmcfjcViqqo+1r+hqVQqn8/bFBFREIRQKEQIYe2bz+etVssmGggETNNsNptvOkXExx2v0mg0AGA2m7FQURQppfZRj8cDAP1+n4Vms1mXy2VTpJQKggAA6/WahZ4nYzKZ2EFrtRqldDqd7na7x7fc3Xo0GjEst9udyWQKhUI6nQaASqViGMZ71OfzXZ6j0SgiSpIUDAZ5npdlGREPh4OiKMfjkeO48Xj89OzriNXr9VKpZBiGruvniiiKhJDT6bTf7zVNUxRFVdXBYLDdblerldfr5Xn+KXrttFwuL5fLRCJxqei63u12NU0bDoe33xSLRb/fv1gsnooO0263TdOsVquvNvxg2u/S6XQ+jzLiECWEhMPhD6OWZTEuCue/H4/HP4yy71AnaK/XsyzLWTd/IV/VrISFLCLl1wAAAABJRU5ErkJggg==\"/></td><td style=\"padding:1px;\"><img width=\"128\" height=\"128\" style=\"image-rendering:pixelated; object-fit:cover;\" src=\"data:image/png;base64,iVBORw0KGgoAAAANSUhEUgAAABwAAAAcCAIAAAD9b0jDAAABKElEQVR4nO3UoYrDQBAG4KGmFYWYQOSuq80DhLSEPEBtTIjsQ5Q8QXxERV4gD1ATEShxUTERiVvVRkQUKoZhTyyFg1PXzplyv979dmB/BuA/n5zj8UhEWuvtdssjJklyv98RkYh83/95YPECKoRYLpdvz/YtYRhO04SIXdcJIVar1bui53lKKURExDiOOYYEOJ1OREREVVXxiLZtExEi3m63IAgYRCll27YGTdOUQQSAw+FgOnQ+ny3LYhD3+/08z4hY17XjOAyilJKeKYqCQQSAPM/xmc1mwyC6rjuOoxHLsmQQAeB6vRrxcrms12se1HQIEaMo4hGLotBamy8SQjCIrusqpYjo8XhkWcawOABgt9uZtg/D8Nu7r+zT19G+75um+YsnPz5fGjKxvq7r4c4AAAAASUVORK5CYII=\"/></td><td style=\"padding:1px;\"><img width=\"128\" height=\"128\" style=\"image-rendering:pixelated; object-fit:cover;\" src=\"data:image/png;base64,iVBORw0KGgoAAAANSUhEUgAAABwAAAAcCAIAAAD9b0jDAAABk0lEQVR4nO3Ur6vCUBQH8DkUFGVYHCaLS/sHrhbBtKTGFYP/gEEQbAPBZBF0f4SaltQyEcRgXRFtaphgUhCD5+ALh2d5IPfKeMlvuwfu5x7uL0n65pv/D2PMtm3P8xARERuNhmmatm0zxj4UTdM8nU4AgIiu63qeBwA0HA6Hwlw4HM7n89frFQDm83mxWIxEIolEYjKZENpsNoXRWq1GTU2nU0VRqFitVqm43+9TqZSY2Ol0EBEA+v3+S5QkabPZEFqpVMREy7IQ8X6/O44Ti8WoGI1Gy+Xy7XZDxHa7LSYmk0k6GcdxXkVN09brNfU4Go3i8bgYqqoqTc5kMqqqtlqt1Wp1uVxoNx6PR6lUEhOpU9/36XzhN4fD4Xg8AoDv+8IihTF2Pp8RcbvddrtdXdfT6fRisQCAXq/3Ifo3hULh+XwiYr1eDww1DIN2Q/huvg8/KnOKhmHwL8+LZrPZ4NHlcinLcigU4qe5stvtACCXywWJ0qfluq6u64GhiqLMZjMAGI/Hwm//vTsYDAAgyGY58wOibf6AWXkq6wAAAABJRU5ErkJggg==\"/></td><td style=\"padding:1px;\"><img width=\"128\" height=\"128\" style=\"image-rendering:pixelated; object-fit:cover;\" src=\"data:image/png;base64,iVBORw0KGgoAAAANSUhEUgAAABwAAAAcCAIAAAD9b0jDAAACI0lEQVR4nO2Uv+txURzHj8ev8pvCJAllMVAsLJQiJYuwWSgGExvKxGKxsLDYyMId5A9ASZSFUtS9RZbb9SPRuXmG2yP1jS+e5Xnq+5rOvfec131/zr2fA8AP/wW0t2bz+Xwej+d2u2UyWaFQOJ/Pf/VylUpVKpUmkwn8Q7FY/Fyn0+nK5fLhcIAQkiS5Wq2m0ymEcLPZ6HS6t3VCobBcLuM4fks3m82USqVWq6UurVbr29JQKATvmM/nCoUCAPCt9NcTqc/nowar1arRaDgcDhRFAQDfVs148iwcDkcikW63u1gsttvt7b5cLn8u/YRKpfK8/GdJ74nH41wul0ajXa9XvV4PAOj1ev1+/5NQHA7HZDK1222SJEmSvF6v1ADDMLVa/baOyWSazWYURSGE+/0ew7B6vb7b7ajC1+t1MplksVhvGFkslsfjodan02mLxQIAkEgk9x0FIfT7/Ww2+9WMuVyOWoYgiEgkAgBIpdLhcEiS5Ol0ymazzWaTmtDpdOx2u8FgMBgMD410Oj2fz0MICYKIxWJisRgAYDKZBoMB1VE2mw0AIBAInE5nrVYjCIKyL5fLh9JoNAoh3O12gUBAIpG4XK56vU41fiaToTrqnmAwiCAIgiBarfahdL1eQwiPx+NoNJrNZrftS6VSdDr9pe37yng8vv8UrVYrkUhoNBoG49U/Gnw9pPl8vtfrNRqN2+22Wq3iOH65XD4M+MO/zm/rjlZeqOP2ZwAAAABJRU5ErkJggg==\"/></td><td style=\"padding:1px;\"><img width=\"128\" height=\"128\" style=\"image-rendering:pixelated; object-fit:cover;\" src=\"data:image/png;base64,iVBORw0KGgoAAAANSUhEUgAAABwAAAAcCAIAAAD9b0jDAAAA4UlEQVR4nO2RLQ6EMBBGW7IKxQmABIdBYbHcBMUVOASOcByuQPgJDk2QuJnOCjZImCaTYPZTI15fp/2U+ueV1HVNRH3fB0EgYwzDcN93RASAPM85R5xHYtu2ruus9niWHsexrquw1PO8JEmEpa7r+r5/zmmainVVVdVZFACUZSkjVUpZSZ+f/+McR2uttebAH6bUGENE3A2YnFVelV5/mmWZ2OVX+wAQx/HDBkxp0zTXXBSFjHSeZyZpl2VZEBERiSiKohvSov1hGIiIiIwx96SFtG1bJmkhHcdxmiY+/49kvjUxasl01AsRAAAAAElFTkSuQmCC\"/></td><td style=\"padding:1px;\"><img width=\"128\" height=\"128\" style=\"image-rendering:pixelated; object-fit:cover;\" src=\"data:image/png;base64,iVBORw0KGgoAAAANSUhEUgAAABwAAAAcCAIAAAD9b0jDAAAB4UlEQVR4nO2UMa/BUBTHbwVlqTBZmpgs1YFNECSkCT6ARC0MjcHuO9gsjUE/ARIGIiLxASSasFhEEAODpB1KcqVvuEmfV9X3+saX95vuPe393/859+QA8M8fIRgMUhRVq9VUVX18pd/vO51Oa3IURTWbzd1ut9/vIYSPxwO+IAgCQRAWRIfD4fN5Q1EIYSwW0x20m4hOp9NcLgcAOJ/PgiBgGKaqKgAgGo0mk0lrWX9eaLeTJEmSpN/vf44TBIEKAiHsdrs4jltwCiE8HA6vcYZhvF4vWh+Px/v9/kvXGsVicTabaQW19kqvlEql9XqtKIqmuFgs3G73659m6QcCgXK5nMlk0DYej6OHAgBIktRoNEajkaIoFnzRNL3dbt+11GAwMDlrM/mGfcVms2nrQqGAus2Qt+mvVqtUKsWy7GQyud1uWrxardbrddMkrePxeFAFTJyapW8IwzC/8eJwOPL5vGGvVCoVSZK+daonkUiMx2MIIUmSz3Gfz8ey7PV6RYqyLKfT6XcimG4vimIoFAIA8Dwvy7IWz2azkUgE9el8Pud5vtfr/dSpKIqG8w316el0arfbLpfrp3KIcDjc6XR0cpvNZrlctlotmqatyWngOM5x3OVyQZON4zjd6PvHnA+P6FdO5na6vgAAAABJRU5ErkJggg==\"/></td></tr></table>"
      ],
      "text/plain": [
       "<IPython.core.display.HTML object>"
      ]
     },
     "metadata": {},
     "output_type": "display_data"
    }
   ],
   "source": [
    "# Load MNIST dataset\n",
    "ds_train = torchvision.datasets.MNIST(root=\"./data\", train=True, download=True)\n",
    "ds_test = torchvision.datasets.MNIST(root=\"./data\", train=False, download=True)\n",
    "\n",
    "# Convert to jax.Array\n",
    "x_train = jnp.array([x.resize(spatial_dims) for x, _ in ds_train])[..., None] / 255\n",
    "x_test = jnp.array([x.resize(spatial_dims) for x, _ in ds_test])[..., None] / 255\n",
    "\n",
    "y_integer_train = jnp.array([y for _, y in ds_train], dtype=jnp.int32)\n",
    "y_integer_test = jnp.array([y for _, y in ds_test], dtype=jnp.int32)\n",
    "\n",
    "# Visualize\n",
    "mediapy.show_images(x_train[:8], width=128, height=128)"
   ]
  },
  {
   "cell_type": "code",
   "execution_count": 4,
   "metadata": {},
   "outputs": [],
   "source": [
    "# fmt: off\n",
    "color_lookup = jnp.array(\n",
    "\t[\n",
    "\t\t[128, 0, 0],      # Digit 0\n",
    "\t\t[230, 25, 75],    # Digit 1\n",
    "\t\t[70, 240, 240],   # Digit 2\n",
    "\t\t[210, 245, 60],   # Digit 3\n",
    "\t\t[250, 190, 190],  # Digit 4\n",
    "\t\t[170, 110, 40],   # Digit 5\n",
    "\t\t[170, 255, 195],  # Digit 6\n",
    "\t\t[165, 163, 159],  # Digit 7\n",
    "\t\t[0, 128, 128],    # Digit 8\n",
    "\t\t[128, 128, 0],    # Digit 9\n",
    "\t\t[0, 0, 0],        # Default\n",
    "\t\t[255, 255, 255],  # Background\n",
    "\t]\n",
    ") / 255\n",
    "\n",
    "\n",
    "def compute_y(x, y_integer):\n",
    "\t\"\"\"Compute the target y from image and integer label.\"\"\"\n",
    "\tmask = x >= 0.1\n",
    "\treturn jnp.where(mask, jax.nn.one_hot(y_integer, 10), 0.0)\n",
    "\n",
    "\n",
    "def render(x, y):\n",
    "\t\"\"\"Render x and y to RGB.\"\"\"\n",
    "\t# Mask for digit and background pixels\n",
    "\tis_digit = (x > 0.1).astype(jnp.float32)\n",
    "\tis_not_digit = 1.0 - is_digit\n",
    "\n",
    "\t# Apply the mask to the probabilities\n",
    "\ty = is_digit * y\n",
    "\n",
    "\tblack_and_white = jnp.concatenate([is_digit, is_not_digit], axis=-1) * 0.01\n",
    "\ty = jnp.concatenate([y, black_and_white], axis=-1)\n",
    "\n",
    "\treturn color_lookup[jnp.argmax(y, axis=-1)]"
   ]
  },
  {
   "cell_type": "code",
   "execution_count": 5,
   "metadata": {},
   "outputs": [],
   "source": [
    "y_train = jax.vmap(compute_y)(x_train, y_integer_train)\n",
    "y_test = jax.vmap(compute_y)(x_test, y_integer_test)"
   ]
  },
  {
   "cell_type": "code",
   "execution_count": 6,
   "metadata": {},
   "outputs": [
    {
     "data": {
      "text/html": [
       "<table class=\"show_images\" style=\"border-spacing:0px;\"><tr><td style=\"padding:1px;\"><img width=\"64\" height=\"64\" style=\"image-rendering:pixelated; object-fit:cover;\" src=\"data:image/png;base64,iVBORw0KGgoAAAANSUhEUgAAABwAAAAcCAIAAAD9b0jDAAAAoUlEQVR4nNWVwQrAIAxD69h/y768Owgi07RN5w4Lu8jkNSVVi6rKbh3bib+CntTuq5RxWUEehNMH0VAUuiSiMiGo4XH5y4fGu45CE0QHirKuqu1DheFILT2iGSKcsiwHOtpsRIrrOGU9QmgucQfaZdvstedtyVvK7oa7pWSV4SzOaYQottN0YnT7EpgzDhoc24Ke6Ln3+EGA0Df6zxP9CfQG8bs9P1UBTsYAAAAASUVORK5CYII=\"/></td><td style=\"padding:1px;\"><img width=\"64\" height=\"64\" style=\"image-rendering:pixelated; object-fit:cover;\" src=\"data:image/png;base64,iVBORw0KGgoAAAANSUhEUgAAABwAAAAcCAIAAAD9b0jDAAAAhUlEQVR4nO3WQQqAMAwEQCt+Qt/kc32TPiMeBCmtJrtrD4LuqVA6pGkOTWbWtU7fXPzRQTu2TfO5Htel2FUqzcXLvKOnRZn13WkUEWkUER+hTtCRAi9+RKnUF1HUH3UFDUddQYUEKPU+KCqIHIrHQ4UnClCtmwEqiyjK5hZlq8uTvv2Z2AHVSSebu5XacAAAAABJRU5ErkJggg==\"/></td><td style=\"padding:1px;\"><img width=\"64\" height=\"64\" style=\"image-rendering:pixelated; object-fit:cover;\" src=\"data:image/png;base64,iVBORw0KGgoAAAANSUhEUgAAABwAAAAcCAIAAAD9b0jDAAAAnklEQVR4nO3VwQ3AIAgFUGx6dyxndiwmsDdiFL9APDRNOdsHVGhTa41Ox3Vc/NEIWpgLMziQjLevKjXnIIqLUt1N+1hcBUJdLVvRmEhE90HLhHotE9qH6/3u0cAAIDQ2TwRufxBrznOzq6z6RvWnxdoWLieV9mdxrhrnGNFBnJ+UcgA9tg/y28fWuqauRVAuSooNb5T1I+2K1/yjPoQ+OBtSff+DXkYAAAAASUVORK5CYII=\"/></td><td style=\"padding:1px;\"><img width=\"64\" height=\"64\" style=\"image-rendering:pixelated; object-fit:cover;\" src=\"data:image/png;base64,iVBORw0KGgoAAAANSUhEUgAAABwAAAAcCAIAAAD9b0jDAAAAo0lEQVR4nO2VSw6AIAxExbjyLh6B03sE7sIWFyTG0HbaKpiYOEuxr78RQyll6q25O/GHLuobKUdwuq07fRjA9jEOcDu0T3MPmSlq/6yCNnitjp4qi2L3oM7a3X5DZLPqlpJwQAhqp1ihKpFtvOq+pUBWEQoKUYVmKnGHW8oBlSKNfmihKccaSePf8CnYpOOLsuCq3IuyWI2/+iy3hhv6UN/5RR+WfEZl+8nsywAAAABJRU5ErkJggg==\"/></td><td style=\"padding:1px;\"><img width=\"64\" height=\"64\" style=\"image-rendering:pixelated; object-fit:cover;\" src=\"data:image/png;base64,iVBORw0KGgoAAAANSUhEUgAAABwAAAAcCAIAAAD9b0jDAAAAdklEQVR4nGP8//8/A7UBE9VNHDWUhRLNv/fvhzBYHR2RxZnQFMHVUQIGWZji8jtFhuIBCEOpEprohlIRkGkongBlICOdEhNK+AwlO5SxGErQLFZHR4garH5HMRSuFKspJNmK4lJcNpMKBlOSGjV0WBjKOLIbEwA0wSghVnVRQAAAAABJRU5ErkJggg==\"/></td><td style=\"padding:1px;\"><img width=\"64\" height=\"64\" style=\"image-rendering:pixelated; object-fit:cover;\" src=\"data:image/png;base64,iVBORw0KGgoAAAANSUhEUgAAABwAAAAcCAIAAAD9b0jDAAAApElEQVR4nO2V0QnAIAxEY+kyDuQczuIcDuQ49qMgJZh4sZZS6H0KPi65GF2tlVZrW078obv1Qo6+ex5SGUOly4j65VuJV5tE5KQ51bmMwmQIKqSis5pEp03NMkik1+a0GcTTsznN0SNoCMq6OeSOg1JYUnSPjJQ5/StX6oNhoeDlQ1DrKhiXj+w6Js3pBE6DTuM6UKV3+Dbh0Pu4U4YXhes7X/QBJydD8tRFqgEAAAAASUVORK5CYII=\"/></td><td style=\"padding:1px;\"><img width=\"64\" height=\"64\" style=\"image-rendering:pixelated; object-fit:cover;\" src=\"data:image/png;base64,iVBORw0KGgoAAAANSUhEUgAAABwAAAAcCAIAAAD9b0jDAAAApklEQVR4nO2V0Q2AIAxEi3Es1mBK13Av/CAhDdj2zhATE+9LCTyutIVUa5XV2pYTRWRnFxxyto8i2ZrDOe1EXwRUEx2bAoYPGux6kijfJgQdbIZECMoSYyieHBTK5qcLLX5tM6x/rqMG7+13Rpvhz7FbpzGPQ9kvkqnzvYf6SR9GiPD1gmGPsM64jkKIENTZwJpGdJSW310v3lLOMuQGSJ95TX/oel0DODFbEu4OjgAAAABJRU5ErkJggg==\"/></td><td style=\"padding:1px;\"><img width=\"64\" height=\"64\" style=\"image-rendering:pixelated; object-fit:cover;\" src=\"data:image/png;base64,iVBORw0KGgoAAAANSUhEUgAAABwAAAAcCAIAAAD9b0jDAAAAnUlEQVR4nO3VMQ6AIAwFUDGe0jh4NAbCNXFwMbT8/jY4mPhHQx4FCqbW2jI763TxR7+Dbq7RteTuy36cclhi+lRa2EWVYgtE39Nasiqqi2VRNbfYueo0yvLJ0wCxK+1EZqPRQckCnyIoX0FHo/lmCN4ovMss6urZSKVmM1AoeT4O1CvaaEA00MkPiozrpg7RcJkIfeb1B4UJ9Tvx5gJ01jqPPksSwwAAAABJRU5ErkJggg==\"/></td><td style=\"padding:1px;\"><img width=\"64\" height=\"64\" style=\"image-rendering:pixelated; object-fit:cover;\" src=\"data:image/png;base64,iVBORw0KGgoAAAANSUhEUgAAABwAAAAcCAIAAAD9b0jDAAAAlklEQVR4nO2USw7AIAgFsem9iSenCxJj/MCTmtRF38qFTgZaSCJCu3NtJ/7Q+83jlLMehDkOLZQ6DRGCDkF2vvhQjaYwN8X2tRPe0/IY6QZavrJ68fFld/ZnajMinTVRhiYFJsrGadZ+KTBT0xhOA/UUKdmH1prCvGrtmK46QlDqrDdAA0QfGiBOoch+M+IvlEBOWih2HnKeOy0kHPbpAAAAAElFTkSuQmCC\"/></td><td style=\"padding:1px;\"><img width=\"64\" height=\"64\" style=\"image-rendering:pixelated; object-fit:cover;\" src=\"data:image/png;base64,iVBORw0KGgoAAAANSUhEUgAAABwAAAAcCAIAAAD9b0jDAAAAkElEQVR4nO2WSwqAMAxErXjv0JPHhSAlzWeCDSg4S22fM/mAjZm31dqXE3/od6AHcqj3Zr0iUiYyduoQLQVQQSRi1ZqQF38k3iz1oZDpFLlsSYdaRPBLQffV1D4xhs44RLnuXwpLjG5Uqld6/BmRKkJ69xHLJfFRaG3810Ot1XoEHRVyE1B8AHJOwSK0it+eE9H9OjVLq6tIAAAAAElFTkSuQmCC\"/></td></tr></table>"
      ],
      "text/plain": [
       "<IPython.core.display.HTML object>"
      ]
     },
     "metadata": {},
     "output_type": "display_data"
    }
   ],
   "source": [
    "# Visualize different colored digits\n",
    "digits = []\n",
    "for i in range(10):\n",
    "\tmask = y_integer_train == i\n",
    "\tidx = jnp.argmax(mask)\n",
    "\tdigits.append(render(x_train[idx], y_train[idx]))\n",
    "\n",
    "mediapy.show_images(digits, width=64, height=64)"
   ]
  },
  {
   "cell_type": "markdown",
   "metadata": {},
   "source": [
    "## Model"
   ]
  },
  {
   "cell_type": "code",
   "execution_count": 7,
   "metadata": {},
   "outputs": [],
   "source": [
    "perceive = ConvPerceive(\n",
    "\tchannel_size=channel_size,\n",
    "\tperception_size=perception_size,\n",
    "\trngs=rngs,\n",
    "\tuse_bias=True,\n",
    "\tactivation_fn=nnx.relu,\n",
    ")\n",
    "update = NCAUpdate(\n",
    "\tchannel_size=channel_size,\n",
    "\tperception_size=perception_size,\n",
    "\thidden_layer_sizes=hidden_layers_sizes,\n",
    "\trngs=rngs,\n",
    "\tcell_dropout_rate=cell_dropout_rate,\n",
    "\tzeros_init=True,\n",
    ")"
   ]
  },
  {
   "cell_type": "code",
   "execution_count": null,
   "metadata": {},
   "outputs": [],
   "source": [
    "class SelfClassifyingNCA(CA):\n",
    "\t\"\"\"Self-Classifying Neural Cellular Automata.\"\"\"\n",
    "\n",
    "\t@nnx.jit\n",
    "\tdef step(self, state: State, input: Input = None) -> State:\n",
    "\t\t\"\"\"Perform a single step.\"\"\"\n",
    "\t\t# Extract x\n",
    "\t\tx = state[..., -1:]\n",
    "\n",
    "\t\t# Step\n",
    "\t\tperception = self.perceive(state)\n",
    "\t\tnext_state = self.update(state, perception, input)\n",
    "\n",
    "\t\t# Override\n",
    "\t\tnext_state = next_state.at[..., -1:].set(x)\n",
    "\n",
    "\t\treturn next_state, self.metrics_fn(next_state, state, perception, input)\n",
    "\n",
    "\tdef render(self, state: State):\n",
    "\t\t\"\"\"Render state to RGB frame.\"\"\"\n",
    "\t\t# Extract x and classification logits\n",
    "\t\tx = state[..., -1:]\n",
    "\t\tlogits = state[..., :10]\n",
    "\n",
    "\t\t# Render the image and the logits to RGB\n",
    "\t\trgb = render(x, logits)\n",
    "\n",
    "\t\t# Clip values to valid range and convert to uint8\n",
    "\t\treturn clip_and_uint8(rgb)"
   ]
  },
  {
   "cell_type": "code",
   "execution_count": 8,
   "metadata": {},
   "outputs": [],
   "source": [
    "ca = SelfClassifyingNCA(perceive, update)"
   ]
  },
  {
   "cell_type": "code",
   "execution_count": 9,
   "metadata": {},
   "outputs": [
    {
     "name": "stdout",
     "output_type": "stream",
     "text": [
      "Number of params: 22580\n"
     ]
    }
   ],
   "source": [
    "params = nnx.state(ca, nnx.Param)\n",
    "print(\"Number of params:\", sum(x.size for x in jax.tree.leaves(params)))"
   ]
  },
  {
   "cell_type": "markdown",
   "metadata": {},
   "source": [
    "## Sample initial state"
   ]
  },
  {
   "cell_type": "code",
   "execution_count": 10,
   "metadata": {},
   "outputs": [],
   "source": [
    "def sample_state(key):\n",
    "\t\"\"\"Sample a state with a random image.\"\"\"\n",
    "\t# Init state\n",
    "\tstate = jnp.zeros(x_train.shape[1:3] + (channel_size,))\n",
    "\n",
    "\t# Sample random image\n",
    "\tx_idx = jax.random.choice(key, x_train.shape[0])\n",
    "\tx = x_train[x_idx]\n",
    "\n",
    "\t# Set image in state\n",
    "\tstate = state.at[..., -1:].set(x)\n",
    "\treturn state, x_idx"
   ]
  },
  {
   "cell_type": "markdown",
   "metadata": {},
   "source": [
    "## Train"
   ]
  },
  {
   "cell_type": "markdown",
   "metadata": {},
   "source": [
    "### Pool"
   ]
  },
  {
   "cell_type": "code",
   "execution_count": 11,
   "metadata": {},
   "outputs": [],
   "source": [
    "key, subkey = jax.random.split(key)\n",
    "\n",
    "keys = jax.random.split(subkey, pool_size)\n",
    "state, x_idx = jax.vmap(sample_state)(keys)\n",
    "\n",
    "pool = Pool.create({\"state\": state, \"x_idx\": x_idx})"
   ]
  },
  {
   "cell_type": "markdown",
   "metadata": {},
   "source": [
    "### Optimizer"
   ]
  },
  {
   "cell_type": "code",
   "execution_count": 12,
   "metadata": {},
   "outputs": [],
   "source": [
    "lr_sched = optax.linear_schedule(\n",
    "\tinit_value=learning_rate, end_value=0.01 * learning_rate, transition_steps=100_000\n",
    ")\n",
    "\n",
    "optimizer = optax.chain(\n",
    "\toptax.clip_by_global_norm(1.0),\n",
    "\toptax.adam(learning_rate=lr_sched),\n",
    ")\n",
    "\n",
    "optimizer = nnx.Optimizer(ca, optimizer)"
   ]
  },
  {
   "cell_type": "markdown",
   "metadata": {},
   "source": [
    "### Loss"
   ]
  },
  {
   "cell_type": "code",
   "execution_count": 13,
   "metadata": {},
   "outputs": [],
   "source": [
    "def l2(state, y):\n",
    "\t\"\"\"L2.\"\"\"\n",
    "\tl2_loss = jnp.sum(jnp.square(state[..., :10] - y), axis=(-1, -2, -3)) / 2\n",
    "\treturn jnp.mean(l2_loss)\n",
    "\n",
    "\n",
    "def ce(state, y):\n",
    "\t\"\"\"Cross-entropy.\"\"\"\n",
    "\tinteger_label = jnp.argmax(y, axis=-1)\n",
    "\treturn jnp.mean(optax.softmax_cross_entropy_with_integer_labels(state[..., :10], integer_label))"
   ]
  },
  {
   "cell_type": "code",
   "execution_count": 14,
   "metadata": {},
   "outputs": [],
   "source": [
    "@nnx.jit\n",
    "def loss_fn(ca, state, y):\n",
    "\t\"\"\"Loss function.\"\"\"\n",
    "\tstate_axes = nnx.StateAxes({nnx.RngState: 0, ...: None})\n",
    "\tstate, _ = nnx.split_rngs(splits=batch_size)(\n",
    "\t\tnnx.vmap(\n",
    "\t\t\tlambda ca, state: ca(state, num_steps=num_steps),\n",
    "\t\t\tin_axes=(state_axes, 0),\n",
    "\t\t)\n",
    "\t)(ca, state)\n",
    "\n",
    "\tloss = l2(state, y)\n",
    "\treturn loss, state"
   ]
  },
  {
   "cell_type": "markdown",
   "metadata": {},
   "source": [
    "### Train step"
   ]
  },
  {
   "cell_type": "code",
   "execution_count": 15,
   "metadata": {},
   "outputs": [],
   "source": [
    "@nnx.jit\n",
    "def train_step(ca, optimizer, pool, key):\n",
    "\t\"\"\"Train step.\"\"\"\n",
    "\tsample_key, sample_state_key = jax.random.split(key)\n",
    "\n",
    "\t# Sample from pool\n",
    "\tpool_idx, batch = pool.sample(sample_key, batch_size=batch_size)\n",
    "\tcurrent_state = batch[\"state\"]\n",
    "\tcurrent_x_idx = batch[\"x_idx\"]\n",
    "\n",
    "\t# A quarter of the batch is replaced with new images\n",
    "\tnew_state, new_x_idx = sample_state(sample_state_key)\n",
    "\tcurrent_state = current_state.at[: batch_size // 4].set(new_state)\n",
    "\tcurrent_x_idx = current_x_idx.at[: batch_size // 4].set(new_x_idx)\n",
    "\n",
    "\t# Get images\n",
    "\tcurrent_y = y_train[current_x_idx]\n",
    "\n",
    "\t(loss, current_state), grad = nnx.value_and_grad(loss_fn, has_aux=True)(\n",
    "\t\tca, current_state, current_y\n",
    "\t)\n",
    "\toptimizer.update(grad)\n",
    "\n",
    "\tpool = pool.update(pool_idx, {\"state\": current_state, \"x_idx\": current_x_idx})\n",
    "\treturn loss, pool"
   ]
  },
  {
   "cell_type": "markdown",
   "metadata": {},
   "source": [
    "### Main loop"
   ]
  },
  {
   "cell_type": "code",
   "execution_count": null,
   "metadata": {},
   "outputs": [],
   "source": [
    "num_train_steps = 8_192\n",
    "print_interval = 128\n",
    "\n",
    "pbar = tqdm(range(num_train_steps), desc=\"Training\", unit=\"train_step\")\n",
    "losses = []\n",
    "for i in pbar:\n",
    "\tkey, subkey = jax.random.split(key)\n",
    "\tloss, pool = train_step(ca, optimizer, pool, subkey)\n",
    "\tlosses.append(loss)\n",
    "\n",
    "\tif i % print_interval == 0 or i == num_train_steps - 1:\n",
    "\t\tavg_loss = sum(losses[-print_interval:]) / len(losses[-print_interval:])\n",
    "\t\tpbar.set_postfix({\"Average Loss\": f\"{avg_loss:.3e}\"})"
   ]
  },
  {
   "cell_type": "markdown",
   "metadata": {},
   "source": [
    "## Run"
   ]
  },
  {
   "cell_type": "code",
   "execution_count": 20,
   "metadata": {},
   "outputs": [],
   "source": [
    "num_examples = 8\n",
    "\n",
    "key, subkey = jax.random.split(key)\n",
    "keys = jax.random.split(subkey, num_examples)\n",
    "state_init, _ = jax.vmap(sample_state)(keys)\n",
    "\n",
    "state_axes = nnx.StateAxes({nnx.RngState: 0, ...: None})\n",
    "state_final, states = nnx.split_rngs(splits=num_examples)(\n",
    "\tnnx.vmap(\n",
    "\t\tlambda ca, state: ca(state, num_steps=4 * num_steps),\n",
    "\t\tin_axes=(state_axes, 0),\n",
    "\t)\n",
    ")(ca, state_init)"
   ]
  },
  {
   "cell_type": "markdown",
   "metadata": {},
   "source": [
    "## Visualize"
   ]
  },
  {
   "cell_type": "code",
   "execution_count": 21,
   "metadata": {},
   "outputs": [
    {
     "data": {
      "text/html": [
       "<table class=\"show_videos\" style=\"border-spacing:0px;\"><tr><td style=\"padding:1px;\"><img width=\"128\" height=\"128\" style=\"image-rendering:pixelated; object-fit:cover;\" src=\"data:image/gif;base64,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\"/></td><td style=\"padding:1px;\"><img width=\"128\" height=\"128\" style=\"image-rendering:pixelated; object-fit:cover;\" src=\"data:image/gif;base64,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\"/></td><td style=\"padding:1px;\"><img width=\"128\" height=\"128\" style=\"image-rendering:pixelated; object-fit:cover;\" src=\"data:image/gif;base64,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\"/></td><td style=\"padding:1px;\"><img width=\"128\" height=\"128\" style=\"image-rendering:pixelated; object-fit:cover;\" src=\"data:image/gif;base64,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\"/></td><td style=\"padding:1px;\"><img width=\"128\" height=\"128\" style=\"image-rendering:pixelated; object-fit:cover;\" src=\"data:image/gif;base64,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\"/></td><td style=\"padding:1px;\"><img width=\"128\" height=\"128\" style=\"image-rendering:pixelated; object-fit:cover;\" src=\"data:image/gif;base64,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\"/></td><td style=\"padding:1px;\"><img width=\"128\" height=\"128\" style=\"image-rendering:pixelated; object-fit:cover;\" src=\"data:image/gif;base64,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\"/></td><td style=\"padding:1px;\"><img width=\"128\" height=\"128\" style=\"image-rendering:pixelated; object-fit:cover;\" src=\"data:image/gif;base64,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\"/></td></tr></table>"
      ],
      "text/plain": [
       "<IPython.core.display.HTML object>"
      ]
     },
     "metadata": {},
     "output_type": "display_data"
    }
   ],
   "source": [
    "states = jnp.concatenate([state_init[:, None], states], axis=1)\n",
    "frames = jax.vmap(ca.render)(states)\n",
    "\n",
    "mediapy.show_videos(frames, width=128, height=128, codec=\"gif\")"
   ]
  }
 ],
 "metadata": {
  "kernelspec": {
   "display_name": ".venv",
   "language": "python",
   "name": "python3"
  },
  "language_info": {
   "codemirror_mode": {
    "name": "ipython",
    "version": 3
   },
   "file_extension": ".py",
   "mimetype": "text/x-python",
   "name": "python",
   "nbconvert_exporter": "python",
   "pygments_lexer": "ipython3",
   "version": "3.12.8"
  }
 },
 "nbformat": 4,
 "nbformat_minor": 2
}
