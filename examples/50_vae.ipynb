{
 "cells": [
  {
   "cell_type": "markdown",
   "metadata": {},
   "source": [
    "# Variational Autoencoder [![Colab](https://colab.research.google.com/assets/colab-badge.svg)](https://colab.research.google.com/github/maxencefaldor/cax/blob/main/examples/50_vae.ipynb)"
   ]
  },
  {
   "cell_type": "markdown",
   "metadata": {},
   "source": [
    "## Installation"
   ]
  },
  {
   "cell_type": "markdown",
   "metadata": {},
   "source": [
    "You will need Python 3.10 or later, and a working JAX installation. For example, you can install JAX with:"
   ]
  },
  {
   "cell_type": "code",
   "execution_count": null,
   "metadata": {},
   "outputs": [],
   "source": [
    "%pip install -U \"jax[cuda12]\""
   ]
  },
  {
   "cell_type": "markdown",
   "metadata": {},
   "source": [
    "Then, install CAX from PyPi:"
   ]
  },
  {
   "cell_type": "code",
   "execution_count": null,
   "metadata": {},
   "outputs": [],
   "source": [
    "%pip install -U \"cax[examples]\""
   ]
  },
  {
   "cell_type": "markdown",
   "metadata": {},
   "source": [
    "## Import"
   ]
  },
  {
   "cell_type": "code",
   "execution_count": 1,
   "metadata": {},
   "outputs": [],
   "source": [
    "import jax\n",
    "import jax.numpy as jnp\n",
    "import mediapy\n",
    "import optax\n",
    "import torchvision\n",
    "from flax import nnx\n",
    "from tqdm.auto import tqdm\n",
    "\n",
    "from cax.nn.vae import VAE, vae_loss"
   ]
  },
  {
   "cell_type": "markdown",
   "metadata": {},
   "source": [
    "## Configuration"
   ]
  },
  {
   "cell_type": "code",
   "execution_count": 2,
   "metadata": {},
   "outputs": [],
   "source": [
    "seed = 42\n",
    "\n",
    "spatial_dims = (28, 28)\n",
    "features = (1, 32, 32)\n",
    "latent_size = 4\n",
    "\n",
    "batch_size = 32\n",
    "learning_rate = 1e-2\n",
    "\n",
    "key = jax.random.key(seed)\n",
    "rngs = nnx.Rngs(seed)"
   ]
  },
  {
   "cell_type": "markdown",
   "metadata": {},
   "source": [
    "## Dataset"
   ]
  },
  {
   "cell_type": "code",
   "execution_count": 3,
   "metadata": {},
   "outputs": [
    {
     "data": {
      "text/html": [
       "<table class=\"show_images\" style=\"border-spacing:0px;\"><tr><td style=\"padding:1px;\"><img width=\"128\" height=\"128\" style=\"image-rendering:pixelated; object-fit:cover;\" src=\"data:image/png;base64,iVBORw0KGgoAAAANSUhEUgAAABwAAAAcCAIAAAD9b0jDAAAB7ElEQVR4nO2UP8hxURjAz0VKittd/CuLwSDKICWDDEbdE5OyyMZksTEpg0ky3AwmC2VQdyAKpQwGA5IMhJXrT7crx32H2/flfT/vHzJ93/ebTj3P+XWenvM8APzn70EsFhO/SCQS6XS6Wq1qtdpSqcTzPMuyyWTyNl/ymUiv10ulUofD4XQ6cRz3+Xy30dVqlc1mIYSHw2E4HLbb7dsodtdotVqbzaZSqbwbvV6voVDodDoBADabzXa7nU6n39dLEMRsNkPv6fV6NE2zLMswzPeKu5AkWSgUIpGIYBwMBnK5HABgMpkoinpSCgBQKBQYhlEUhRAKBAI/vyj6Irbf73meF4oNh8Mi0VfJjyGXy1utFkLI4/G8TAoAMBgMDMMsFotisRiNRjHs/p95GAjhbrcTmhaPxzUazWu8ZrO5Xq8L3nw+r9PpXuPFcTwYDF4uF4RQo9F4jVSA4ziEEMdxLpfrbsKns/8nFovF7/fbbDaJRAIAGI/HnU7n+acZjcZcLrder3+P7Pl8pmn6SZ1arY7FYvP5/HYJ9Pt9r9f7jE6lUrnd7tFo9GGnQAifGS2CIMrl8oct1e12SZKUyWQP6+x2e6VSWS6Xt7rj8ZhKpYQV9UPedR9CCCEUzpPJpFarIYQymcxut3v4gf8wb5vwG2+h9UGFAAAAAElFTkSuQmCC\"/></td><td style=\"padding:1px;\"><img width=\"128\" height=\"128\" style=\"image-rendering:pixelated; object-fit:cover;\" src=\"data:image/png;base64,iVBORw0KGgoAAAANSUhEUgAAABwAAAAcCAIAAAD9b0jDAAAB8ElEQVR4nO3Su4vqQBQHYMfCgKQTCyGW2i0EA2JAsEwRy8Q/RLDQSrSwsjCdVUAIVjaxsxAfQcHGdJYaRDGFD7ASzjFbhCt7110f64Xb7K+bmZOPkzPj8fzm/4bjOFVVEVFV1Vgs9g9ElmV3ux38yXa7fVWMx+PL5RIRAWC/39u2DQA8z/t8vp9wfr8/mUwuFgsAcNHJZCJJkrssFArXn3jvovV6vdfrMQxz2YnFYjRN9/t9j8fz9vb2NMpxnCiKhBBCyGAwyOVyhJDNZjOdThVF8Xq9hJC7bf2VjzfTbrdpmhZFMZ/PB4NBtwARj8fjE88gGo1qmoaItm2bpilJ0nWNO2JN0x4SKYrSdR0ADoeDIAiBQODjTD+hw+HwIZTnefevU6nUjbLn0NFohIjdbvd2meM4iGgYxqf9L24/nU6zLOs4jq7rt9Hz+ew4jmma99uUZRkA1ut1KBT6roaiqEqlgoidToem6UfR+Xx+QyyXywBgWZYgCPfFC1qr1b48ZVlW0zQAaLVaD3FuMpkMIlqWdX2UzWZ3ux0iNhqNJ8RLp6fTSVEUlmXD4bAsy7quW5aFiPP5vNlsJhKJn6BuVqvVbDa7LA3DKJVKz3FuGIYZj8eu4j5vALBt+7spP5pQKFQsFi9otVqNRCIvib95Me/8RUrNjUX6NgAAAABJRU5ErkJggg==\"/></td><td style=\"padding:1px;\"><img width=\"128\" height=\"128\" style=\"image-rendering:pixelated; object-fit:cover;\" src=\"data:image/png;base64,iVBORw0KGgoAAAANSUhEUgAAABwAAAAcCAIAAAD9b0jDAAABlklEQVR4nO3Ur6vCUBQH8HMPY2BRFOQGRVgQ20wGDSIMRGxaZ1bw3zAJZpNJk02TwWRzOKMLKoJDQdtAUATZXhDU54/r3jC9975p9+zuc8/gcAH+8/sjSdJms4lEInd1vF0kk8lcLmcfjcViqqo+1r+hqVQqn8/bFBFREIRQKEQIYe2bz+etVssmGggETNNsNptvOkXExx2v0mg0AGA2m7FQURQppfZRj8cDAP1+n4Vms1mXy2VTpJQKggAA6/WahZ4nYzKZ2EFrtRqldDqd7na7x7fc3Xo0GjEst9udyWQKhUI6nQaASqViGMZ71OfzXZ6j0SgiSpIUDAZ5npdlGREPh4OiKMfjkeO48Xj89OzriNXr9VKpZBiGruvniiiKhJDT6bTf7zVNUxRFVdXBYLDdblerldfr5Xn+KXrttFwuL5fLRCJxqei63u12NU0bDoe33xSLRb/fv1gsnooO0263TdOsVquvNvxg2u/S6XQ+jzLiECWEhMPhD6OWZTEuCue/H4/HP4yy71AnaK/XsyzLWTd/IV/VrISFLCLl1wAAAABJRU5ErkJggg==\"/></td><td style=\"padding:1px;\"><img width=\"128\" height=\"128\" style=\"image-rendering:pixelated; object-fit:cover;\" src=\"data:image/png;base64,iVBORw0KGgoAAAANSUhEUgAAABwAAAAcCAIAAAD9b0jDAAABKElEQVR4nO3UoYrDQBAG4KGmFYWYQOSuq80DhLSEPEBtTIjsQ5Q8QXxERV4gD1ATEShxUTERiVvVRkQUKoZhTyyFg1PXzplyv979dmB/BuA/n5zj8UhEWuvtdssjJklyv98RkYh83/95YPECKoRYLpdvz/YtYRhO04SIXdcJIVar1bui53lKKURExDiOOYYEOJ1OREREVVXxiLZtExEi3m63IAgYRCll27YGTdOUQQSAw+FgOnQ+ny3LYhD3+/08z4hY17XjOAyilJKeKYqCQQSAPM/xmc1mwyC6rjuOoxHLsmQQAeB6vRrxcrms12se1HQIEaMo4hGLotBamy8SQjCIrusqpYjo8XhkWcawOABgt9uZtg/D8Nu7r+zT19G+75um+YsnPz5fGjKxvq7r4c4AAAAASUVORK5CYII=\"/></td><td style=\"padding:1px;\"><img width=\"128\" height=\"128\" style=\"image-rendering:pixelated; object-fit:cover;\" src=\"data:image/png;base64,iVBORw0KGgoAAAANSUhEUgAAABwAAAAcCAIAAAD9b0jDAAABk0lEQVR4nO3Ur6vCUBQH8DkUFGVYHCaLS/sHrhbBtKTGFYP/gEEQbAPBZBF0f4SaltQyEcRgXRFtaphgUhCD5+ALh2d5IPfKeMlvuwfu5x7uL0n65pv/D2PMtm3P8xARERuNhmmatm0zxj4UTdM8nU4AgIiu63qeBwA0HA6Hwlw4HM7n89frFQDm83mxWIxEIolEYjKZENpsNoXRWq1GTU2nU0VRqFitVqm43+9TqZSY2Ol0EBEA+v3+S5QkabPZEFqpVMREy7IQ8X6/O44Ti8WoGI1Gy+Xy7XZDxHa7LSYmk0k6GcdxXkVN09brNfU4Go3i8bgYqqoqTc5kMqqqtlqt1Wp1uVxoNx6PR6lUEhOpU9/36XzhN4fD4Xg8AoDv+8IihTF2Pp8RcbvddrtdXdfT6fRisQCAXq/3Ifo3hULh+XwiYr1eDww1DIN2Q/huvg8/KnOKhmHwL8+LZrPZ4NHlcinLcigU4qe5stvtACCXywWJ0qfluq6u64GhiqLMZjMAGI/Hwm//vTsYDAAgyGY58wOibf6AWXkq6wAAAABJRU5ErkJggg==\"/></td><td style=\"padding:1px;\"><img width=\"128\" height=\"128\" style=\"image-rendering:pixelated; object-fit:cover;\" src=\"data:image/png;base64,iVBORw0KGgoAAAANSUhEUgAAABwAAAAcCAIAAAD9b0jDAAACI0lEQVR4nO2Uv+txURzHj8ev8pvCJAllMVAsLJQiJYuwWSgGExvKxGKxsLDYyMId5A9ASZSFUtS9RZbb9SPRuXmG2yP1jS+e5Xnq+5rOvfec131/zr2fA8AP/wW0t2bz+Xwej+d2u2UyWaFQOJ/Pf/VylUpVKpUmkwn8Q7FY/Fyn0+nK5fLhcIAQkiS5Wq2m0ymEcLPZ6HS6t3VCobBcLuM4fks3m82USqVWq6UurVbr29JQKATvmM/nCoUCAPCt9NcTqc/nowar1arRaDgcDhRFAQDfVs148iwcDkcikW63u1gsttvt7b5cLn8u/YRKpfK8/GdJ74nH41wul0ajXa9XvV4PAOj1ev1+/5NQHA7HZDK1222SJEmSvF6v1ADDMLVa/baOyWSazWYURSGE+/0ew7B6vb7b7ajC1+t1MplksVhvGFkslsfjodan02mLxQIAkEgk9x0FIfT7/Ww2+9WMuVyOWoYgiEgkAgBIpdLhcEiS5Ol0ymazzWaTmtDpdOx2u8FgMBgMD410Oj2fz0MICYKIxWJisRgAYDKZBoMB1VE2mw0AIBAInE5nrVYjCIKyL5fLh9JoNAoh3O12gUBAIpG4XK56vU41fiaToTrqnmAwiCAIgiBarfahdL1eQwiPx+NoNJrNZrftS6VSdDr9pe37yng8vv8UrVYrkUhoNBoG49U/Gnw9pPl8vtfrNRqN2+22Wq3iOH65XD4M+MO/zm/rjlZeqOP2ZwAAAABJRU5ErkJggg==\"/></td><td style=\"padding:1px;\"><img width=\"128\" height=\"128\" style=\"image-rendering:pixelated; object-fit:cover;\" src=\"data:image/png;base64,iVBORw0KGgoAAAANSUhEUgAAABwAAAAcCAIAAAD9b0jDAAAA4UlEQVR4nO2RLQ6EMBBGW7IKxQmABIdBYbHcBMUVOASOcByuQPgJDk2QuJnOCjZImCaTYPZTI15fp/2U+ueV1HVNRH3fB0EgYwzDcN93RASAPM85R5xHYtu2ruus9niWHsexrquw1PO8JEmEpa7r+r5/zmmainVVVdVZFACUZSkjVUpZSZ+f/+McR2uttebAH6bUGENE3A2YnFVelV5/mmWZ2OVX+wAQx/HDBkxp0zTXXBSFjHSeZyZpl2VZEBERiSiKohvSov1hGIiIiIwx96SFtG1bJmkhHcdxmiY+/49kvjUxasl01AsRAAAAAElFTkSuQmCC\"/></td><td style=\"padding:1px;\"><img width=\"128\" height=\"128\" style=\"image-rendering:pixelated; object-fit:cover;\" src=\"data:image/png;base64,iVBORw0KGgoAAAANSUhEUgAAABwAAAAcCAIAAAD9b0jDAAAB4UlEQVR4nO2UMa/BUBTHbwVlqTBZmpgs1YFNECSkCT6ARC0MjcHuO9gsjUE/ARIGIiLxASSasFhEEAODpB1KcqVvuEmfV9X3+saX95vuPe393/859+QA8M8fIRgMUhRVq9VUVX18pd/vO51Oa3IURTWbzd1ut9/vIYSPxwO+IAgCQRAWRIfD4fN5Q1EIYSwW0x20m4hOp9NcLgcAOJ/PgiBgGKaqKgAgGo0mk0lrWX9eaLeTJEmSpN/vf44TBIEKAiHsdrs4jltwCiE8HA6vcYZhvF4vWh+Px/v9/kvXGsVicTabaQW19kqvlEql9XqtKIqmuFgs3G73659m6QcCgXK5nMlk0DYej6OHAgBIktRoNEajkaIoFnzRNL3dbt+11GAwMDlrM/mGfcVms2nrQqGAus2Qt+mvVqtUKsWy7GQyud1uWrxardbrddMkrePxeFAFTJyapW8IwzC/8eJwOPL5vGGvVCoVSZK+daonkUiMx2MIIUmSz3Gfz8ey7PV6RYqyLKfT6XcimG4vimIoFAIA8Dwvy7IWz2azkUgE9el8Pud5vtfr/dSpKIqG8w316el0arfbLpfrp3KIcDjc6XR0cpvNZrlctlotmqatyWngOM5x3OVyQZON4zjd6PvHnA+P6FdO5na6vgAAAABJRU5ErkJggg==\"/></td></tr></table>"
      ],
      "text/plain": [
       "<IPython.core.display.HTML object>"
      ]
     },
     "metadata": {},
     "output_type": "display_data"
    }
   ],
   "source": [
    "# Load MNIST dataset\n",
    "ds_train = torchvision.datasets.MNIST(root=\"./data\", train=True, download=True)\n",
    "ds_test = torchvision.datasets.MNIST(root=\"./data\", train=False, download=True)\n",
    "\n",
    "# Convert to jax.Array\n",
    "x_train = jnp.array([y.resize(spatial_dims) for y, _ in ds_train])[..., None] / 255\n",
    "x_test = jnp.array([y.resize(spatial_dims) for y, _ in ds_test])[..., None] / 255\n",
    "\n",
    "# Visualize\n",
    "mediapy.show_images(x_train[:8], width=128, height=128)"
   ]
  },
  {
   "cell_type": "markdown",
   "metadata": {},
   "source": [
    "## Model"
   ]
  },
  {
   "cell_type": "code",
   "execution_count": 4,
   "metadata": {},
   "outputs": [],
   "source": [
    "vae = VAE(spatial_dims=spatial_dims, features=features, latent_size=latent_size, rngs=rngs)"
   ]
  },
  {
   "cell_type": "code",
   "execution_count": 5,
   "metadata": {},
   "outputs": [
    {
     "name": "stdout",
     "output_type": "stream",
     "text": [
      "Number of params: 2499689\n"
     ]
    }
   ],
   "source": [
    "params = nnx.state(vae, nnx.Param)\n",
    "print(\"Number of params:\", sum(x.size for x in jax.tree.leaves(params)))"
   ]
  },
  {
   "cell_type": "markdown",
   "metadata": {},
   "source": [
    "## Train"
   ]
  },
  {
   "cell_type": "markdown",
   "metadata": {},
   "source": [
    "### Optimizer"
   ]
  },
  {
   "cell_type": "code",
   "execution_count": 6,
   "metadata": {},
   "outputs": [],
   "source": [
    "lr_sched = optax.linear_schedule(\n",
    "\tinit_value=learning_rate, end_value=0.01 * learning_rate, transition_steps=8_192\n",
    ")\n",
    "\n",
    "optimizer = optax.chain(\n",
    "\toptax.clip_by_global_norm(1.0),\n",
    "\toptax.adam(learning_rate=lr_sched),\n",
    ")\n",
    "optimizer = nnx.Optimizer(vae, optimizer)"
   ]
  },
  {
   "cell_type": "markdown",
   "metadata": {},
   "source": [
    "### Loss"
   ]
  },
  {
   "cell_type": "code",
   "execution_count": 7,
   "metadata": {},
   "outputs": [],
   "source": [
    "@nnx.jit\n",
    "def loss_fn(vae, image):\n",
    "\t\"\"\"Loss function.\"\"\"\n",
    "\timage_recon, mean, logvar = vae(image)\n",
    "\treturn vae_loss(image_recon, image, mean, logvar)"
   ]
  },
  {
   "cell_type": "markdown",
   "metadata": {},
   "source": [
    "### Train step"
   ]
  },
  {
   "cell_type": "code",
   "execution_count": 8,
   "metadata": {},
   "outputs": [],
   "source": [
    "@nnx.jit\n",
    "def train_step(vae, optimizer, key):\n",
    "\t\"\"\"Train step.\"\"\"\n",
    "\timage_idx = jax.random.choice(key, x_train.shape[0], shape=(batch_size,))\n",
    "\timage = x_train[image_idx]\n",
    "\n",
    "\tloss, grad = nnx.value_and_grad(loss_fn)(vae, image)\n",
    "\toptimizer.update(grad)\n",
    "\n",
    "\treturn loss"
   ]
  },
  {
   "cell_type": "markdown",
   "metadata": {},
   "source": [
    "### Main loop"
   ]
  },
  {
   "cell_type": "code",
   "execution_count": null,
   "metadata": {},
   "outputs": [],
   "source": [
    "num_train_steps = 8_192\n",
    "print_interval = 128\n",
    "\n",
    "pbar = tqdm(range(num_train_steps), desc=\"Training\", unit=\"train_step\")\n",
    "losses = []\n",
    "for i in pbar:\n",
    "\tkey, subkey = jax.random.split(key)\n",
    "\tloss = train_step(vae, optimizer, subkey)\n",
    "\tlosses.append(loss)\n",
    "\n",
    "\tif i % print_interval == 0 or i == num_train_steps - 1:\n",
    "\t\tavg_loss = sum(losses[-print_interval:]) / len(losses[-print_interval:])\n",
    "\t\tpbar.set_postfix({\"Average Loss\": f\"{avg_loss:.3e}\"})"
   ]
  },
  {
   "cell_type": "markdown",
   "metadata": {},
   "source": [
    "## Visualize"
   ]
  },
  {
   "cell_type": "code",
   "execution_count": 20,
   "metadata": {},
   "outputs": [
    {
     "data": {
      "text/html": [
       "<table class=\"show_images\" style=\"border-spacing:0px;\"><tr><td style=\"padding:1px;\"><img width=\"128\" height=\"128\" style=\"image-rendering:pixelated; object-fit:cover;\" src=\"data:image/png;base64,iVBORw0KGgoAAAANSUhEUgAAABwAAAAcCAIAAAD9b0jDAAADGElEQVR4nO2UzUrrWhiGk6wkTZukFiOWVlq1iJFiR+IgxIHozIlX5Mxb8QociSAWqRNF0UgHCila2hJStbFp87OysvYgKOw0u7o5cODAeUcJ4Xt4v2clIYj/858IOe0ZSX5dMAxDfgYAACEMgiAIgr+DUhQFAGBZVhCEQqGwubm5vLycTqdJkvR9X9O0m5ubVqvlum4YhrFZOpFI0zTDMAzDVCqV7e1tVVVXV1dFUWQYxrIsy7LK5fLKysrR0ZGu6z+CkiRJUZQkSbIs7+3tbW1t5XI5y7IcxwnDEEIoiuL8/Hyr1fI8D2Oc0CmRCACQZVlRlFqtJoqiZVn1er3ZbHqet7GxoSiKIAgYY9/3kxf9k9AgCHie53ne9/3b29vT01PbtnO5XDqdliTp9fX17u7OcZyvw/xtPHaPMQ7DECH0/v5u2/bb29vT01O9Xu/1egihTCZTq9Xm5uaCINB1HUIYrR9DJzeFEJqm6XleJDGdTguCsLS0tL+/X61WCYLQdd2yLIRQpCtmNt70q6zjOKPRyHVdjPHs7GyxWNzd3d3Z2eE47uXl5f7+HiHEMEwqlQIA/Mgpxth13YeHh1KptLi4uLCwUCgUqtWqIAgURRmGoWnax8cHQRAcx4Wf+eqbDI0MPD4+iqKIMRZFsVQqSZJE0zSEsNPpGIaBMUYI2bb905c/Kut5nmma19fXxWIxm83yPI8x7na7x8fH3W7XcRyEUISOzSY4jRKG4Xg8fn5+vry81HVdFEWe50ej0dXVlaZpw+HQdV0IIYQwtvs0aFR2PB4jhGZmZtbW1rLZLADg/Py83W57nocQirG+X58giOgnxLKsqqrlcpmiqH6/32g0IIRTpr4PAGB9fb3ZbEIIbds+ODhgWfYfEaOah4eHw+FwMBg0Gg1ZlhO/y1imOSUIguM4RVEymQxN02dnZ51OJ1Hi30Hz+XylUsEYDwaDi4uLSSJFJRCmQQEAqqoKgoAQMgyj3+8nHtGkkGmnT5LkaDRqt9s0TZ+cnPR6vUkoSZKT9b+xDgDI5/OpVMpxHNM0Jz+efy+/AGGnylmoY5g/AAAAAElFTkSuQmCC\"/></td><td style=\"padding:1px;\"><img width=\"128\" height=\"128\" style=\"image-rendering:pixelated; object-fit:cover;\" src=\"data:image/png;base64,iVBORw0KGgoAAAANSUhEUgAAABwAAAAcCAIAAAD9b0jDAAAEgElEQVR4nO1VTU/bShT1eMZfg3EyIXWc8FVU0goEIVCpUlWEBP2rXbFE6rZSxYYNiFZ8CIk2qHFNoMFx4thxbM+4i9GD15BXvfdWb/HuwrJH46Nz7z3nXkH4Px4FAOAfnY9ee/ybJEmSJMmyLMuyoigQwkKhkKZpkiSSJPm+HwSB53lpmmZ/xAgIenhDCCGEMS4UCvPz8/V6vV6vi6KYJMnExES73VZVFWMcRdHl5eXu7q7jOFEUUUp/BwoAwBgvLy+/fv361atXtVpNUZQ0TXu9HiGEUhqGYRiGkiQtLCzYtv3hw4dWq0UpfZz+A2iWZaqqrq+vb25uVqvVYrEYBEGj0bi6unrx4oVhGL7vp2lqWVa5XH779q1t251OJ0mS34FCCCcmJjDGlmXpuh7H8cXFxfv378/PzxFCc3NzGOPp6WkIoWmac3Nz9Xrdtu1GoxHH8UhlH0AZY5RSQoimaUEQNJvN3d3djx8/hmHIGHNd1zTNLMump6clSSoWi9VqdWNjo9/v//jxYzgcjmcqSRIhBCE0GAwEQeh2u3d3d6IoYow1TXvy5EmlUiGEDIdD27YppZOTk4qi6LrebrcBAL8wFUWRMcZPGWPNZrPRaJTL5TiOCSHLy8uCIFQqlWKxWCqVTNP0PC8MQ0ppHMeKoqiqCiEc0S9ijPEupWnquu7379+/fPni+z5jbHFxkTGmquqzZ89mZmZUVfV9v1wuZ1lWKBR6vV4URTc3N61WK0kSzmk0/TRNO50Ob0u5XN7a2qpWq5qmMcZKpVI+nw+CwPd9jDGllCe+urrKa3p2dtbr9caAZlkWBIFt2wAARVFOT0/z+fzU1JQsy5IkpWnqeZ7ruqIoDgaDKIoghISQnZ0dhNC7d+9OTk7u5fUAKggCpTQIglar1Ww2e71esVisVCqyLDuOw70kimIcx4IghGGoaRrXLKX006dPX79+HQ6HnOwvoIIg8I5x53S73VwuByF0HOfi4iIIgiiKuPcrlcr29rZlWaqq6rq+tLS0v7/ved4YpryJlNIoikqlUqFQMAwDY3x1dXV+fu66bpqm/X6fMdbpdJaWltrt9szMDCHk5cuX+Xz+XlWjTBFCmqYBAAzDWFxczOVyt7e319fXvu/HcQwAEEVREARZljVNy+fzuVxOVVXLsjRNGyN+zhRCqCgKAIB7JkmSdrut67plWTc3NxBCXdcRQrVabWFhwTRNWZazLIvjeDAY/CVTSulwOOTlM00TY/z8+fM3b944juN5HmOMz6q1tTXDMKampqIo6vf7h4eH3759Gw/KBRwEAaX06OhodnZ2e3t7bW1NkiTXdQ3DoJRyHydJ4jhOkiS2bR8fH+/t7fX7/fHpZ1nGvQEhHAwGjUZjZWWl0+kQQjDGqqpSSkVRDMPw7u7u8+fPhBDbtvf29g4ODvjEuC8jGBndoigqioIQIoSsrKw8ffp0dna2VCrVajW+Ts7OzprN5snJiaIot7e3x8fH3W73z9N6/CLjLeZPfhsAAACQZZl/cpEzxsbuqH8ff3Oz/rfjJ9i6nyx/pGTdAAAAAElFTkSuQmCC\"/></td><td style=\"padding:1px;\"><img width=\"128\" height=\"128\" style=\"image-rendering:pixelated; object-fit:cover;\" src=\"data:image/png;base64,iVBORw0KGgoAAAANSUhEUgAAABwAAAAcCAIAAAD9b0jDAAAD8klEQVR4nO2Uy0s6XRjH58zdaXTMW2omXqLIAa2FIJZ0sVXQImgt0f/UX9HeTRAuDAvtAglKKJVajiamOGrjXM67cFO+Vj9+2/d9FgPnzDkfvt/nPM+DIP/pAH9yCMMwmqYpiiIIQtM0BEEghBBCURRlWR7v/AQFAEAIPy9JknS5XLFYbG1tzW634zguCIIgCMVi8ebmRhCEwWDw+QqCIPivGlmW5Xl+c3MzEolYrVYI4evra7lcVhSlWCxiGDahYwr0828URW022+7ubiKRWFlZYVlW0zRVVXU6ncfj0TTt/v6+Xq+jKDrOxu9KAQAURcVisYODg0AgMDMzoyhKpVJBEKTf70MISZJcXFwsFAr9fl9V1T+yj6Ko0+k8PDyMRCIsy3a7XUEQUqkUQRAcx3m9Xq/XG4/Hn5+fG43GxN3pUAAAy7I7OzvBYJBl2X6/f3Fxkc/nc7kcRVGBQMDn8xkMBp7n4/F4Op0WRfF3KI7jgUDg6Ohofn4eANDtdlOpVC6XEwTBaDQyDFOv130+H03TS0tLNE1PvBU61bjJZEokEjzPYxjWarWy2ez19XWlUun1eoPBoNVqlUqlTqeDYZjZbLZYLAB8Kc0pUIqiwuHw9vY2juOSJD09PSWTyWazORqNEARpt9uFQqFSqRAEQVGU3W73eDwo+oUzaR8AYLFY9vb2TCaTKIrNZjOTydze3vZ6PVmWURQdf9/e3prNpslkkiSJYRgMwxRF+VYphmE2m211dXV8tFqtptPpVqs1lokgCEmSdrs9HA7Pzs4SBCHLMgDgF/sYhlmt1nGdj0ajUqnUaDRUVdU0bfwaDMOEQqFQKMQwDIIgEEJJkibsf12gKI7jbrfbZrPhOD4cDsvlcrPZlCRpPDUoinK5XMFg0O/3cxynKEo+n394eJBl+ducQghRFDUYDJqmKYrS6XTGfgmCQBCEpmm/3x+LxYLBoF6vVxSlVqudn5+/vLz81FEQQlmWJUkajziDweBwOKxW63A4JAhiYWFhf38/Go26XC6DwdDpdIrFYi6X6/f7Ezn8AgUAaJpWq9UEQTCbzRzHbW1tAQDa7bbFYnG73TzPOxwODMNGo1GxWEwmk5VKZULmFKWqqpZKpcfHR5Zl5+bmlpeXOY4zGo00Tet0Ok3TSJIURVEQhHQ6nc1m39/fJ+beJHTMrdVqp6enTqfTbrfr9XqKohiGgRACAAaDgSiKd3d3Z2dnyWSyWq2OS+3f3MlAUdRsNh8fH19eXjYajW63q6qqqqqiKF5dXZ2cnESjUbPZjOPfj83puwDgOG40GtfX1zc2NobD4cfHRyaTKZfL7XZ7OBx+7p+/jImG+T9+jn8AvAP+ws7zga8AAAAASUVORK5CYII=\"/></td><td style=\"padding:1px;\"><img width=\"128\" height=\"128\" style=\"image-rendering:pixelated; object-fit:cover;\" src=\"data:image/png;base64,iVBORw0KGgoAAAANSUhEUgAAABwAAAAcCAIAAAD9b0jDAAACRElEQVR4nO2VvU7rMBSAYzukahxHKmoypCUiIAbUpSzZEM/R56l4jz5GNtiQKqBVYWsF5adRpIRAVSInNLbv0LnOvTBcXeme1T6fv3NkHyvK//grAQAAAPzBfskahLBer+/t7Z2cnBwdHdm2rWlaEAQ3NzeLxaIsy+8IIoTa7fb5+flkMpnP55RSSun9/X2/33ddFyG01UYCFUIAADDGqqpyzimlWZaZptnpdDzP29nZ2ZaoymUhhO/v78/Pz3Ecu67barWyLHt8fEzTdL1efxNaFMXLy8t6vZ7NZr7vQwhVVS3LMk1TxthWFQlRCJFl2Wg0mk6nuq47jmNZlqIoo9EoSRJZfXJTxhhjDCF0fHzsOA6EMAzD6+trSe3VppxzwzAsy/I8zzCMNE2DIFgsFpxzSWJFT4UQGGNCiG3beZ7PZrPb21u55m9B4ziGEO7v72OMTdPUNE2uqVT2lHP+9vbGGNM0rdlsHh4etttteUo1VAiR5/nr6+vd3d3Hx4cQghCiqlW3u/LYr6+v+Xx+eXkZRdFyuTw4OMAY/wjKOeecZ1m2Wq0+Pz+LoiCEEEJ+alqW5WZWUUqTJMEY12o1+SSs6A5CyDCM3d1dhFCj0dB1PQzDMAyFEN80hRASQlqtluu6GGOMMWPs4uKCUipX2WoKANB13ff9Xq/X7XY3vuPx+OHhQa4pgyKETNM8PT09OzvblD+dTgeDQWXtFaYIoaenp+Fw6HleFEVXV1fD4bCSqMj/KEVRIIQY480T2OAkY/QfjF/ObCSiYToVIwAAAABJRU5ErkJggg==\"/></td><td style=\"padding:1px;\"><img width=\"128\" height=\"128\" style=\"image-rendering:pixelated; object-fit:cover;\" src=\"data:image/png;base64,iVBORw0KGgoAAAANSUhEUgAAABwAAAAcCAIAAAD9b0jDAAADoklEQVR4nO2VvU/yXBjGe3pairZQhFYgjUEgmqgJmCCRRBYXBxOdNHHQwTg5+Vc4Oju5GCfj4EecHIxgMEZNUCSaBrWkaCQgbfELCrTvwBvzPLzwhLzzc033cn7nuq+cc98I8lf/SyiKAgDqBYSwXtcFWp9qIgzDDAYDRVEsyzIMg+M4AMBgMAiCUCgUJEkqlUoIgmBt4nAct1qt4XC4t7d3aGgIwzC73W42mwEAqVRqd3c3Ho+/vb39e3ebBjmOW1hYmJ2dZVmWIAgAgKIouVzu4eHh/v5eEIRcLletVtuFQgg5jltaWpqfnzebzRRF1Wq19/f3ZDIZi8Xi8TjP85lMplQq6breFhQAYLVaFxcX5+bmGIYpFos8z0ej0Xw+//HxcXx8LAhCuVzWNO23zv5MpChqfHx8amrK4XAUCoVEIrG+vn59fY0gSHd3d4PBtqAGg2FkZGR5ednj8VSrVUEQ9vb2ksnk9/d3rVYDAPyE2CC0FRFCaLfbZ2ZmBgcHAQCyLEcikaurq0qlgmGYruuqqhIEgaJNCC2d1m2Ojo7SNK1pmizLlUrF4XAgCGI0GvP5vKIo5XK5Vqu1CwUAWCyWcDhss9k0TctmsycnJ5Ik2e32iYkJv99/fn6+ubkpy3LT482hEEKSJEmSVBQlk8mcnZ3FYrG6WZqmA4GA1+sNhULPz8/lcrktKAAAx/GOjg5d129ubk5PTyORiKIo9ShRFPV6vRzHBYPB/f39tpwCADAMMxqNBEFcXFy8vr7yPJ/NZlVV1XUdQuhyuYLBIMMw0WgUw5o3ijUQSZKkKApBEF3X7+7u0um0JEmqqiIIUn/hFEXZbDYIYSKRaCtTHMdZlnW5XDabDcdxURRLpZKmaZqm1TPx+XwrKysMwyQSiYODg6aB/gZFUdRisbAs6/f73W43QRCPj4/1MQEhxHE8FAqtrq7SNJ1KpdbW1tLp9H//UiMUAKCq6tfXF47jbrebJEld18fGxkRR7Ozs9Pl809PTTqdTluXDw8PLy8umL7QRqmna5+dnsVjs6urq6+sjSdJsNg8PD6dSqUAgwHEchDCTyezs7GxtbUmS1MpmY6b1z8fz/NPTk8vlslgsJEn29PQ4nU4I4cvLy9HR0fb2tiiK1Wq1YTL9ql8WCwD13eBwOCYnJz0ez8DAQH9/P03TuVwuHo9vbGzc3t4WCoVWc6QJ9EcoippMJpZlTSaT0+nEMCyZTIqiWKlU/tDyX/3oHyceuhllasCpAAAAAElFTkSuQmCC\"/></td><td style=\"padding:1px;\"><img width=\"128\" height=\"128\" style=\"image-rendering:pixelated; object-fit:cover;\" src=\"data:image/png;base64,iVBORw0KGgoAAAANSUhEUgAAABwAAAAcCAIAAAD9b0jDAAACxElEQVR4nO2UTUvrQBSGZyaTaZJpMTTFjyA2BREVrYQqVHAr+A9c+6P8Fa5dFSxU8ANcdCURiQbbRtMarI1NmtAkd5HljbV67+7es5w588x7zntmAPinA06ZNzMzI0lSFEWLi4uiKDabzdfXV9/34zj+PRl/fS2E2WxWVdXDw8NSqaQoSrvdvrq6Ojk5ubu7G41GP4ESQgqFwsrKSrVa3draghCyLNvr9QRBCMMw9chUSimlqqoihHRdD4Kg0Wg0Gg1N08bj8c+hkiSVSqW3t7fT09Nut1uv1w3DcBwntaEAAPQlcXZ29ujoaGFhgWGY9/d3TdNeXl4+s2gqKMZ4d3e3Wq0GQWDbdr/fb7fbvu+Px+M/ghJCMMa5XM6yLE3T+v0+AGAC8QtoYtHm5mYURY7j6LpumibDMAghCCcN+CSjEEL5fH5jY4NlWcdxBEGoVCq+7xuG8fj4OBgMoij6NhRjvLq6Oj8/PxwOLctaX1/f2dnxPO/8/LxQKDSbzV6v9xOlAIBWq0Up5XkeIWSaJqV0f3+/WCw+PDx8GwohZBiGZVnLsnzfH41Gw+FQ13VZlg8ODkRRnNDWSUrDMAyCIJ/P39zc1Gq1TCYjy7KqqqqqSpKUy+UQQqltneR+HMcQQtd1Ly8v7+/vn56eMMaKohBCgiCI4/jbLwpCyPM8pdQwjG63SwjhOI4QIooix3GdTqfT6XwGTS8fQigIQrlclmX54+NDUZS9vb04jre3tymlruvW63XXdT8TlAJNLOJ5nmEYAMDa2lq5XF5eXs5kMtlslmXZWq12fX2d7E4LRQgRQhLo3NxcpVJZWlpKyvc87+Li4vj42LIsjuMGg0EqNKWnYRiGYeh5XqvVMk3Ttm0AAMMwnufZtn12dnZ7e/v8/Jysp0b6rCVjjzGmlBaLxcSiIAgghJqmOY4ThuHkP+V//OX4BeYUUCxG/n4gAAAAAElFTkSuQmCC\"/></td><td style=\"padding:1px;\"><img width=\"128\" height=\"128\" style=\"image-rendering:pixelated; object-fit:cover;\" src=\"data:image/png;base64,iVBORw0KGgoAAAANSUhEUgAAABwAAAAcCAIAAAD9b0jDAAADIUlEQVR4nO2UT0/qTBTGmZkO2EJbLCh/FARiiVZJNEaNO127duHKxE/kB3Dr2m+gidHEFStNG40lBJAAKYlVS0uZzl00IXpfBN57N+/iPas2M+d3nnPmmQkEfo5oNDr8VhRlzM7fAoxfZllWkiQAQLfbdRyHEDI9ekQghCRJOjk5ubq6Ojs7UxRFEASGYabJhT8uQLizs7O7u5vL5Xien5+fJ4R4njcNdFxljuMEQcAYVyoVVVUty6KU/pVSP3ietyzr7e3t8/NzSuKPUIRQJBLZ3NxcXFxkGEbTtF6vNyXxRyilNBKJxGIxCGGv1+t0OlNOcxwUQhiPx0ulUjgcNk1T1/Xpex+nNBwOi6LoOM719TWlFMIJ058MBQBkMpl0Oo0xbjabX2UCABBCDMMghDDGCKF/1hthKT9tYWHBtm3TNA3DQAhRSgEAEMJUKnV4eJhMJl9fX9fW1h4fH+/u7jRN+zr00T5lWbZQKGCM2+22ruuu62KMg8HgysrK6elpqVQSBKHdbi8tLcmy7HmeruuO4wwbGg3lOE4UxX6/PxgMKKUzMzMY4729vePj4+XlZQCAbdssy4qiODc3x/M8wzCu6w5fhhFQSmmv17Msi+f5aDQqSZIgCJlMZmNjI5FI1Gq1arXqOE4+n08kEsFgsFAoFAoFTdPGQX0uIYRSynGcLMuEkK2trWQyGQqFNE27v7/neR4AMDs7G4/HDcMIh8MIIQCAP4HR0H6/32g0HMcJhULr6+ue5xFCDMNotVq1Wg1jLAhCOp2GENbr9U6nY1nW1/TRUNd1DcMghPhXwPM8VVX97ra3t1mWzWazvkZVVSuVSrvddl13wkERQm5ubvb393O5nCAIiqLk8/lUKhWLxYbWaTQa1Wr14eHBP/rJ9xgAwHHcwcHB+fn58/Nzq9V6f393Xdc3g+u6zWbz4uLi6Ogom8363pjcvm+AcrksSZIoiqurq6lUKhAI2Lb98fHx8vJye3t7eXn59PRECPErfdM0Xi/LssVisVgsyrJsmqbjOOVyuV6vd7vdwWDwr56ub1wIIQBg+PsnlP/jPxq/AIsBjJMRjUbgAAAAAElFTkSuQmCC\"/></td><td style=\"padding:1px;\"><img width=\"128\" height=\"128\" style=\"image-rendering:pixelated; object-fit:cover;\" src=\"data:image/png;base64,iVBORw0KGgoAAAANSUhEUgAAABwAAAAcCAIAAAD9b0jDAAABkElEQVR4nO2VvwrqMBjFvyRNm4jWpTpUdNRJGhFcfA1fzsU3ERxcdBQ6OAlS0EEiSostIekdhDu2Abvde+bDLyd/zheA/2payMqEkOd5nHPXdbXWr9dLKfXryhjjyWSy2WzO5/N6vY6iiBBS5beBGmMopYvFYjgcCiEAoCzLX6EAEARBq9UqikJKmSSJMabC7NgQEUJhGPZ6Pc/z0jR9v9/VfqukGON2u+04jjHmcrlorRuAAoAQglIKAIfDoXrvtlBCyHQ61Vo/Ho/T6VTrt4JyzsMwdF2XUiqlbAba6XQYYwBwvV4/n08z0PF47Pt+WZbH47EoigaghBAhhOM4eZ5vt9vaW7KClmU5GAwAQCklpazu0lf1j58Q0u/3pZTfOtX6rZJyzmezWRAEGOPb7dYMlDHW7XYJIVLKLMuagc7nc9/3tdZxHFuO0ZozJYQsl8s8z9M03e12ta23SkopjaKIMfYdVN/6/5qUUppl2fP5vN/vSZJUD/y/qvmjEEKj0Wi1Wiml9vt9HMc2jfrH9Qe4qafJjXZ+XgAAAABJRU5ErkJggg==\"/></td></tr></table>"
      ],
      "text/plain": [
       "<IPython.core.display.HTML object>"
      ]
     },
     "metadata": {},
     "output_type": "display_data"
    }
   ],
   "source": [
    "num_examples = 8\n",
    "\n",
    "key, subkey = jax.random.split(key)\n",
    "z = jax.random.normal(subkey, shape=(num_examples, latent_size))\n",
    "x = vae.generate(z)\n",
    "\n",
    "mediapy.show_images(x, width=128, height=128)"
   ]
  },
  {
   "cell_type": "code",
   "execution_count": 28,
   "metadata": {},
   "outputs": [
    {
     "data": {
      "text/html": [
       "<table class=\"show_images\" style=\"border-spacing:0px;\"><tr><td style=\"padding:1px;\"><img width=\"128\" height=\"128\" style=\"image-rendering:pixelated; object-fit:cover;\" src=\"data:image/png;base64,iVBORw0KGgoAAAANSUhEUgAAABwAAAAcCAIAAAD9b0jDAAABh0lEQVR4nO2Ur4sCQRTHx3URQdAiWETFoiAYLWLQsM2g3S0GgyYNWkyCdv8FuyYVwwZdWFjBYDaIYRGECQoGXffrhYXj4E527ph0d584896H9978IOS3kUqllstls9nkKVVVFQCAcrnMTVqv1y3LArBarbhJCSH3+51RKjAaC4WC2+1mDGaVRiIRl8vFWRqLxQghlmW1Wi3GFGfs0z+dTizBrJXaDAaDH5X0FdVqFcD1ek0mk9yks9kMwGg04mbMZDK32w1AqVTiY/T7/bquAxiPx+xXyoFut2s/+UqlwsdYLBYfjweAw+EQjUbZE192lE6nF4tFKBSaz+eKouz3+4+76/XaMIxvFCgIQi6XOx6PeM3lchkOh/l8nulDCAaDk8nks2W321FKdV3XNG2z2byvT6fTbDbrIO33+3a0aZrb7bbdbkuSFAgEPB6P1+sVRVEURZ/PJ0lSp9M5n8/P59M0zV6vFw6HX0rj8TilVFGUWq3m2FYikWg0GoZhUEplWXaewz9/gDdhHeiZ8/XRGQAAAABJRU5ErkJggg==\"/></td><td style=\"padding:1px;\"><img width=\"128\" height=\"128\" style=\"image-rendering:pixelated; object-fit:cover;\" src=\"data:image/png;base64,iVBORw0KGgoAAAANSUhEUgAAABwAAAAcCAIAAAD9b0jDAAABR0lEQVR4nO2Vv6qDMBjF41VwKDro1EUcjIJ9ACcnoVPBp/AFBN9AcOordOjiAzi5OQuOXRy0RWhBcXBxk9xB6FDrn9w63KG/Kcl3cnIC+QgAX76sCrFERFGUbdsvi1EUxXE8agoh1HV9WIMQWpYFACAIguO4l2rbtpvN5n2K4/H4eDzQHGmaBkEQBMF+vz8cDv3i2M2Ioihoms6y7KXgum7TNM9pURTX67Ufq6p6uVz6G7w1pQzDYBgmSZKxY4fwPA8AOJ/Py7fMIMvy7XZDCDmOM6b5wTXdbreCIExrsE09z5vVYJuSJLm+6RL+aNp1XVmW60TQNK2ua4RQVVUTMrykoigO+/VTsizrG9T3/QkZRtLdbseybD8Ow3AdU13X+wad5T89qdVQFCXPc4TQ/X6XJGlCueg7eSLLsmmadV2fTqfPEuLzC3PcjeNmkQnmAAAAAElFTkSuQmCC\"/></td><td style=\"padding:1px;\"><img width=\"128\" height=\"128\" style=\"image-rendering:pixelated; object-fit:cover;\" src=\"data:image/png;base64,iVBORw0KGgoAAAANSUhEUgAAABwAAAAcCAIAAAD9b0jDAAABuUlEQVR4nO2UPYvCQBRF364fKRIlYBSZTkxvYWmjf0FEG2sLtRCsLewEC0EELQR/g0UEK7UIfmAarRXBiM1YqJ0yky0GZAkrG7Pb7Z7yZeZwk0sewD9/lzfbNyVJAgBRFKPR6G63Y8P5fP6C1O1253K5VCqFEDIMAwA8Hg8A8DwvCAI7c71eRVF8IVez2SSEEEIopeQTlFKM8Xa7zefz4XCYHXZalB6PR9Ok0+lgjDmOq1Qq9/vdajpBEHRdNwxjOp16vd5qtaooSjab5TjOqsKE3+8fDofsBXu9nk2LiXK5zL7aaDRyOBwv3X1/9oCVCwCRSKTf78fjcafTagFPkWW50Wjs9/tH3e12+6dSRigUGgwGqqpSSimlm83md7wAEAwGNU07n8+EkFqtZkeRTCYDgYBpGIvFNE0jhCiK8q3hi6IymUw6nTYNZ7PZYrGwk5FBKR2Px4/2AUCSpMdv2mq1vjV8sVB0XUcIrVar9XoNAAihRCIBALfbrdvtFotFO0lLpZJpZRBCJpOJLMt2dAye5+v1uqqqh8Phcrksl8tCoeByuawbnu5TtoN9Pt/pdMIY28/4z6/wAYat3ciAPkKTAAAAAElFTkSuQmCC\"/></td><td style=\"padding:1px;\"><img width=\"128\" height=\"128\" style=\"image-rendering:pixelated; object-fit:cover;\" src=\"data:image/png;base64,iVBORw0KGgoAAAANSUhEUgAAABwAAAAcCAIAAAD9b0jDAAACNUlEQVR4nO3Tv2siQRQH8PGwiK4iCyproqJFFAkoRFwMmEIUXcXCFLFJIfiDFP4VsTEkYJEqWotFqjQKki6NLOpiCLuIoLFJsEuaKBKfe8Vynndyp2Gtcvct38x89r1hFqGvnK2trePjY57nZ7NZMBjcDHp2dgYAANBut/V6vVgOx/FCoTAajQBgPB4HAoENiNVqVejx8fHx4OBArKhSqeYix3FHR0diRYTQ1dWVIJZKpZ2dHbGcRCIJhUIMwwAAy7IajUasKJfLLy8vhR4fHh62t7fFigihSqUyfz0Gg2ED4snJyfv7u9Djp0TJnxa0Wm29XjeZTNPp1Gw2v7y8CHWv16tUKj0ez97eXqFQIEny9va22Wyu/pRarb6/vxcGbzQaQjEej7MsOx6P4de8vb2tNUcmkxEOMAyD4ziGYXd3d3MumUxeXFxQFJVOp/v9PgDk8/kVYjQa5TgOACaTidFo9Pl8k8kEAD4+PlqtFkEQEsnPS/P7/QCQSCQWhW/LaDgctlqtCKHT09PX11eKoqRSabfbjcViTqdzOBzyPD/frFAoEEIkSa7otFgsCmM6HA7hHjqdjtlsXt5JkuTz8zMAZLPZxbr0L7rL5drd3Z3NZqlU6unpSSjqdDqbzXZ4eOh2u+12O0EQ5XL5/Px83U7nGQwG9I/0er3FJZqmMQxbISKELBbLbyeXQ9P09fV1JBL5xI+rUCj29/dzuVytVptDNzc3qVQKx3Ecx2Uy2brW//xj+Q4oGnCKcDXBRQAAAABJRU5ErkJggg==\"/></td><td style=\"padding:1px;\"><img width=\"128\" height=\"128\" style=\"image-rendering:pixelated; object-fit:cover;\" src=\"data:image/png;base64,iVBORw0KGgoAAAANSUhEUgAAABwAAAAcCAIAAAD9b0jDAAAB3klEQVR4nO2ST6s5URjHJ8NJMUZmYeWUPyUrK8pWFkpszGuwVMoLUBYWFkSWYuMFzEZjI2XBQqY0LFjN0iyUURaGx29xSrp+9zLuXd3ud3F6ep7v+ZzvOR2K+g1CCMmyPJ/PEUI/Bq3VagAAADzPG9po+mIWDocpilJVdbPZfCvdTaFQaLfbAUCz2TS699OkDMM4nc73An11/bf1KbRQKJBiMpn8GNRisZBiPB4bhZr/20UIORwOiqI0TdN1/dHAcRzP87FYTFXVVqulKMrzowKBAPmhvV7vEdfpdGRZBoDr9QoAs9mMYZj3odlsdrVakZGu64IgCIKw3W7r9boBaD6fvzUrlYqmaSRgsVgMBoOkL4rifr/HGBtOmkqljscjAJTLZbfbTdP0zSyKIgD4/f4nUJfLJUkSAFwuF5/PhxA6n88AMBwOTaaPH0YURV3XvV7v8xeIRqMkbLfbTafTAHA6nRKJxL3HbDZjjEejUbvdfk68hwLAcrkk672BpulSqUQMkUjkJSjLsoIgwJ0Oh0Mul4vH4zabDWM8GAxIX5IklmVfghLuer2GBy0WC0VRSD2dTpPJ5KtEIo/H0+/3H7nkiavVqt1uN0YkslqtmUzmA7HRaHAc9w7uT79d/wB3mUnu2O/L+wAAAABJRU5ErkJggg==\"/></td><td style=\"padding:1px;\"><img width=\"128\" height=\"128\" style=\"image-rendering:pixelated; object-fit:cover;\" src=\"data:image/png;base64,iVBORw0KGgoAAAANSUhEUgAAABwAAAAcCAIAAAD9b0jDAAABq0lEQVR4nO3TravyYBjH8R02HFPGYIg6EAwrFoNlWCwKQ4MYxCqCRYN/i2nD+x8QhmARBBFBhBVFkyDTGW2+4EswyM8TniLnPEdUFk4433bvuvbhLjdF/fXXw8Lh8GAwAGDbNoDZbObz+d7naJpWVXW/3wMAYFnWarUC0G63aZp+R/R6vbquA7hcLoSQWCxGURTHcc1mE0CxWHxZ9Pv9tVoNgGEYsizfj2RZNk1zOp2+jBYKBQCNRsPlcn2f8jwvCMJroiAIu91uPp9zHPfTDsMwiqLwPP8sWi6XAVSr1Qc72WwWwHq9Zln2BVQUxZ8Wksnk6XQC0Ol0GIb5Mv16vk/TtMlkYhjGv6OqqpIk5XI5t9sdCAQ8Hs9wOMzn89fr9ambhkKhXq+Hh202G0VR/vv7xwNaFMVMJnP/xTRN27YrlYqmad1uN51OP3XHZyKEHI/HeDzumJhKpQ6HQ6vVckyMRCLn83m5XAaDQcdQQggAXdcdEymKGo1G2+02Go06JpZKpdvtpmmaYyLLsuPxGEAikXAM7ff7AOr1+vdH+X6WZS0WC0mSHBN/RZ9pKdnON4Ti4wAAAABJRU5ErkJggg==\"/></td><td style=\"padding:1px;\"><img width=\"128\" height=\"128\" style=\"image-rendering:pixelated; object-fit:cover;\" src=\"data:image/png;base64,iVBORw0KGgoAAAANSUhEUgAAABwAAAAcCAIAAAD9b0jDAAABlElEQVR4nO2UMc/BQBjHT/MGXYiLNJHYmPoBJL6DhGh8BEtnhu4GkdQgjU9AYvQFDKbOmAx2IlxKsNzTe4cGdSjn3d74Tc9de7/8n7teEfryP4nH45ZlAUC/3y+VSn9yKYpSqVQ6nc5sNqNn9vu9pmkfGsvl8mazoZQCAPUBAIPB4P79n5fGfD7f6/XC4fD7IaTgxxjjdrvNGR+mE5BalpXL5UJnVqtVtVodj8eXGULIO9mvZLNZbhMLhYJhGKfTyRsSQlRVFZPqus5JD4eDf6jr+sOFL9rniEajl7pWq3W7XbGYCCGM8f035BW2bUcikWcLg5Jut9vQLZIkeUU6ncYYfyJFCLFbXNf1ilQqlUgkPpHKsszNrNfrZrMZnOMFw+GQ21NCyHK5pJROp9NYLCZsNE3zeDw+O6jRaCRsVBQFAADAdV3wwRgDAMdxMplMwPKnPxTGGFcghLyDajQai8VCOGkymfQuD9e+4zj1el2SxK7MFU3TdrudX2rbdnDXb1EsFieTyXw+b7VaqqoGXKEvfn4BRDRd3TKUhEEAAAAASUVORK5CYII=\"/></td><td style=\"padding:1px;\"><img width=\"128\" height=\"128\" style=\"image-rendering:pixelated; object-fit:cover;\" src=\"data:image/png;base64,iVBORw0KGgoAAAANSUhEUgAAABwAAAAcCAIAAAD9b0jDAAACKElEQVR4nO2SzasxURjAD0PDaGgaH7GwsZKNslSi/AeaDX8ANSlLdiilWdjIgh0lNlazlJSShWJhw2xkIUmSpmkMOnMXeuXlXt157/K9v915Pn7zzDkPAL/8v6iezq1W63g8ejye3W4HALBYLJIkSZI0nU4bjcZyubxcLsq+MBqNTqcT/IMoihDC0+kkCMItkslknE6nMmkymRQEod/vp9NpiqKsVitFUS6XC8MwiqJYlhUEQRRFu92uzEsQhEaj+TSF4/hms4EQFovF9xL10/lwOFyv16cggiDRaHQ6ndpsNlmW5/O5sklf8fl8DMPcLzqVSv1I53A4arXa+Xy+6RiGIUlSrX7+OQW43e7tdgsf4Diu3W7X6/XFYkHT9Jve5z29g+N4LpcjCGK3263Xa6/Xq1KpIpGIwWAAAPA8Px6PB4NBPp//98EfCQaD5XKZ4zhZlkulkt/vV9Z/m9dsNr+mzGZztVq9Xq+r1UqBUafT9Xq9yWSi1+u/qikUCqIoZrPZx+C7pzQYDKFQqFqtiqL4aYHD4SAIAkXRQCDwXanL5XqTtVqtsVgskUicz+d6vf6m8i9IkoQQVioVDMMAAFqtFkEQk8lEkiRN07PZDEIoSVKn0/muEQCA4/hwOIQQLhYLlmVHo1G3293v94/L22w2FRhvIAiSyWSGwyHHcXfRfD5nWTYcDsfjcRRFX7u+XP4njEajzWYzGo0ois5mM57nFQ/4y0/4AN3tInHkLQEFAAAAAElFTkSuQmCC\"/></td></tr></table>"
      ],
      "text/plain": [
       "<IPython.core.display.HTML object>"
      ]
     },
     "metadata": {},
     "output_type": "display_data"
    },
    {
     "data": {
      "text/html": [
       "<table class=\"show_images\" style=\"border-spacing:0px;\"><tr><td style=\"padding:1px;\"><img width=\"128\" height=\"128\" style=\"image-rendering:pixelated; object-fit:cover;\" src=\"data:image/png;base64,iVBORw0KGgoAAAANSUhEUgAAABwAAAAcCAIAAAD9b0jDAAADX0lEQVR4nO2VzU7yTBTHO9MZWiyxNDRaJKFRNH6gLCSaqIkGE3degRsX3o334MJrUDcmXAARwQWKEIlR40cg9aOhX3TaeRd9H2IIkCf6Lt//aiZn5pcz5/xnhmH+TtFotO/4V4IQsizLMAz4oyGLh8UCRCgUUlV1Z2dHFMVCoWDbdrlcdhzH87yfQMPhsCAImUzm4OBgampKURQAwPn5+eHh4f39/RAoHBRgWRYhND4+PjIyUiqVjo+Pr6+vFUXJ5XJbW1sIoSHZDIxRSl3XNQyjWCyWy2WMMYRwbm7OcRye53medxznJ1BCyPPzs+d5AICgFKlUqtPpKIpCKf1hpoSQ7hQAkEgkGIbBGJum6bruT6A9siyrVCr5vk8p9TxveKYDG/VdAACEkOd5mqZZluU4ju/7v80UACBJ0vb2diwWgxD6vv/b40MIRVHM5XLLy8uu67bb7aurq18dH0KIMVZVdX19PR6PI4TOzs4uLy+H7xrqYYQURZFleW9vb3V1FUKo6/rR0VGPQ4N3AELIMExwzQZCWZaNRqOqqsbj8VQqlUgkOI7zfd80zZ5lLMtCCF3X7dakDzTotSAIsiwvLS1ls9lYLOa67sfHR6fTCYVCPM8TQgJvybLsuq5t2wCAgVAIYTgc5nl+bW1tZWVlY2MjHo/zPM+y7MvLS71eNwxDkqTgXmCMZ2dnm82mpmme59m2/fX1RSnthSKEZFkeGxvb39+fmZmRZZkQ0m63Pz8/Ly4uarWaIAiiKE5MTExPT9u23Wg0WJaVZdkwjEaj0T9TSmkymdzd3Z2fnxdFUZIkSqnv+7VaDQCQTqeDCm5ubgqCEIlEisVivV5/enrSdT2oSf+ajo6O2rZtWVYikQiHw5RS0zQLhYJpmhzHZTKZhYWFarVaqVRUVa1UKpqm2bat63rXFb1QQsjNzc3i4qKu65qmmaZJCDk9Pc3n87FYLBKJ1Ov1k5MTSZIwxnd3d47jVKvVVqtFCOk+232O32w2q9VqMpnEGD8+Pj48POTz+Var9fr6GnSDUhq0juO4bDb79vZmGIbneV1on+8EYzw5OZlOpwkht7e37+/vAcj3fQBA4EeEUOAhjuMsyyKEBNOgpn2gAACMcSgU6nQ63y0dhP7d9u03Hf4O/K//Rv8AuJnWJ0FQFUYAAAAASUVORK5CYII=\"/></td><td style=\"padding:1px;\"><img width=\"128\" height=\"128\" style=\"image-rendering:pixelated; object-fit:cover;\" src=\"data:image/png;base64,iVBORw0KGgoAAAANSUhEUgAAABwAAAAcCAIAAAD9b0jDAAAC8ElEQVR4nO2VTUvzShiG55lMmpmk1pAYAlKpBT/wo+DGhbh05apbf6A/wZ9QFBFURLAgVDAiWm1MbGHyMZk5ixxEXlOovMtz7kVCJplr7nmeewhC/+u/K/j+oOs6IYQQIqXM87woCoQQxlgIAQBKKQAAAIRQeS2KQilVAdU0rSiKubm5jY0Nz/Mopa1Wi3POOVdKPT09ua4bhiFjTCnVbrfLNS4vL19fX4MgEEL85JKiKACg1Wrt7+/v7e15nue6bp7n5WJpmpqmGQRBmqa2bVuWhTEej8erq6u9Xi8MwziOfzolAIAxXllZOTw8XFxcZIxRShFCjUYjyzKEUJIkvu8DgJRyNBotLCwAgO/7lNJerxdFUQW0vIVheH5+vrm5WTrNsuzu7u7s7MzzvPn5+YeHh1qtxhiTUq6trS0vLzPGOp2OYRhlrf+EYowxxkEQnJyc9Pt9x3E458Ph8P7+Po5jSiljLAxD27aLorBtu9vtLi0t1et10zQppdVQKaVS6uPjYzKZPD8/Y4zTNBVCxHGsvikMQwB4eXlpNptHR0e2bXPONU2rjBRBCEkp4zj+ikuZGCHE9++yLAOAsnWGYRBChBBl0SugpfnSztfoF/1L5VuMcafTcV1X1/U4jvM8r4TiytHKSCulCCHr6+u6rksp39/fa7VatdPK0WkyTXN7e1vTNKVUnufTnP4CCgCU0izLkiQRQlxcXDQaDULIz8pWb38adGdnZ2tri1Kqadrt7e3j4+Mf/fw1FGNs23Z5tIbDYb/f55xLKf8KWq/Xu92uYRhCiLe3tzKFhFQUcNaaAkC73fZ9P0mSJElOT0+jKJqW01mdKqU+Pz9t22aMYYwHg0F5FP92+5qmRVGUpulgMLi5uUFT4vwLqK7rBwcHjuMIISaTiZQS46lzZ4ICgOM4u7u7UsrxeMw5bzablmX9PM2lZmqUUmo0Gh0fH2dZZprm9fX11dVV5Y/kXxOzQEvpum5ZlpQSAJIkUUpN6/4/0OSlnGur1AoAAAAASUVORK5CYII=\"/></td><td style=\"padding:1px;\"><img width=\"128\" height=\"128\" style=\"image-rendering:pixelated; object-fit:cover;\" src=\"data:image/png;base64,iVBORw0KGgoAAAANSUhEUgAAABwAAAAcCAIAAAD9b0jDAAADAklEQVR4nO2UT0vrShjGZzInf0waE9KELKrYYqnGRRcKLlwHd7pRUDcu6hfw2wh+AbcqiiKUUHTlyq6VWqUQ01jS2iZOE5s5i5xzFt62euFuLpxnNQPDb57nfecdAP7qfyH431AghBACAOI4/tdQCCEhJFmwv8XzvCAIAADbtj3PI4R8F0rTNISQpmme5w3DyOfzmUymUCh4nlcsFn3fbzabx8fHFxcXYRj++A5RFMXd3V1N03Rdn52dlSRJEIRut5vNZoMgEAShWq32+32McXL+CyhFUbqub21t7e/vz8zMhGH48fHRbrff3t7e3987nY7v+zc3NwcHB4QQ27Z/FWc8UVXVvb090zQlSeI4rl6v393dNRoNy7IwxskFcRwTQsIwTLo0zilCSFGU9fX1Uqn0+Ph4eXn58PDgOE61WvV9v9vtAgAIIYm1TxoOhRDyPG+a5vb2tiRJURQ1m83n5+d2u93r9TDGf0wNjzgquK7ra2trhUIBQijL8tTUlKqqDMPwPI8QGkMc6XRiYkLTtNvbW1EUFxYWfN8XRTGbzYqiKAhCrVZ7enoaY3ZIoyiKUhRFEASO45aXlzc3N+/v7weDAcuyqVQqiiLLss7Pz4MgGFrQIVCEEMdxDMPQNA0A4DguCauqqmEYGxsbqqqWy+XDw0PHcaIo+jo+QkjTNJZlPc+jaZoQ4rpuGIYIoU6nI8syz/OKomQymXQ6/fr6+i0oIUSSpPn5+V6v12g0Xl5eAAAMwyCEUqnU6upqPp9nWdb3fd/3RxE/QyGE09PTpVJJluWzs7NyudxqtSCEuVxuZWVlZ2eH47harWZZluM4g8HgW9A4jtvtNsZYluVisZjMdS6XW1paEkVR0zTbtk9OTq6uroIgGEX8DAUA2LZ9fX1NUdTc3Nzi4mI6nRYEgaZp13Urlcrp6enR0dGYvv9K/GmPEEoeqWEYpmkyDIMxbrVa9Xq9Uqm4rjumlCOhAAAIIcMwEMLJycl+vw8AwBgnX8aXuLFXQZh8yV9O5F/9Uz8Bbb1m6Qr/Ab4AAAAASUVORK5CYII=\"/></td><td style=\"padding:1px;\"><img width=\"128\" height=\"128\" style=\"image-rendering:pixelated; object-fit:cover;\" src=\"data:image/png;base64,iVBORw0KGgoAAAANSUhEUgAAABwAAAAcCAIAAAD9b0jDAAADm0lEQVR4nO2UTUsybxTG575nRp1xdGwwSXwpAxOlSLKQBBcRtIkQLGjRR2iV0VfoI0T7FhERCEYbJZJKoVqUCzc1vThhowgF6uSMM+OzGOjp3xvV7g/PtRpmht+5rnOf+yDIz4Vh2MszjuPvfwC/gGpcFEUVRZFlGQCAIEin0/k9FELIMMzy8rLX6z06OlpbW8MwTJIkWZb/lvypwaGhoaWlpUgkIklSsVjs6uqq1WqKovyn8PeJKIq6XK5EIjEyMmI2m1VVrVar7Xb7dfAPnL7vzt/iEPb398disWg0ajAYSqXS1tZWPp8XRVFV1e87e1UZw4LB4O7ubqFQKJfL+/v7iUSip6eHIIjXk/AD6fX6WCxWKBSazWalUjk4OIjFYgzDQAghhFq4nwlCGI/HHx4ems1mo9HY29sLh8M4jv8ShyAIAMDv9x8eHrZaLZ7n8/l8PB7X6XQvX38DtVqtx8fHoijKspxOp2dnZ7XUGhHHcc2y9uZbcjgcyWSy3W7Lssyy7OjoKEEQWmoIIY7jbrc7GAzabDaDwfDG9cdnR5LkyspKJBJBEKRcLq+urt7c3EAILRYLQRC9vb1+v39ycrJer+dyuVwux3Fcq9X6Coph2MTExPT0tKqqPM9vbm5ms9lOp2O1Wv1+fyQSCYfDdrudYZharWa323U6XSaTub29fRnwD6Bms3lxcbGvr08QhNPT01QqBSEcGxsLhUKDg4PDw8NmsxnHcVEULRYLSZJXV1cnJydfxUdRdGpqanx8HABwd3e3vr5eKpUCgUA8Hne5XJ1OB0Ioy7IgCCzLer1eg8GgndXre/gWStP0zMyM0WiUZTmVSlUqFafT6fP5PB4PhJDneUEQ9Ho9AEBroiRJqqo2Gg0AwKfxdTqdNjc8zyeTSZqmg8FgKBRyOBzFYpFl2Xq9zjCMz+ejKOr5+ZnjuGKxWKvVvnKKIEh3dzeKojRNz83N4TjucDg8Hg9Jkl6v1+12m0wmiqIghJeXlyzL7uzs5PP5ZrP5VU+fnp7Oz88HBgZQFJ2fn9c2EI7jer3eZDKhKEqSpKqqj4+PHMdlMplsNlutViVJeg15e9UAAD6fb2Njw2azEQRBUZSiKEajUaMLgiAIwtnZ2fb2di6X43leFMX3K/WD+wsACAQCCwsL0WjU6XSKosgwTLVavb6+TqfTFxcXHMfd398rivLZJv10KWAYRlEUTdOyLEuSJEmSIAhfgP7pf6g/FCGkn/ryNrcAAAAASUVORK5CYII=\"/></td><td style=\"padding:1px;\"><img width=\"128\" height=\"128\" style=\"image-rendering:pixelated; object-fit:cover;\" src=\"data:image/png;base64,iVBORw0KGgoAAAANSUhEUgAAABwAAAAcCAIAAAD9b0jDAAADXElEQVR4nO2VS0vrWhTHs3dexLbpI01TtSqi4EBa0FAtFhHqQAci1KEfwqlfwo8gOqpDJ+LISXWgoxZsKRZEilSLBmKNTc2OTXbuIJxyrre2Hhycyf2PNll7/Vh7PbII4muxLNs9BwKBPjc/CfQ3UxTFsqzjOAghx3Ecx/kOFPaxcRy3ubl5dHS0u7srCALDMBD2u/8lFPwSTdMrKytbW1uyLE9NTU1MTAAAvhlpvzBzudzDw8Pb29vOzo7H4/m+b+/nQAglSZqbm/P5fKqqFgoFhNCPoAAAj8eztrY2Pj5uWdbl5WWxWLRt+0dQCKHX611YWCAI4vr6+vj4+I/C7A1lGGZ+fl6WZZIka7VaqVT60/r0gJIkGQwGDcNQFKVcLj8+PgLwZTv3NFH//dTpdJrNJkmSPM9jjEmSdJ0dx+l2G8MwAACO4wzDQAh9fHwMgGKMdV2HECKERFH0er2maVqWRZIkx3HJZDKVSkmSBAAQBOHi4iKfz9/e3mKM+0EZhgmFQoIguDjbtl2cKIqZTCabzYqiKIqiqqoMw4TDYYIg6vU6QqjL7Q0VBGFoaAhjHI1GeZ5nWTYWi62vr29sbESjUQCApmnlcjkej4+NjaVSqbOzs0aj0W2SHoVqtVq1Wu39/d3r9YbDYUEQYrHY8vLy7Owsy7KKohQKhZOTk2Kx+Pr6KghCPB5PJpNulvvlFCGk67pt25FIJJFIcBwnyzKEUNO0arV6dXX19PREEMTz83MikWi3236/n6Ko7s+hN/T+/r5SqYyOjvr9/nQ6bVmWS1RV9fT0tFQqmaYZiUQURdE0jSRJjDFN0xBCN629Z//l5eXm5qbT6UxOTi4uLs7MzNi2bRhGs9lstVoYY4ZhfD4fz/MIIVVV7+7uBhSKIAjDMHK53PT0tCzLoVDI4/EEg0Fd1y3LCgQC1WqV5/nh4eGlpSUAQKPRaLfbpmkOHjyapuPx+OHhoaIouq63221d1zVNQwgpitJsNhuNRr1ePz8/z2azIyMjfabuX2JZNp1O7+/vu73tFtBxHNM0EUKFQmFvb291dTUajdI0/bvj4B0lSVImk9ne3pYkyW1hXdfz+fzBwUGlUjEMw7KsTw8fAO1uFwghhJCiKNu2HcexLAtj/NPt8r/+sv4Bq9SunUpPocgAAAAASUVORK5CYII=\"/></td><td style=\"padding:1px;\"><img width=\"128\" height=\"128\" style=\"image-rendering:pixelated; object-fit:cover;\" src=\"data:image/png;base64,iVBORw0KGgoAAAANSUhEUgAAABwAAAAcCAIAAAD9b0jDAAADYklEQVR4nO2Uz0sqURTH74+Z7sikjdgwpjhaVhKWYQnRQmjRov7S9q01ahEoQZGlJYRhC61BRzN/zM87bzHwXqi9fG/34H1XF+65n3u/555zAPivf0Lwqw2EEIS/dh3HcRwHAAAhRAixLOs4jm3btm1TSmeCIoQIIRzHcRznLniehxBijBcWFjDGLMs2Gg1FURRF0XXdve+nmKlEjuMkSYpGo6FQiOd5WZbdRSAQAADMzc212+1arZbL5QaDgWmatm1/A8UY+/3+eDyezWbX1tYQQj6fT9O0Xq93c3MzGAwSiYQgCMvLyzs7O/V6vdPpjBGmQAEAwWAwkUjs7+/7/X5FUTRNe3p6uri4aDabhBDDMI6OjiRJarVaPM9PHh+Huu/KZDLHx8eRSKTZbBaLxXK5XKlUVFUlhPj9fgihKIqCIITD4clfmgKFEEqStL29HYvFKKWXl5f5fL5arQ4GAwCAIAiBQCAajS4uLhJCGIaxLOtzkUyBQghZlpVleXNzkxDy+PhYrVbb7TZCyOv1YowjkUg6nY7H4/Pz85ZlVatVVVW/gQIACCHJZDIWizmO0+v1eJ4XRXFpaWllZQVjHAqFMpmMLMsAgFarlc/nXQcIoc95GIdyHMeyrKZpHo9nfX3d5/Pt7u7Ksuz1elVVtW17a2tLFEWEUK1WUxSFYZgx4hT7rqlSqZRKpSRJkiRpdXWV47h+v08pRQgFAgGPx6Oq6tXVlaZpY2U/Beo4znA4fHh4OD8/73Q6giAYhmGaJqX0/f292+1Go9FkMgkA6Ha7hUKhVquNRiPLsn7XUY7j6Lper9dPT0/Pzs4IIf1+H0JoGAalVBCEw8PDg4MDSmkulysWi6PRiFI6+djxnFJKdV1vNBru4HAtU0pZlsUYp9NpURQty8rlcq1Wy7KsSe9ToC73c+LdioEQhsPhVCqFEFJVtVKpTM3ml9AxuYcRQnt7e7IssyxbLpdfXl7GhshnoW+hrggh2WyW47iPj4+Tk5PhcPib4FmhwWBwY2MDY/z29nZ3dze15f8MihBKpVI8zxuGcX9///r6OtmafwxlGEYURdM0u93u7e3tVzX/K34WKCFEVdVyuaxpWqFQMAwDAAAh/Ao9E9Q0zevra0LI8/NzqVSabKG/FMbYHaCzBP8AVoatgUXLfzoAAAAASUVORK5CYII=\"/></td><td style=\"padding:1px;\"><img width=\"128\" height=\"128\" style=\"image-rendering:pixelated; object-fit:cover;\" src=\"data:image/png;base64,iVBORw0KGgoAAAANSUhEUgAAABwAAAAcCAIAAAD9b0jDAAADn0lEQVR4nO2VzU/yWBTGe0tboU0plI+QRoVgU1mImkZMNCwUFm40McaV/5j/gTEujDt3SmIj0SDGDwgaCAE1GAhUalvoB3QWzeuYGZV3kllN5lnc1e0v53lO7zkQ9L/+bYHfvQeAw+EgCAKGYQAAgiCGYQAAdF03f+l3oQAADMO8Xu/09HQymeR5nmVZFEV7vZ4sy5VKJZfL5XK5Wq0miqJhGJZlQRCE/ExEUTQej6+traVSqcnJScuyKIrSNI0gCJqmaZqmKGpsbAwAoKqqaZojoLZfhmE2NzfX19cjkYiqqs/Pz4+Pj5Ik4Tju9/txHKcoyuPxUBQFw/DHtz9BcRxfXl5Op9Ner7dSqRQKhfv7+2KxaFlWLBbb2NggSZIgiEgkks1m7axHQGEY9vv9CwsLgUCg0WgcHx+fn593Oh1RFL1ebyAQUBQFx3HbkCRJhmGMrhSCIJfLhWGYaZrdbrfZbL69vYmiCAAYHx9PJpORSGQ4HJZKpYODg4eHh36/PxwOR0N1XVdVVVGUXq9HkiRN06ZpLi4ubm1txeNxCIIKhcLu7u7Z2Zksy4PBwO7SCKhlWa+vr41GA0GQlZUVlmVlWbYDkSQpn8/v7+8LgiBJ0nA4/CB+CwUAAAA0TXt5eWk0GjzPMwzD87xpmgRBNJvNTCZzdHQkCIKiKB+uR2cKADAM4/39vdVqOZ3OUChkGIYoiu12WxCEvb29u7s7VVU/F/gTFPwSBEE2SNM0CIJM05Rl+fLy8vDw8Obmxs7xy4K+hqIo6vf7eZ5Pp9NTU1Nut7ter5umabcYQRDLsv7uegTU7XYvLS1tb29Ho9HBYPD09FQsFmOxmM/nCwaDExMTDofjO+IXUHuCcByXTCYZhun3+9lsNp/P12q1VCq1s7ND03QwGIRh+Ms0v4DaT83j8XAcx7Ks0+m8uLg4OTmp1+swDMuyjKKobRzDMBiGv8v0zylgNwdFUYZhVldXw+GwruuGYbhcLoqiwuFwIpEgCKLX611fX9v/5uhKLcuyLAuGYZ/Px3EcQRDdbhdBEAzD5ufn5+bmOI7TNK1UKpXLZV3X/0GmEAQNh0NFUQAALMuGQqHZ2VmCIDAMI0my1Wrd3t52Op3Pj3I01DTNarUqCILL5YrH43ZbDMNotVqlUimTyZyenkqS9AMR+ss6seeY2+2ORqOJRGJmZoYkScMw2u321dVVuVyuVquSJH1eR6Ohn+kfp8Ph+NgT/zn9Ac5k5ZRvMmHqAAAAAElFTkSuQmCC\"/></td><td style=\"padding:1px;\"><img width=\"128\" height=\"128\" style=\"image-rendering:pixelated; object-fit:cover;\" src=\"data:image/png;base64,iVBORw0KGgoAAAANSUhEUgAAABwAAAAcCAIAAAD9b0jDAAADxklEQVR4nOXVS0v7ShQA8MnDpElqrNgnpWndtNVCRdrqRgQ3QkFEwU/gl/GD6Eo3rsWVL1CKiJaCCNHWxj5Sm9SkMZnmcRcB7f1TH9y7u/csQiYwvzOZOYcB4H8dyIhPCIIgiOM4AAD3+a9QFEUJgpiamsJxnKIoDMNQFIUQyrKsqqphGJZl/SbNJ8owTDAYTKfTuVwuFouZpolhGIZhnU6nXC6/vLyUy2VZlk3T/NH9REOh0OLi4urq6tzcnM/nAwAIgsAwDMuyrVZLkqSjo6OLiwue5w3D+B7FP94wDHOJZrMpiqJt24Ig4DieTCZTqRSO44lEIpPJ7OzsiKL4W5TjuHQ6DSG0bbtWq3U6ncfHR5qmeZ4HAGQyGYZhotFooVA4Pj6GEP4K1XW92+2iKCrLcqlUGgwG/X4fQZBGo5FOpxOJBEmS8Xh8c3Pz5uam0Wh8s7OfaKVSqVarwWAQQRDTNEmSJEmSpmmapgmCsCwrEomQJHl4eNjtdr8/K/yjJCGEpmnquk4QBEEQwWAwEAgEAgEURRmGIQgCRVFVVa+urkzTRFHUtu0v0eGcjuNYlgUhRBCEpulCoTAzM8OybD6fD4VCCIJQFJXP53meVxRFVVUI4cgl48MDx3EGgwEAgCCI6enpaDQ6OzvLsqzX63Ucp9/va5q2srLi9Xrr9frt7S3P85IkuVO+RF3XNE0IYavVqlarkUiEZVlN02zbtm3bsizbtt1tyWazoiienp6enZ39UQx/oh/u09MThFDTNL/f//r6KghCLBZLp9O9Xs80zWw2y3Hc5OTkwsKCruvX19e6rv+AappmGMbb2xuE0O/3Qwi73e7d3d3+/j5BEH6///n5uVgsejyecDicyWTu7+9/QAEAtm27dKPRUBTFsixFUSRJsiwLQZBOp6OqKsuyoVAoFAqtra09PDycnJx81AM6Eh2OYDDIMMzHQbvJ3E7tdruapsVisY2NDRz/XN/olQIAUBQlSTIcDi8tLTWbTUVRDMNwzwoAQFEUAKDf7zuOE4/Hl5eXMQz7GXVdn8/HcVwymYzH46VSyTCMdrttGMbW1laxWOQ4znGcer2+u7s7XABforZt67ouiqKqqvl8PpfLbW9vEwQBAJAkiaIox3F8Pl+73T44ONjf3x9usC9Rt33f398vLy8pipqYmJifn/f5fAzDMAwjyzLP8xRFlcvlvb29Vqs13Foj7qhhd2xsDMdxj8czPj6+vr6eSqUSiYRlWZVK5fz8vNfr1Wo1QRBM0/zbxG/QkWnccH/2n12L//n4CwOSJef4Y7U2AAAAAElFTkSuQmCC\"/></td></tr></table>"
      ],
      "text/plain": [
       "<IPython.core.display.HTML object>"
      ]
     },
     "metadata": {},
     "output_type": "display_data"
    }
   ],
   "source": [
    "num_examples = 8\n",
    "\n",
    "key, subkey = jax.random.split(key)\n",
    "x_idx = jax.random.choice(subkey, x_test.shape[0], shape=(num_examples,))\n",
    "x = x_test[x_idx]\n",
    "\n",
    "state_axes = nnx.StateAxes({nnx.RngState: 0, ...: None})\n",
    "x_recon, _, _ = nnx.split_rngs(splits=num_examples)(\n",
    "\tnnx.vmap(\n",
    "\t\tlambda vae, x: vae(x),\n",
    "\t\tin_axes=(state_axes, 0),\n",
    "\t)\n",
    ")(vae, x)\n",
    "\n",
    "mediapy.show_images(x, width=128, height=128)\n",
    "mediapy.show_images(jax.nn.sigmoid(x_recon), width=128, height=128)"
   ]
  }
 ],
 "metadata": {
  "kernelspec": {
   "display_name": ".venv",
   "language": "python",
   "name": "python3"
  },
  "language_info": {
   "codemirror_mode": {
    "name": "ipython",
    "version": 3
   },
   "file_extension": ".py",
   "mimetype": "text/x-python",
   "name": "python",
   "nbconvert_exporter": "python",
   "pygments_lexer": "ipython3",
   "version": "3.13.3"
  }
 },
 "nbformat": 4,
 "nbformat_minor": 2
}
