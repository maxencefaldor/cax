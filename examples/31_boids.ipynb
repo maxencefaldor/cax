{
 "cells": [
  {
   "cell_type": "markdown",
   "metadata": {},
   "source": [
    "# Boids [![Colab](https://colab.research.google.com/assets/colab-badge.svg)](https://colab.research.google.com/github/maxencefaldor/cax/blob/main/examples/31_boids.ipynb)"
   ]
  },
  {
   "cell_type": "markdown",
   "metadata": {},
   "source": [
    "## Installation"
   ]
  },
  {
   "cell_type": "markdown",
   "metadata": {},
   "source": [
    "You will need Python 3.11 or later, and a working JAX installation. For example, you can install JAX with:"
   ]
  },
  {
   "cell_type": "code",
   "execution_count": null,
   "metadata": {},
   "outputs": [],
   "source": [
    "%pip install -U \"jax[cuda]\""
   ]
  },
  {
   "cell_type": "markdown",
   "metadata": {},
   "source": [
    "Then, install CAX from PyPi:"
   ]
  },
  {
   "cell_type": "code",
   "execution_count": null,
   "metadata": {},
   "outputs": [],
   "source": [
    "%pip install -U \"cax[examples]\""
   ]
  },
  {
   "cell_type": "markdown",
   "metadata": {},
   "source": [
    "## Import"
   ]
  },
  {
   "cell_type": "code",
   "execution_count": null,
   "metadata": {},
   "outputs": [],
   "source": [
    "import jax\n",
    "import jax.numpy as jnp\n",
    "import mediapy\n",
    "from flax import nnx\n",
    "\n",
    "from cax.cs.boids import BoidPolicy, Boids, BoidsState"
   ]
  },
  {
   "cell_type": "markdown",
   "metadata": {},
   "source": [
    "## Configuration"
   ]
  },
  {
   "cell_type": "code",
   "execution_count": null,
   "metadata": {},
   "outputs": [],
   "source": [
    "seed = 0\n",
    "\n",
    "num_steps = 1024\n",
    "num_spatial_dims = 2\n",
    "num_boids = 256\n",
    "dt = 0.01\n",
    "\n",
    "acceleration_max = jnp.inf\n",
    "acceleration_scale = 1.0\n",
    "perception = 0.1\n",
    "separation_distance = 0.025\n",
    "\n",
    "separation_weight = 4.5\n",
    "alignment_weight = 0.65\n",
    "cohesion_weight = 0.75\n",
    "noise_scale = 0.1\n",
    "\n",
    "key = jax.random.key(seed)\n",
    "rngs = nnx.Rngs(seed)"
   ]
  },
  {
   "cell_type": "markdown",
   "metadata": {},
   "source": [
    "## Instantiate system"
   ]
  },
  {
   "cell_type": "code",
   "execution_count": null,
   "metadata": {},
   "outputs": [],
   "source": [
    "boid_policy = BoidPolicy(\n",
    "\tacceleration_max=acceleration_max,\n",
    "\tacceleration_scale=acceleration_scale,\n",
    "\tperception=perception,\n",
    "\tseparation_distance=separation_distance,\n",
    "\tseparation_weight=separation_weight,\n",
    "\talignment_weight=alignment_weight,\n",
    "\tcohesion_weight=cohesion_weight,\n",
    "\tnoise_scale=noise_scale,\n",
    "\trngs=rngs,\n",
    ")\n",
    "\n",
    "cs = Boids(\n",
    "\tdt=dt,\n",
    "\tvelocity_half_life=jnp.inf,\n",
    "\tboid_policy=boid_policy,\n",
    ")"
   ]
  },
  {
   "cell_type": "markdown",
   "metadata": {},
   "source": [
    "## Sample initial state"
   ]
  },
  {
   "cell_type": "code",
   "execution_count": null,
   "metadata": {},
   "outputs": [],
   "source": [
    "def sample_state(key):\n",
    "\t\"\"\"Sample a state with random positions and velocities.\"\"\"\n",
    "\tkey_position, key_velocity = jax.random.split(key)\n",
    "\n",
    "\t# Position\n",
    "\tposition = jax.random.uniform(key_position, (num_boids, num_spatial_dims))\n",
    "\n",
    "\t# Velocity\n",
    "\tvelocity = jax.random.uniform(key_velocity, (num_boids, num_spatial_dims))\n",
    "\n",
    "\treturn BoidsState(position=position, velocity=velocity)"
   ]
  },
  {
   "cell_type": "markdown",
   "metadata": {},
   "source": [
    "## Run"
   ]
  },
  {
   "cell_type": "code",
   "execution_count": null,
   "metadata": {},
   "outputs": [],
   "source": [
    "key, subkey = jax.random.split(key)\n",
    "state_init = sample_state(subkey)\n",
    "state_final = cs(state_init, num_steps=num_steps, sow=True)"
   ]
  },
  {
   "cell_type": "markdown",
   "metadata": {},
   "source": [
    "## Visualize"
   ]
  },
  {
   "cell_type": "code",
   "execution_count": null,
   "metadata": {},
   "outputs": [],
   "source": [
    "intermediates = nnx.pop(cs, nnx.Intermediate)\n",
    "states = intermediates.state.value[0]"
   ]
  },
  {
   "cell_type": "code",
   "execution_count": null,
   "metadata": {},
   "outputs": [],
   "source": [
    "states = jax.tree.map(lambda x, xs: jnp.concatenate([x[None], xs]), state_init, states)\n",
    "frames = nnx.vmap(\n",
    "\tlambda cs, state: cs.render(state, boids_size=0.01),\n",
    "\tin_axes=(None, 0),\n",
    ")(cs, states)\n",
    "\n",
    "mediapy.show_video(frames, width=512, height=512, fps=int(1 / dt))"
   ]
  },
  {
   "cell_type": "markdown",
   "metadata": {},
   "source": [
    "## Boid simulation with custom boid policy"
   ]
  },
  {
   "cell_type": "code",
   "execution_count": null,
   "metadata": {},
   "outputs": [],
   "source": [
    "class BoidPolicy(nnx.Module):\n",
    "\t\"\"\"Boid policy inspired by the neural network-based reference implementation.\"\"\"\n",
    "\n",
    "\tdef __init__(\n",
    "\t\tself,\n",
    "\t\tnum_neighbors: int = 16,  # Number of neighbors to consider\n",
    "\t\thidden_features: int = 8,  # Hidden layer size from reference\n",
    "\t\t*,\n",
    "\t\tacceleration_max: float = jnp.inf,\n",
    "\t\tacceleration_scale: float = 10.0,  # Scaling factor from reference\n",
    "\t\tperception: float = 0.1,  # Perception radius\n",
    "\t\trngs: nnx.Rngs,\n",
    "\t):\n",
    "\t\t\"\"\"Initialize boid policy.\"\"\"\n",
    "\t\tself.num_neighbors = num_neighbors\n",
    "\t\tself.acceleration_max = acceleration_max\n",
    "\t\tself.acceleration_scale = acceleration_scale\n",
    "\t\tself.perception = perception\n",
    "\t\tself.rngs = rngs\n",
    "\n",
    "\t\tself.dense1 = nnx.Linear(4, hidden_features, rngs=rngs)\n",
    "\t\tself.dense2 = nnx.Linear(hidden_features, hidden_features, rngs=rngs)\n",
    "\t\tself.dense3 = nnx.Linear(hidden_features, hidden_features, rngs=rngs)\n",
    "\t\tself.dense4 = nnx.Linear(hidden_features, 1, rngs=rngs)\n",
    "\n",
    "\tdef _toroidal_vector(self, position_1: jax.Array, position_2: jax.Array) -> jax.Array:\n",
    "\t\t\"\"\"Calculate vector considering toroidal boundaries in [0, 1]^n.\"\"\"\n",
    "\t\tpos_diff = position_2 - position_1\n",
    "\t\tpos_diff = jnp.where(pos_diff > 0.5, pos_diff - 1.0, pos_diff)\n",
    "\t\tpos_diff = jnp.where(pos_diff < -0.5, pos_diff + 1.0, pos_diff)\n",
    "\t\treturn pos_diff\n",
    "\n",
    "\tdef _get_transformation_mats(self, position: jax.Array, velocity: jax.Array):\n",
    "\t\t\"\"\"Compute global-to-local and local-to-global transformation matrices.\"\"\"\n",
    "\t\tu, v = velocity / jnp.maximum(jnp.linalg.norm(velocity), 1e-8)  # Normalize velocity\n",
    "\t\tx, y = position\n",
    "\n",
    "\t\t# Global to local transformation (including translation)\n",
    "\t\tglobal2local = jnp.array([[u, v, -u * x - v * y], [-v, u, v * x - u * y], [0, 0, 1]])\n",
    "\n",
    "\t\t# Local to global transformation (including translation)\n",
    "\t\tlocal2global = jnp.array([[u, -v, x], [v, u, y], [0, 0, 1]])\n",
    "\n",
    "\t\t# Rotation-only matrices (for velocity)\n",
    "\t\tglobal2local_rot = jnp.array([[u, v, 0], [-v, u, 0], [0, 0, 1]])\n",
    "\t\tlocal2global_rot = jnp.array([[u, -v, 0], [v, u, 0], [0, 0, 1]])\n",
    "\n",
    "\t\treturn global2local, local2global, global2local_rot, local2global_rot\n",
    "\n",
    "\tdef _clip_by_norm(self, vector: jax.Array, max_val: float) -> jax.Array:\n",
    "\t\t\"\"\"Limit the magnitude of a vector.\"\"\"\n",
    "\t\tnorm = jnp.linalg.norm(vector)\n",
    "\t\treturn jnp.where(norm > max_val, vector * max_val / norm, vector)\n",
    "\n",
    "\tdef __call__(self, state: BoidsState, boid_idx: int) -> jax.Array:\n",
    "\t\t\"\"\"Compute acceleration for a boid based on its neighbors.\n",
    "\n",
    "\t\tArgs:\n",
    "\t\t\tstate: State containing position and velocity of all boids.\n",
    "\t\t\tboid_idx: Index of the current boid.\n",
    "\n",
    "\t\tReturns:\n",
    "\t\t\tAcceleration vector for the boid.\n",
    "\n",
    "\t\t\"\"\"\n",
    "\t\t# Extract current boid's position and velocity\n",
    "\t\txi = state.position[boid_idx]\n",
    "\t\tvi = state.velocity[boid_idx]\n",
    "\n",
    "\t\t# Compute distances to all other boids\n",
    "\t\tdistances = jax.vmap(lambda pos: jnp.sum(self._toroidal_vector(xi, pos) ** 2))(\n",
    "\t\t\tstate.position\n",
    "\t\t)\n",
    "\n",
    "\t\t# Find nearest neighbors\n",
    "\t\tidx_neighbor = jnp.argsort(distances)[1 : self.num_neighbors + 1]  # Exclude self\n",
    "\t\txn = state.position[idx_neighbor]  # Neighbor positions\n",
    "\t\tvn = state.velocity[idx_neighbor]  # Neighbor velocities\n",
    "\t\tneighbor_distances = distances[idx_neighbor]\n",
    "\n",
    "\t\t# Create mask for neighbors within visual range\n",
    "\t\tmask = neighbor_distances < self.perception**2\n",
    "\n",
    "\t\t# Get transformation matrices\n",
    "\t\tg2l, l2g, g2lr, l2gr = self._get_transformation_mats(xi, vi)\n",
    "\n",
    "\t\t# Transform neighbor positions to local frame\n",
    "\t\txn_hom = jnp.concatenate(\n",
    "\t\t\t[xn, jnp.ones((self.num_neighbors, 1))], axis=-1\n",
    "\t\t)  # Homogeneous coords\n",
    "\t\txn_local = jax.vmap(lambda x: g2l @ x)(xn_hom[:, :, None])[:, :2, 0]  # num_neighbors, 2\n",
    "\n",
    "\t\t# Transform neighbor velocities to local frame (rotation only)\n",
    "\t\tvn_hom = jnp.concatenate([vn, jnp.ones((self.num_neighbors, 1))], axis=-1)\n",
    "\t\tvn_local = jax.vmap(lambda v: g2lr @ v)(vn_hom[:, :, None])[:, :2, 0]  # num_neighbors, 2\n",
    "\n",
    "\t\t# Prepare inputs for the neural network (scale positions as in reference)\n",
    "\t\tinputs = jnp.concatenate([50.0 * xn_local, vn_local], axis=-1)  # num_neighbors, 4\n",
    "\n",
    "\t\t# Neural network processing (similar to BoidNetwork)\n",
    "\t\tx = self.dense1(inputs)  # num_neighbors, hidden_features\n",
    "\t\tx = nnx.tanh(x)\n",
    "\t\tx = self.dense2(x)\n",
    "\t\tx = nnx.tanh(x)\n",
    "\n",
    "\t\t# Aggregate over neighbors with mask\n",
    "\t\tx = (x * mask[:, None]).sum(axis=0) / jnp.maximum(mask.sum(), 1e-8)  # hidden_features\n",
    "\n",
    "\t\t# Final layers\n",
    "\t\tx = self.dense3(x)\n",
    "\t\tx = nnx.tanh(x)\n",
    "\t\tx = self.dense4(x)\n",
    "\t\tx = nnx.tanh(x)  # Scalar output\n",
    "\n",
    "\t\t# Handle case with no neighbors\n",
    "\t\tdv_local = jax.lax.select(\n",
    "\t\t\tmask.sum() > 0,\n",
    "\t\t\tjnp.array([0.0, x[0]]),  # [x, y] in local frame\n",
    "\t\t\tjnp.zeros(2),\n",
    "\t\t)\n",
    "\n",
    "\t\t# Scale acceleration\n",
    "\t\tdv_local = dv_local * self.acceleration_scale\n",
    "\n",
    "\t\t# Transform back to global frame\n",
    "\t\tdv_hom = jnp.concatenate([dv_local, jnp.zeros(1)], axis=-1)  # 3D homogeneous\n",
    "\t\tacceleration = (l2gr @ dv_hom[:, None])[:2, 0]  # Back to 2D global coords\n",
    "\n",
    "\t\t# Limit acceleration\n",
    "\t\tacceleration = self._clip_by_norm(acceleration, self.acceleration_max)\n",
    "\n",
    "\t\treturn acceleration"
   ]
  },
  {
   "cell_type": "code",
   "execution_count": null,
   "metadata": {},
   "outputs": [],
   "source": [
    "boid_policy = BoidPolicy(\n",
    "\tacceleration_scale=2.0,\n",
    "\trngs=rngs,\n",
    ")\n",
    "\n",
    "cs = Boids(\n",
    "\tdt=dt,\n",
    "\tvelocity_half_life=jnp.inf,\n",
    "\tboid_policy=boid_policy,\n",
    ")"
   ]
  },
  {
   "cell_type": "markdown",
   "metadata": {},
   "source": [
    "## Sample initial state"
   ]
  },
  {
   "cell_type": "code",
   "execution_count": null,
   "metadata": {},
   "outputs": [],
   "source": [
    "def sample_state(key):\n",
    "\t\"\"\"Sample a state with random positions and velocities.\"\"\"\n",
    "\tkey_position, key_velocity = jax.random.split(key)\n",
    "\n",
    "\t# Position\n",
    "\tposition = jax.random.uniform(key_position, (num_boids, num_spatial_dims))\n",
    "\n",
    "\t# Velocity\n",
    "\tvelocity = 0.1 * jax.random.uniform(key_velocity, (num_boids, num_spatial_dims))\n",
    "\n",
    "\treturn BoidsState(position=position, velocity=velocity)"
   ]
  },
  {
   "cell_type": "markdown",
   "metadata": {},
   "source": [
    "## Run"
   ]
  },
  {
   "cell_type": "code",
   "execution_count": null,
   "metadata": {},
   "outputs": [],
   "source": [
    "key, subkey = jax.random.split(key)\n",
    "state_init = sample_state(subkey)\n",
    "state_final = cs(state_init, num_steps=num_steps, sow=True)"
   ]
  },
  {
   "cell_type": "markdown",
   "metadata": {},
   "source": [
    "## Visualize"
   ]
  },
  {
   "cell_type": "code",
   "execution_count": null,
   "metadata": {},
   "outputs": [],
   "source": [
    "intermediates = nnx.pop(cs, nnx.Intermediate)\n",
    "states = intermediates.state.value[0]"
   ]
  },
  {
   "cell_type": "code",
   "execution_count": null,
   "metadata": {},
   "outputs": [],
   "source": [
    "states = jax.tree.map(lambda x, xs: jnp.concatenate([x[None], xs]), state_init, states)\n",
    "frames = nnx.vmap(\n",
    "\tlambda cs, state: cs.render(state, boids_size=0.01),\n",
    "\tin_axes=(None, 0),\n",
    ")(cs, states)\n",
    "\n",
    "mediapy.show_video(frames, width=512, height=512, fps=int(1 / dt))"
   ]
  }
 ],
 "metadata": {
  "kernelspec": {
   "display_name": ".venv",
   "language": "python",
   "name": "python3"
  },
  "language_info": {
   "codemirror_mode": {
    "name": "ipython",
    "version": 3
   },
   "file_extension": ".py",
   "mimetype": "text/x-python",
   "name": "python",
   "nbconvert_exporter": "python",
   "pygments_lexer": "ipython3",
   "version": "3.13.3"
  }
 },
 "nbformat": 4,
 "nbformat_minor": 2
}
