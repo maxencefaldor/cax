{
 "cells": [
  {
   "cell_type": "markdown",
   "metadata": {},
   "source": [
    "# Flow Lenia [![Colab](https://colab.research.google.com/assets/colab-badge.svg)](https://colab.research.google.com/github/maxencefaldor/cax/blob/main/examples/21_flow_lenia.ipynb)"
   ]
  },
  {
   "cell_type": "markdown",
   "metadata": {},
   "source": [
    "## Installation"
   ]
  },
  {
   "cell_type": "markdown",
   "metadata": {},
   "source": [
    "You will need Python 3.10 or later, and a working JAX installation. For example, you can install JAX with:"
   ]
  },
  {
   "cell_type": "code",
   "execution_count": null,
   "metadata": {},
   "outputs": [],
   "source": [
    "%pip install -U \"jax[cuda]\""
   ]
  },
  {
   "cell_type": "markdown",
   "metadata": {},
   "source": [
    "Then, install CAX from PyPi:"
   ]
  },
  {
   "cell_type": "code",
   "execution_count": null,
   "metadata": {},
   "outputs": [],
   "source": [
    "%pip install -U \"cax[examples]\""
   ]
  },
  {
   "cell_type": "markdown",
   "metadata": {},
   "source": [
    "## Import"
   ]
  },
  {
   "cell_type": "code",
   "execution_count": null,
   "metadata": {},
   "outputs": [],
   "source": [
    "import pickle\n",
    "from importlib import resources\n",
    "\n",
    "import jax\n",
    "import jax.numpy as jnp\n",
    "import mediapy\n",
    "from flax import nnx\n",
    "\n",
    "from cax.cs.flow_lenia import (\n",
    "\tFlowLenia,\n",
    "\tFreeKernelParams,\n",
    "\tGrowthParams,\n",
    "\tKernelParams,\n",
    "\tLeniaRuleParams,\n",
    ")"
   ]
  },
  {
   "cell_type": "markdown",
   "metadata": {},
   "source": [
    "## Configuration"
   ]
  },
  {
   "cell_type": "code",
   "execution_count": null,
   "metadata": {},
   "outputs": [],
   "source": [
    "seed = 0\n",
    "\n",
    "num_steps = 256\n",
    "spatial_dims = (128, 128)\n",
    "channel_size = 3\n",
    "R = 12\n",
    "T = 10\n",
    "state_scale = 1\n",
    "\n",
    "key = jax.random.key(seed)\n",
    "rngs = nnx.Rngs(seed)"
   ]
  },
  {
   "cell_type": "markdown",
   "metadata": {},
   "source": [
    "## Instantiate system"
   ]
  },
  {
   "cell_type": "markdown",
   "metadata": {},
   "source": [
    "This section demonstrates how to visualize well-known Lenia creatures by loading rule parameters and patterns from `cax/systems/lenia/assets`.\n",
    "\n",
    "You can run either the VT049W or 5N7KKM section below. You can also experiment with combining rule parameters from one soliton with the pattern of another to observe novel emergent behaviors."
   ]
  },
  {
   "cell_type": "markdown",
   "metadata": {},
   "source": [
    "### VT049W"
   ]
  },
  {
   "cell_type": "code",
   "execution_count": null,
   "metadata": {},
   "outputs": [],
   "source": [
    "# Load rule params for soliton VT049W\n",
    "with resources.files(\"cax.cs.lenia.assets.VT049W\").joinpath(\"rule_params.pickle\").open(\"rb\") as f:\n",
    "\trule_params = pickle.load(f)"
   ]
  },
  {
   "cell_type": "code",
   "execution_count": null,
   "metadata": {},
   "outputs": [],
   "source": [
    "# Load pattern for soliton VT049W\n",
    "with resources.files(\"cax.cs.lenia.assets.VT049W\").joinpath(\"Aquarium.pickle\").open(\"rb\") as f:\n",
    "\tpattern = pickle.load(f)"
   ]
  },
  {
   "cell_type": "markdown",
   "metadata": {},
   "source": [
    "### 5N7KKM"
   ]
  },
  {
   "cell_type": "code",
   "execution_count": null,
   "metadata": {},
   "outputs": [],
   "source": [
    "# Load rule params for soliton 5N7KKM\n",
    "with resources.files(\"cax.cs.lenia.assets.5N7KKM\").joinpath(\"rule_params.pickle\").open(\"rb\") as f:\n",
    "\trule_params = pickle.load(f)"
   ]
  },
  {
   "cell_type": "code",
   "execution_count": null,
   "metadata": {},
   "outputs": [],
   "source": [
    "# Load pattern for soliton 5N7KKM\n",
    "with (\n",
    "\tresources.files(\"cax.cs.lenia.assets.5N7KKM\").joinpath(\"Aquarium_swarm.pickle\").open(\"rb\") as f\n",
    "):\n",
    "\tpattern = pickle.load(f)"
   ]
  },
  {
   "cell_type": "markdown",
   "metadata": {},
   "source": [
    "### Flow Lenia"
   ]
  },
  {
   "cell_type": "code",
   "execution_count": null,
   "metadata": {},
   "outputs": [],
   "source": [
    "cs = FlowLenia(\n",
    "\tspatial_dims=spatial_dims,\n",
    "\tchannel_size=channel_size,\n",
    "\tR=R,\n",
    "\tT=T,\n",
    "\tstate_scale=state_scale,\n",
    "\trule_params=rule_params,\n",
    ")"
   ]
  },
  {
   "cell_type": "markdown",
   "metadata": {},
   "source": [
    "## Sample initial state"
   ]
  },
  {
   "cell_type": "code",
   "execution_count": null,
   "metadata": {},
   "outputs": [],
   "source": [
    "def sample_state(pattern):\n",
    "\t\"\"\"Sample a state with a pattern at the center.\"\"\"\n",
    "\t# Calculate the center of the state for each dimension\n",
    "\tmid = tuple(dim // 2 for dim in spatial_dims)\n",
    "\n",
    "\t# Scale pattern\n",
    "\tpattern_scaled = pattern\n",
    "\tfor axis in range(len(spatial_dims)):\n",
    "\t\tpattern_scaled = pattern_scaled.repeat(state_scale, axis=axis)\n",
    "\n",
    "\t# Get the shape of the scaled cells\n",
    "\tpattern_spatial_dims = pattern_scaled.shape[:-1]  # Exclude the channel dimension\n",
    "\n",
    "\t# Create empty state with the shape defined by spatial_dims and channel_size\n",
    "\tstate = jnp.zeros((*spatial_dims, channel_size))\n",
    "\n",
    "\t# Calculate the slice indices for each dimension\n",
    "\tslices = tuple(slice(m - c // 2, m + c - c // 2) for m, c in zip(mid, pattern_spatial_dims))\n",
    "\n",
    "\t# Place the scaled cells in the center of the state\n",
    "\tstate = state.at[slices].set(pattern_scaled)\n",
    "\n",
    "\treturn state"
   ]
  },
  {
   "cell_type": "markdown",
   "metadata": {},
   "source": [
    "## Run"
   ]
  },
  {
   "cell_type": "code",
   "execution_count": null,
   "metadata": {},
   "outputs": [],
   "source": [
    "state_init = sample_state(pattern)\n",
    "state_final = cs(state_init, num_steps=num_steps, sow=True)"
   ]
  },
  {
   "cell_type": "markdown",
   "metadata": {},
   "source": [
    "## Visualize"
   ]
  },
  {
   "cell_type": "code",
   "execution_count": null,
   "metadata": {},
   "outputs": [],
   "source": [
    "intermediates = nnx.pop(cs, nnx.Intermediate)\n",
    "states = intermediates.state.value[0]"
   ]
  },
  {
   "cell_type": "code",
   "execution_count": null,
   "metadata": {},
   "outputs": [],
   "source": [
    "states = jnp.concatenate([state_init[None], states])\n",
    "frames = nnx.vmap(\n",
    "\tlambda cs, state: cs.render(state),\n",
    "\tin_axes=(None, 0),\n",
    ")(cs, states)\n",
    "\n",
    "mediapy.show_video(frames, width=256, height=256)"
   ]
  },
  {
   "cell_type": "markdown",
   "metadata": {},
   "source": [
    "## Orbium"
   ]
  },
  {
   "cell_type": "code",
   "execution_count": null,
   "metadata": {},
   "outputs": [],
   "source": [
    "spatial_dims = (128, 128)\n",
    "channel_size = 1\n",
    "R = 12\n",
    "T = 10\n",
    "state_scale = 2"
   ]
  },
  {
   "cell_type": "markdown",
   "metadata": {},
   "source": [
    "### Kernel"
   ]
  },
  {
   "cell_type": "code",
   "execution_count": null,
   "metadata": {},
   "outputs": [],
   "source": [
    "kernel_params = KernelParams(\n",
    "\tr=jnp.array(1.0, jnp.float32),\n",
    "\tb=jnp.array([1.0]),\n",
    ")"
   ]
  },
  {
   "cell_type": "markdown",
   "metadata": {},
   "source": [
    "### Growth Mapping Function"
   ]
  },
  {
   "cell_type": "code",
   "execution_count": null,
   "metadata": {},
   "outputs": [],
   "source": [
    "growth_params = GrowthParams(\n",
    "\tmean=jnp.array(0.15, jnp.float32),\n",
    "\tstd=jnp.array(0.015, jnp.float32),\n",
    ")"
   ]
  },
  {
   "cell_type": "markdown",
   "metadata": {},
   "source": [
    "### Rule Params"
   ]
  },
  {
   "cell_type": "code",
   "execution_count": null,
   "metadata": {},
   "outputs": [],
   "source": [
    "rule_params = LeniaRuleParams(\n",
    "\tchannel_source=jnp.array(0, jnp.int32),\n",
    "\tchannel_target=jnp.array(0, jnp.int32),\n",
    "\tweight=jnp.array(1.0, jnp.float32),\n",
    "\tkernel_params=kernel_params,\n",
    "\tgrowth_params=growth_params,\n",
    ")\n",
    "rule_params = jax.tree.map(lambda x: x[None], rule_params)"
   ]
  },
  {
   "cell_type": "markdown",
   "metadata": {},
   "source": [
    "### Instantiate system"
   ]
  },
  {
   "cell_type": "code",
   "execution_count": null,
   "metadata": {},
   "outputs": [],
   "source": [
    "cs = FlowLenia(\n",
    "\tspatial_dims=spatial_dims,\n",
    "\tchannel_size=channel_size,\n",
    "\tR=R,\n",
    "\tT=T,\n",
    "\tstate_scale=state_scale,\n",
    "\trule_params=rule_params,\n",
    ")"
   ]
  },
  {
   "cell_type": "markdown",
   "metadata": {},
   "source": [
    "### Run"
   ]
  },
  {
   "cell_type": "code",
   "execution_count": null,
   "metadata": {},
   "outputs": [],
   "source": [
    "# ruff: noqa: E501\n",
    "# fmt: off\n",
    "orbium = jnp.array(\n",
    "\t[\n",
    "\t\t[\n",
    "\t\t[0.0, 0.0, 0.0, 0.0, 0.0, 0.0, 0.1, 0.14, 0.1, 0.0, 0.0, 0.03, 0.03, 0.0, 0.0, 0.3, 0.0, 0.0, 0.0, 0.0],\n",
    "\t\t[0.0, 0.0, 0.0, 0.0, 0.0, 0.08, 0.24, 0.3, 0.3, 0.18, 0.14, 0.15, 0.16, 0.15, 0.09, 0.2, 0.0, 0.0, 0.0, 0.0],\n",
    "\t\t[0.0, 0.0, 0.0, 0.0, 0.0, 0.15, 0.34, 0.44, 0.46, 0.38, 0.18, 0.14, 0.11, 0.13, 0.19, 0.18, 0.45, 0.0, 0.0, 0.0],\n",
    "\t\t[0.0, 0.0, 0.0, 0.0, 0.06, 0.13, 0.39, 0.5, 0.5, 0.37, 0.06, 0.0, 0.0, 0.0, 0.02, 0.16, 0.68, 0.0, 0.0, 0.0],\n",
    "\t\t[0.0, 0.0, 0.0, 0.11, 0.17, 0.17, 0.33, 0.4, 0.38, 0.28, 0.14, 0.0, 0.0, 0.0, 0.0, 0.0, 0.18, 0.42, 0.0, 0.0],\n",
    "\t\t[0.0, 0.0, 0.09, 0.18, 0.13, 0.06, 0.08, 0.26, 0.32, 0.32, 0.27, 0.0, 0.0, 0.0, 0.0, 0.0, 0.0, 0.82, 0.0, 0.0],\n",
    "\t\t[0.27, 0.0, 0.16, 0.12, 0.0, 0.0, 0.0, 0.25, 0.38, 0.44, 0.45, 0.34, 0.0, 0.0, 0.0, 0.0, 0.0, 0.22, 0.17, 0.0],\n",
    "\t\t[0.0, 0.07, 0.2, 0.02, 0.0, 0.0, 0.0, 0.31, 0.48, 0.57, 0.6, 0.57, 0.0, 0.0, 0.0, 0.0, 0.0, 0.0, 0.49, 0.0],\n",
    "\t\t[0.0, 0.59, 0.19, 0.0, 0.0, 0.0, 0.0, 0.2, 0.57, 0.69, 0.76, 0.76, 0.49, 0.0, 0.0, 0.0, 0.0, 0.0, 0.36, 0.0],\n",
    "\t\t[0.0, 0.58, 0.19, 0.0, 0.0, 0.0, 0.0, 0.0, 0.67, 0.83, 0.9, 0.92, 0.87, 0.12, 0.0, 0.0, 0.0, 0.0, 0.22, 0.07],\n",
    "\t\t[0.0, 0.0, 0.46, 0.0, 0.0, 0.0, 0.0, 0.0, 0.7, 0.93, 1.0, 1.0, 1.0, 0.61, 0.0, 0.0, 0.0, 0.0, 0.18, 0.11],\n",
    "\t\t[0.0, 0.0, 0.82, 0.0, 0.0, 0.0, 0.0, 0.0, 0.47, 1.0, 1.0, 0.98, 1.0, 0.96, 0.27, 0.0, 0.0, 0.0, 0.19, 0.1],\n",
    "\t\t[0.0, 0.0, 0.46, 0.0, 0.0, 0.0, 0.0, 0.0, 0.25, 1.0, 1.0, 0.84, 0.92, 0.97, 0.54, 0.14, 0.04, 0.1, 0.21, 0.05],\n",
    "\t\t[0.0, 0.0, 0.0, 0.4, 0.0, 0.0, 0.0, 0.0, 0.09, 0.8, 1.0, 0.82, 0.8, 0.85, 0.63, 0.31, 0.18, 0.19, 0.2, 0.01],\n",
    "\t\t[0.0, 0.0, 0.0, 0.36, 0.1, 0.0, 0.0, 0.0, 0.05, 0.54, 0.86, 0.79, 0.74, 0.72, 0.6, 0.39, 0.28, 0.24, 0.13, 0.0],\n",
    "\t\t[0.0, 0.0, 0.0, 0.01, 0.3, 0.07, 0.0, 0.0, 0.08, 0.36, 0.64, 0.7, 0.64, 0.6, 0.51, 0.39, 0.29, 0.19, 0.04, 0.0],\n",
    "\t\t[0.0, 0.0, 0.0, 0.0, 0.1, 0.24, 0.14, 0.1, 0.15, 0.29, 0.45, 0.53, 0.52, 0.46, 0.4, 0.31, 0.21, 0.08, 0.0, 0.0],\n",
    "\t\t[0.0, 0.0, 0.0, 0.0, 0.0, 0.08, 0.21, 0.21, 0.22, 0.29, 0.36, 0.39, 0.37, 0.33, 0.26, 0.18, 0.09, 0.0, 0.0, 0.0],\n",
    "\t\t[0.0, 0.0, 0.0, 0.0, 0.0, 0.0, 0.03, 0.13, 0.19, 0.22, 0.24, 0.24, 0.23, 0.18, 0.13, 0.05, 0.0, 0.0, 0.0, 0.0],\n",
    "\t\t[0.0, 0.0, 0.0, 0.0, 0.0, 0.0, 0.0, 0.0, 0.02, 0.06, 0.08, 0.09, 0.07, 0.05, 0.01, 0.0, 0.0, 0.0, 0.0, 0.0]\n",
    "\t\t]\n",
    "\t]\n",
    ").transpose((1, 2, 0))"
   ]
  },
  {
   "cell_type": "code",
   "execution_count": null,
   "metadata": {},
   "outputs": [],
   "source": [
    "state_init = sample_state(orbium)\n",
    "state_final = cs(state_init, num_steps=num_steps, sow=True)"
   ]
  },
  {
   "cell_type": "markdown",
   "metadata": {},
   "source": [
    "### Visualize"
   ]
  },
  {
   "cell_type": "code",
   "execution_count": null,
   "metadata": {},
   "outputs": [],
   "source": [
    "intermediates = nnx.pop(cs, nnx.Intermediate)\n",
    "states = intermediates.state.value[0]"
   ]
  },
  {
   "cell_type": "code",
   "execution_count": null,
   "metadata": {},
   "outputs": [],
   "source": [
    "states = jnp.concatenate([state_init[None], states])\n",
    "frames = nnx.vmap(\n",
    "\tlambda cs, state: cs.render(state),\n",
    "\tin_axes=(None, 0),\n",
    ")(cs, states)\n",
    "\n",
    "mediapy.show_video(frames, width=256, height=256)"
   ]
  },
  {
   "cell_type": "markdown",
   "metadata": {},
   "source": [
    "## Sampling Rules"
   ]
  },
  {
   "cell_type": "markdown",
   "metadata": {},
   "source": [
    "### Configuration"
   ]
  },
  {
   "cell_type": "code",
   "execution_count": null,
   "metadata": {},
   "outputs": [],
   "source": [
    "spatial_dims = (128, 128)\n",
    "channel_size = 1\n",
    "R = 20\n",
    "T = 10\n",
    "state_scale = 1\n",
    "\n",
    "num_rules = 10"
   ]
  },
  {
   "cell_type": "markdown",
   "metadata": {},
   "source": [
    "### Define sampling distribution"
   ]
  },
  {
   "cell_type": "code",
   "execution_count": null,
   "metadata": {},
   "outputs": [],
   "source": [
    "def sample_kernel_params(key: jax.Array, k: int = 3):\n",
    "\t\"\"\"Sample kernel parameters according to a specific distribution.\"\"\"\n",
    "\tkey_r, key_b, key_a, key_w = jax.random.split(key, 4)\n",
    "\tr = jax.random.uniform(key_r, minval=0.2, maxval=1.0)\n",
    "\tb = jax.random.uniform(key_b, shape=(k,), minval=0.001, maxval=1.0)\n",
    "\ta = jax.random.uniform(key_a, shape=(k,), minval=0.0, maxval=1.0)\n",
    "\tw = jax.random.uniform(key_w, shape=(k,), minval=0.01, maxval=0.5)\n",
    "\treturn FreeKernelParams(r=r, b=b, a=a, w=w)\n",
    "\n",
    "\n",
    "def sample_growth_params(key: jax.Array):\n",
    "\t\"\"\"Sample growth parameters according to a specific distribution.\"\"\"\n",
    "\tkey_mean, key_std = jax.random.split(key)\n",
    "\tmean = jax.random.uniform(key_mean, minval=0.05, maxval=0.5)\n",
    "\tstd = jax.random.uniform(key_std, minval=0.001, maxval=0.18)\n",
    "\treturn GrowthParams(mean=mean, std=std)\n",
    "\n",
    "\n",
    "def sample_rule_params(key: jax.Array, k: int = 3):\n",
    "\t\"\"\"Sample rule parameters according to a specific distribution.\"\"\"\n",
    "\tkey_channel_source, key_channel_target, key_weight, key_kernel_params, key_growth_params = (\n",
    "\t\tjax.random.split(key, 5)\n",
    "\t)\n",
    "\n",
    "\t# Sample channel source and target\n",
    "\tchannel_source = jax.random.randint(key_channel_source, (), minval=0, maxval=channel_size)\n",
    "\tchannel_target = jax.random.randint(key_channel_target, (), minval=0, maxval=channel_size)\n",
    "\n",
    "\t# Sample weight\n",
    "\tweight = jax.random.uniform(key_weight, minval=0.01, maxval=1.0)\n",
    "\n",
    "\t# Sample kernel and growth parameters\n",
    "\tkernel_params = sample_kernel_params(key_kernel_params, k)\n",
    "\tgrowth_params = sample_growth_params(key_growth_params)\n",
    "\n",
    "\treturn LeniaRuleParams(\n",
    "\t\tchannel_source=channel_source,\n",
    "\t\tchannel_target=channel_target,\n",
    "\t\tweight=weight,\n",
    "\t\tkernel_params=kernel_params,\n",
    "\t\tgrowth_params=growth_params,\n",
    "\t)"
   ]
  },
  {
   "cell_type": "markdown",
   "metadata": {},
   "source": [
    "### Sample rules"
   ]
  },
  {
   "cell_type": "code",
   "execution_count": null,
   "metadata": {},
   "outputs": [],
   "source": [
    "seed = 0\n",
    "\n",
    "key = jax.random.key(seed)\n",
    "keys = jax.random.split(key, num_rules)\n",
    "rule_params = jax.vmap(sample_rule_params)(keys)"
   ]
  },
  {
   "cell_type": "markdown",
   "metadata": {},
   "source": [
    "### Instantiate Flow Lenia with sampled rules"
   ]
  },
  {
   "cell_type": "code",
   "execution_count": null,
   "metadata": {},
   "outputs": [],
   "source": [
    "cs = FlowLenia(\n",
    "\tspatial_dims=spatial_dims,\n",
    "\tchannel_size=channel_size,\n",
    "\tR=R,\n",
    "\tT=T,\n",
    "\tstate_scale=state_scale,\n",
    "\trule_params=rule_params,\n",
    ")"
   ]
  },
  {
   "cell_type": "markdown",
   "metadata": {},
   "source": [
    "### Sample initial state"
   ]
  },
  {
   "cell_type": "code",
   "execution_count": null,
   "metadata": {},
   "outputs": [],
   "source": [
    "def sample_state(key):\n",
    "\t\"\"\"Sample a state with a uniformly sampled random pattern at the center.\"\"\"\n",
    "\tpattern = jax.random.uniform(key, (40, 40, channel_size))\n",
    "\n",
    "\t# Calculate the center of the state for each dimension\n",
    "\tmid = tuple(dim // 2 for dim in spatial_dims)\n",
    "\n",
    "\t# Scale pattern\n",
    "\tpattern_scaled = pattern\n",
    "\tfor axis in range(len(spatial_dims)):\n",
    "\t\tpattern_scaled = pattern_scaled.repeat(state_scale, axis=axis)\n",
    "\n",
    "\t# Get the shape of the scaled cells\n",
    "\tpattern_spatial_dims = pattern_scaled.shape[:-1]  # Exclude the channel dimension\n",
    "\n",
    "\t# Create empty state with the shape defined by spatial_dims and channel_size\n",
    "\tstate = jnp.zeros((*spatial_dims, channel_size))\n",
    "\n",
    "\t# Calculate the slice indices for each dimension\n",
    "\tslices = tuple(slice(m - c // 2, m + c - c // 2) for m, c in zip(mid, pattern_spatial_dims))\n",
    "\n",
    "\t# Place the scaled cells in the center of the state\n",
    "\tstate = state.at[slices].set(pattern_scaled)\n",
    "\n",
    "\treturn state"
   ]
  },
  {
   "cell_type": "markdown",
   "metadata": {},
   "source": [
    "### Run"
   ]
  },
  {
   "cell_type": "code",
   "execution_count": null,
   "metadata": {},
   "outputs": [],
   "source": [
    "key, subkey = jax.random.split(key)\n",
    "state_init = sample_state(subkey)\n",
    "state_final = cs(state_init, num_steps=num_steps, sow=True)"
   ]
  },
  {
   "cell_type": "markdown",
   "metadata": {},
   "source": [
    "### Visualize"
   ]
  },
  {
   "cell_type": "code",
   "execution_count": null,
   "metadata": {},
   "outputs": [],
   "source": [
    "intermediates = nnx.pop(cs, nnx.Intermediate)\n",
    "states = intermediates.state.value[0]"
   ]
  },
  {
   "cell_type": "code",
   "execution_count": null,
   "metadata": {},
   "outputs": [],
   "source": [
    "states = jnp.concatenate([state_init[None], states])\n",
    "frames = nnx.vmap(\n",
    "\tlambda cs, state: cs.render(state),\n",
    "\tin_axes=(None, 0),\n",
    ")(cs, states)\n",
    "\n",
    "mediapy.show_video(frames, width=256, height=256)"
   ]
  },
  {
   "cell_type": "markdown",
   "metadata": {},
   "source": [
    "## Sampling rules with three channels"
   ]
  },
  {
   "cell_type": "markdown",
   "metadata": {},
   "source": [
    "### Configuration"
   ]
  },
  {
   "cell_type": "code",
   "execution_count": null,
   "metadata": {},
   "outputs": [],
   "source": [
    "spatial_dims = (128, 128)\n",
    "channel_size = 3\n",
    "R = 15\n",
    "T = 10\n",
    "state_scale = 1\n",
    "\n",
    "num_rules = 15"
   ]
  },
  {
   "cell_type": "markdown",
   "metadata": {},
   "source": [
    "### Define sampling distribution"
   ]
  },
  {
   "cell_type": "code",
   "execution_count": null,
   "metadata": {},
   "outputs": [],
   "source": [
    "def sample_kernel_params(key: jax.Array, k: int = 3):\n",
    "\t\"\"\"Sample kernel parameters according to a specific distribution.\"\"\"\n",
    "\tkey_r, key_b, key_a, key_w = jax.random.split(key, 4)\n",
    "\tr = jax.random.uniform(key_r, minval=0.2, maxval=1.0)\n",
    "\tb = jax.random.uniform(key_b, shape=(k,), minval=0.001, maxval=1.0)\n",
    "\ta = jax.random.uniform(key_a, shape=(k,), minval=0.0, maxval=1.0)\n",
    "\tw = jax.random.uniform(key_w, shape=(k,), minval=0.01, maxval=0.5)\n",
    "\treturn FreeKernelParams(r=r, b=b, a=a, w=w)\n",
    "\n",
    "\n",
    "def sample_growth_params(key: jax.Array):\n",
    "\t\"\"\"Sample growth parameters according to a specific distribution.\"\"\"\n",
    "\tkey_mean, key_std = jax.random.split(key)\n",
    "\tmean = jax.random.uniform(key_mean, minval=0.05, maxval=0.5)\n",
    "\tstd = jax.random.uniform(key_std, minval=0.001, maxval=0.18)\n",
    "\treturn GrowthParams(mean=mean, std=std)\n",
    "\n",
    "\n",
    "def sample_rule_params(key: jax.Array, k: int = 3):\n",
    "\t\"\"\"Sample rule parameters according to a specific distribution.\"\"\"\n",
    "\tkey_channel_source, key_channel_target, key_weight, key_kernel_params, key_growth_params = (\n",
    "\t\tjax.random.split(key, 5)\n",
    "\t)\n",
    "\n",
    "\t# Sample channel source and target\n",
    "\tchannel_source = jax.random.randint(key_channel_source, (), minval=0, maxval=channel_size)\n",
    "\tchannel_target = jax.random.randint(key_channel_target, (), minval=0, maxval=channel_size)\n",
    "\n",
    "\t# Sample weight\n",
    "\tweight = jax.random.uniform(key_weight, minval=0.01, maxval=1.0)\n",
    "\n",
    "\t# Sample kernel and growth parameters\n",
    "\tkernel_params = sample_kernel_params(key_kernel_params, k)\n",
    "\tgrowth_params = sample_growth_params(key_growth_params)\n",
    "\n",
    "\treturn LeniaRuleParams(\n",
    "\t\tchannel_source=channel_source,\n",
    "\t\tchannel_target=channel_target,\n",
    "\t\tweight=weight,\n",
    "\t\tkernel_params=kernel_params,\n",
    "\t\tgrowth_params=growth_params,\n",
    "\t)"
   ]
  },
  {
   "cell_type": "markdown",
   "metadata": {},
   "source": [
    "### Sample rules"
   ]
  },
  {
   "cell_type": "code",
   "execution_count": null,
   "metadata": {},
   "outputs": [],
   "source": [
    "seed = 0\n",
    "\n",
    "key = jax.random.key(seed)\n",
    "keys = jax.random.split(key, num_rules)\n",
    "rule_params = jax.vmap(sample_rule_params)(keys)"
   ]
  },
  {
   "cell_type": "markdown",
   "metadata": {},
   "source": [
    "### Instantiate Lenia with sampled rules"
   ]
  },
  {
   "cell_type": "code",
   "execution_count": null,
   "metadata": {},
   "outputs": [],
   "source": [
    "cs = FlowLenia(\n",
    "\tspatial_dims=spatial_dims,\n",
    "\tchannel_size=channel_size,\n",
    "\tR=R,\n",
    "\tT=T,\n",
    "\tstate_scale=state_scale,\n",
    "\trule_params=rule_params,\n",
    ")"
   ]
  },
  {
   "cell_type": "markdown",
   "metadata": {},
   "source": [
    "### Sample initial state"
   ]
  },
  {
   "cell_type": "code",
   "execution_count": null,
   "metadata": {},
   "outputs": [],
   "source": [
    "def sample_state(key):\n",
    "\t\"\"\"Sample a state with a uniformly sampled random pattern at the center.\"\"\"\n",
    "\tpattern = jax.random.uniform(key, (40, 40, channel_size))\n",
    "\n",
    "\t# Calculate the center of the state for each dimension\n",
    "\tmid = tuple(dim // 2 for dim in spatial_dims)\n",
    "\n",
    "\t# Scale pattern\n",
    "\tpattern_scaled = pattern\n",
    "\tfor axis in range(len(spatial_dims)):\n",
    "\t\tpattern_scaled = pattern_scaled.repeat(state_scale, axis=axis)\n",
    "\n",
    "\t# Get the shape of the scaled cells\n",
    "\tpattern_spatial_dims = pattern_scaled.shape[:-1]  # Exclude the channel dimension\n",
    "\n",
    "\t# Create empty state with the shape defined by spatial_dims and channel_size\n",
    "\tstate = jnp.zeros((*spatial_dims, channel_size))\n",
    "\n",
    "\t# Calculate the slice indices for each dimension\n",
    "\tslices = tuple(slice(m - c // 2, m + c - c // 2) for m, c in zip(mid, pattern_spatial_dims))\n",
    "\n",
    "\t# Place the scaled cells in the center of the state\n",
    "\tstate = state.at[slices].set(pattern_scaled)\n",
    "\n",
    "\treturn state"
   ]
  },
  {
   "cell_type": "markdown",
   "metadata": {},
   "source": [
    "### Run"
   ]
  },
  {
   "cell_type": "code",
   "execution_count": null,
   "metadata": {},
   "outputs": [],
   "source": [
    "key, subkey = jax.random.split(key)\n",
    "state_init = sample_state(subkey)\n",
    "state_final = cs(state_init, num_steps=num_steps, sow=True)"
   ]
  },
  {
   "cell_type": "markdown",
   "metadata": {},
   "source": [
    "### Visualize"
   ]
  },
  {
   "cell_type": "code",
   "execution_count": null,
   "metadata": {},
   "outputs": [],
   "source": [
    "intermediates = nnx.pop(cs, nnx.Intermediate)\n",
    "states = intermediates.state.value[0]"
   ]
  },
  {
   "cell_type": "code",
   "execution_count": null,
   "metadata": {},
   "outputs": [],
   "source": [
    "states = jnp.concatenate([state_init[None], states])\n",
    "frames = nnx.vmap(\n",
    "\tlambda cs, state: cs.render(state),\n",
    "\tin_axes=(None, 0),\n",
    ")(cs, states)\n",
    "\n",
    "mediapy.show_video(frames, width=256, height=256)"
   ]
  }
 ],
 "metadata": {
  "accelerator": "GPU",
  "colab": {
   "collapsed_sections": [
    "Ivz44qh-Vnwk",
    "fEp3so-J-qTa",
    "cZDoB0hfV_0z",
    "k2PYqFeTWDFP",
    "y_3wzLHQWFvH",
    "2NoVoRiMUO7I",
    "6ASUMfWYmiIN"
   ],
   "machine_shape": "hm",
   "provenance": [],
   "toc_visible": true
  },
  "gpuClass": "standard",
  "kernelspec": {
   "display_name": ".venv",
   "language": "python",
   "name": "python3"
  },
  "language_info": {
   "codemirror_mode": {
    "name": "ipython",
    "version": 3
   },
   "file_extension": ".py",
   "mimetype": "text/x-python",
   "name": "python",
   "nbconvert_exporter": "python",
   "pygments_lexer": "ipython3",
   "version": "3.13.3"
  }
 },
 "nbformat": 4,
 "nbformat_minor": 0
}
