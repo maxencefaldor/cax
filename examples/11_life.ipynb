{
 "cells": [
  {
   "cell_type": "markdown",
   "metadata": {},
   "source": [
    "# Conway's Game of Life [![Colab](https://colab.research.google.com/assets/colab-badge.svg)](https://colab.research.google.com/github/maxencefaldor/cax/blob/main/examples/11_life.ipynb)"
   ]
  },
  {
   "cell_type": "markdown",
   "metadata": {},
   "source": [
    "## Installation"
   ]
  },
  {
   "cell_type": "markdown",
   "metadata": {},
   "source": [
    "You will need Python 3.10 or later, and a working JAX installation. For example, you can install JAX with:"
   ]
  },
  {
   "cell_type": "code",
   "execution_count": null,
   "metadata": {},
   "outputs": [],
   "source": [
    "%pip install -U \"jax[cuda12]\""
   ]
  },
  {
   "cell_type": "markdown",
   "metadata": {},
   "source": [
    "Then, install CAX from PyPi:"
   ]
  },
  {
   "cell_type": "code",
   "execution_count": null,
   "metadata": {},
   "outputs": [],
   "source": [
    "%pip install -U \"cax[examples]\""
   ]
  },
  {
   "cell_type": "markdown",
   "metadata": {},
   "source": [
    "## Import"
   ]
  },
  {
   "cell_type": "code",
   "execution_count": 1,
   "metadata": {},
   "outputs": [],
   "source": [
    "import jax\n",
    "import jax.numpy as jnp\n",
    "import mediapy\n",
    "from flax import nnx\n",
    "\n",
    "from cax.systems.life import Life"
   ]
  },
  {
   "cell_type": "markdown",
   "metadata": {},
   "source": [
    "## Configuration"
   ]
  },
  {
   "cell_type": "code",
   "execution_count": 2,
   "metadata": {},
   "outputs": [],
   "source": [
    "seed = 0\n",
    "\n",
    "spatial_dims = (32, 32)\n",
    "\n",
    "num_steps = 128\n",
    "\n",
    "key = jax.random.key(seed)\n",
    "rngs = nnx.Rngs(seed)"
   ]
  },
  {
   "cell_type": "markdown",
   "metadata": {},
   "source": [
    "## Model"
   ]
  },
  {
   "cell_type": "code",
   "execution_count": 3,
   "metadata": {},
   "outputs": [],
   "source": [
    "ca = Life(rngs=rngs)"
   ]
  },
  {
   "cell_type": "code",
   "execution_count": 4,
   "metadata": {},
   "outputs": [],
   "source": [
    "ca.update.update_birth_survival_from_string(\"B3/S23\")"
   ]
  },
  {
   "cell_type": "markdown",
   "metadata": {},
   "source": [
    "## Sample initial state"
   ]
  },
  {
   "cell_type": "code",
   "execution_count": 5,
   "metadata": {},
   "outputs": [],
   "source": [
    "def sample_state():\n",
    "\t\"\"\"Sample a state with a glider for the Game of Life.\"\"\"\n",
    "\tstate = jnp.zeros((*spatial_dims, 1))\n",
    "\n",
    "\tmid_x, mid_y = spatial_dims[0] // 2, spatial_dims[1] // 2\n",
    "\tglider = jnp.array(\n",
    "\t\t[\n",
    "\t\t\t[0.0, 1.0, 0.0],\n",
    "\t\t\t[0.0, 0.0, 1.0],\n",
    "\t\t\t[1.0, 1.0, 1.0],\n",
    "\t\t]\n",
    "\t)\n",
    "\treturn state.at[mid_x : mid_x + 3, mid_y : mid_y + 3, 0].set(glider)"
   ]
  },
  {
   "cell_type": "markdown",
   "metadata": {},
   "source": [
    "## Run"
   ]
  },
  {
   "cell_type": "code",
   "execution_count": 6,
   "metadata": {},
   "outputs": [],
   "source": [
    "state_init = sample_state()\n",
    "state_final, states = ca(state_init, num_steps=num_steps)"
   ]
  },
  {
   "cell_type": "markdown",
   "metadata": {},
   "source": [
    "## Visualize"
   ]
  },
  {
   "cell_type": "code",
   "execution_count": 7,
   "metadata": {},
   "outputs": [
    {
     "data": {
      "text/html": [
       "<table class=\"show_videos\" style=\"border-spacing:0px;\"><tr><td style=\"padding:1px;\"><img width=\"256\" height=\"256\" style=\"image-rendering:pixelated; object-fit:cover;\" src=\"data:image/gif;base64,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\"/></td></tr></table>"
      ],
      "text/plain": [
       "<IPython.core.display.HTML object>"
      ]
     },
     "metadata": {},
     "output_type": "display_data"
    }
   ],
   "source": [
    "states = jnp.concatenate([state_init[None], states])\n",
    "frames = jax.vmap(ca.render)(states)\n",
    "\n",
    "mediapy.show_video(frames, width=256, height=256, codec=\"gif\")"
   ]
  },
  {
   "cell_type": "markdown",
   "metadata": {},
   "source": [
    "## Life Family"
   ]
  },
  {
   "cell_type": "markdown",
   "metadata": {},
   "source": [
    "You can experiment with other [Life-like Cellular Automata](https://en.wikipedia.org/wiki/Life-like_cellular_automaton) by changing the rule."
   ]
  },
  {
   "cell_type": "markdown",
   "metadata": {},
   "source": [
    "### [HighLife](https://en.wikipedia.org/wiki/Highlife_(cellular_automaton))"
   ]
  },
  {
   "cell_type": "code",
   "execution_count": 8,
   "metadata": {},
   "outputs": [],
   "source": [
    "ca.update.update_birth_survival_from_string(\"B36/S23\")"
   ]
  },
  {
   "cell_type": "markdown",
   "metadata": {},
   "source": [
    "### [Life without Death](https://en.wikipedia.org/wiki/Life_without_Death)"
   ]
  },
  {
   "cell_type": "code",
   "execution_count": 9,
   "metadata": {},
   "outputs": [],
   "source": [
    "ca.update.update_birth_survival_from_string(\"B3/S012345678\")"
   ]
  },
  {
   "cell_type": "markdown",
   "metadata": {},
   "source": [
    "### Run"
   ]
  },
  {
   "cell_type": "code",
   "execution_count": 10,
   "metadata": {},
   "outputs": [],
   "source": [
    "state_init = sample_state()\n",
    "state_final, states = ca(state_init, num_steps=num_steps)"
   ]
  },
  {
   "cell_type": "markdown",
   "metadata": {},
   "source": [
    "### Visualize"
   ]
  },
  {
   "cell_type": "code",
   "execution_count": 11,
   "metadata": {},
   "outputs": [
    {
     "data": {
      "text/html": [
       "<table class=\"show_videos\" style=\"border-spacing:0px;\"><tr><td style=\"padding:1px;\"><img width=\"256\" height=\"256\" style=\"image-rendering:pixelated; object-fit:cover;\" src=\"data:image/gif;base64,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\"/></td></tr></table>"
      ],
      "text/plain": [
       "<IPython.core.display.HTML object>"
      ]
     },
     "metadata": {},
     "output_type": "display_data"
    }
   ],
   "source": [
    "states = jnp.concatenate([state_init[None], states])\n",
    "frames = jax.vmap(ca.render)(states)\n",
    "\n",
    "mediapy.show_video(frames, width=256, height=256, codec=\"gif\")"
   ]
  }
 ],
 "metadata": {
  "kernelspec": {
   "display_name": ".venv",
   "language": "python",
   "name": "python3"
  },
  "language_info": {
   "codemirror_mode": {
    "name": "ipython",
    "version": 3
   },
   "file_extension": ".py",
   "mimetype": "text/x-python",
   "name": "python",
   "nbconvert_exporter": "python",
   "pygments_lexer": "ipython3",
   "version": "3.13.3"
  }
 },
 "nbformat": 4,
 "nbformat_minor": 2
}
