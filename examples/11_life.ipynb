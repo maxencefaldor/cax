{
 "cells": [
  {
   "cell_type": "markdown",
   "metadata": {},
   "source": [
    "# Conway's Game of Life [![Colab](https://colab.research.google.com/assets/colab-badge.svg)](https://colab.research.google.com/github/maxencefaldor/cax/blob/main/examples/11_life.ipynb)"
   ]
  },
  {
   "cell_type": "markdown",
   "metadata": {},
   "source": [
    "## Installation"
   ]
  },
  {
   "cell_type": "markdown",
   "metadata": {},
   "source": [
    "You will need Python 3.10 or later, and a working JAX installation. For example, you can install JAX with:"
   ]
  },
  {
   "cell_type": "code",
   "execution_count": null,
   "metadata": {},
   "outputs": [],
   "source": [
    "%pip install -U \"jax[cuda12]\""
   ]
  },
  {
   "cell_type": "markdown",
   "metadata": {},
   "source": [
    "Then, install CAX from PyPi:"
   ]
  },
  {
   "cell_type": "code",
   "execution_count": null,
   "metadata": {},
   "outputs": [],
   "source": [
    "%pip install -U \"cax[examples]\""
   ]
  },
  {
   "cell_type": "markdown",
   "metadata": {},
   "source": [
    "## Import"
   ]
  },
  {
   "cell_type": "code",
   "execution_count": null,
   "metadata": {},
   "outputs": [],
   "source": [
    "import jax\n",
    "import jax.numpy as jnp\n",
    "import mediapy\n",
    "from flax import nnx\n",
    "\n",
    "from cax.models.life import Life"
   ]
  },
  {
   "cell_type": "markdown",
   "metadata": {},
   "source": [
    "## Configuration"
   ]
  },
  {
   "cell_type": "code",
   "execution_count": 3,
   "metadata": {},
   "outputs": [],
   "source": [
    "seed = 0\n",
    "\n",
    "spatial_dims = (32, 32)\n",
    "\n",
    "num_steps = 128\n",
    "\n",
    "key = jax.random.key(seed)\n",
    "rngs = nnx.Rngs(seed)"
   ]
  },
  {
   "cell_type": "markdown",
   "metadata": {},
   "source": [
    "## Model"
   ]
  },
  {
   "cell_type": "code",
   "execution_count": 5,
   "metadata": {},
   "outputs": [],
   "source": [
    "ca = Life(rngs=rngs)"
   ]
  },
  {
   "cell_type": "markdown",
   "metadata": {},
   "source": [
    "## Sample initial state"
   ]
  },
  {
   "cell_type": "code",
   "execution_count": 4,
   "metadata": {},
   "outputs": [],
   "source": [
    "def sample_state():\n",
    "\t\"\"\"Sample a state with a glider for the Game of Life.\"\"\"\n",
    "\tstate = jnp.zeros((*spatial_dims, 1))\n",
    "\n",
    "\tmid_x, mid_y = spatial_dims[0] // 2, spatial_dims[1] // 2\n",
    "\tglider = jnp.array(\n",
    "\t\t[\n",
    "\t\t\t[0.0, 1.0, 0.0],\n",
    "\t\t\t[0.0, 0.0, 1.0],\n",
    "\t\t\t[1.0, 1.0, 1.0],\n",
    "\t\t]\n",
    "\t)\n",
    "\treturn state.at[mid_x : mid_x + 3, mid_y : mid_y + 3, 0].set(glider)"
   ]
  },
  {
   "cell_type": "markdown",
   "metadata": {},
   "source": [
    "## Run"
   ]
  },
  {
   "cell_type": "code",
   "execution_count": null,
   "metadata": {},
   "outputs": [],
   "source": [
    "state_init = sample_state()\n",
    "state_final, states = ca(state_init, num_steps=num_steps)"
   ]
  },
  {
   "cell_type": "markdown",
   "metadata": {},
   "source": [
    "## Visualize"
   ]
  },
  {
   "cell_type": "code",
   "execution_count": 7,
   "metadata": {},
   "outputs": [
    {
     "data": {
      "text/html": [
       "<table class=\"show_videos\" style=\"border-spacing:0px;\"><tr><td style=\"padding:1px;\"><img width=\"256\" height=\"256\" style=\"image-rendering:pixelated; object-fit:cover;\" src=\"data:image/gif;base64,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\"/></td></tr></table>"
      ],
      "text/plain": [
       "<IPython.core.display.HTML object>"
      ]
     },
     "metadata": {},
     "output_type": "display_data"
    }
   ],
   "source": [
    "states = jnp.concatenate([state_init[None], states])\n",
    "frames = jax.vmap(ca.render)(states)\n",
    "\n",
    "mediapy.show_video(frames, width=256, height=256, codec=\"gif\")"
   ]
  }
 ],
 "metadata": {
  "kernelspec": {
   "display_name": ".venv",
   "language": "python",
   "name": "python3"
  },
  "language_info": {
   "codemirror_mode": {
    "name": "ipython",
    "version": 3
   },
   "file_extension": ".py",
   "mimetype": "text/x-python",
   "name": "python",
   "nbconvert_exporter": "python",
   "pygments_lexer": "ipython3",
   "version": "3.12.8"
  }
 },
 "nbformat": 4,
 "nbformat_minor": 2
}
