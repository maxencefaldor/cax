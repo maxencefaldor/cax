{
 "cells": [
  {
   "cell_type": "markdown",
   "metadata": {},
   "source": [
    "# Attention-based Neural Cellular Automata [![Colab](https://colab.research.google.com/assets/colab-badge.svg)](https://colab.research.google.com/github/maxencefaldor/cax/blob/main/examples/47_attention_nca.ipynb)"
   ]
  },
  {
   "cell_type": "markdown",
   "metadata": {},
   "source": [
    "## Installation"
   ]
  },
  {
   "cell_type": "markdown",
   "metadata": {},
   "source": [
    "You will need Python 3.10 or later, and a working JAX installation. For example, you can install JAX with:"
   ]
  },
  {
   "cell_type": "code",
   "execution_count": null,
   "metadata": {},
   "outputs": [],
   "source": [
    "%pip install -U \"jax[cuda12]\""
   ]
  },
  {
   "cell_type": "markdown",
   "metadata": {},
   "source": [
    "Then, install CAX from PyPi:"
   ]
  },
  {
   "cell_type": "code",
   "execution_count": null,
   "metadata": {},
   "outputs": [],
   "source": [
    "%pip install -U \"cax[examples]\""
   ]
  },
  {
   "cell_type": "markdown",
   "metadata": {},
   "source": [
    "## Import"
   ]
  },
  {
   "cell_type": "code",
   "execution_count": null,
   "metadata": {},
   "outputs": [],
   "source": [
    "import jax\n",
    "import jax.numpy as jnp\n",
    "import mediapy\n",
    "import optax\n",
    "import torchvision\n",
    "from flax import nnx\n",
    "from tqdm.auto import tqdm\n",
    "\n",
    "from cax.core.ca import CA\n",
    "from cax.core.perceive import Perceive\n",
    "from cax.core.update import ResidualUpdate\n",
    "from cax.nn.pool import Pool\n",
    "from cax.types import Perception, State\n",
    "from cax.utils import clip_and_uint8"
   ]
  },
  {
   "cell_type": "markdown",
   "metadata": {},
   "source": [
    "## Configuration"
   ]
  },
  {
   "cell_type": "code",
   "execution_count": 4,
   "metadata": {},
   "outputs": [],
   "source": [
    "seed = 0\n",
    "\n",
    "spatial_dims = (28, 28)\n",
    "channel_size = 32\n",
    "perception_size = 64\n",
    "num_heads = 4\n",
    "hidden_size = 128\n",
    "proj_size = 32\n",
    "cell_dropout_rate = 0.5\n",
    "\n",
    "pool_size = 1_024\n",
    "batch_size = 4\n",
    "num_steps = 32\n",
    "learning_rate = 1e-3\n",
    "mask_ratio = 0.5\n",
    "\n",
    "key = jax.random.key(seed)\n",
    "rngs = nnx.Rngs(seed)"
   ]
  },
  {
   "cell_type": "markdown",
   "metadata": {},
   "source": [
    "## Dataset"
   ]
  },
  {
   "cell_type": "code",
   "execution_count": 5,
   "metadata": {},
   "outputs": [
    {
     "data": {
      "text/html": [
       "<table class=\"show_images\" style=\"border-spacing:0px;\"><tr><td style=\"padding:1px;\"><img width=\"128\" height=\"128\" style=\"image-rendering:pixelated; object-fit:cover;\" src=\"data:image/png;base64,iVBORw0KGgoAAAANSUhEUgAAABwAAAAcCAIAAAD9b0jDAAAB7ElEQVR4nO2UP8hxURjAz0VKittd/CuLwSDKICWDDEbdE5OyyMZksTEpg0ky3AwmC2VQdyAKpQwGA5IMhJXrT7crx32H2/flfT/vHzJ93/ebTj3P+XWenvM8APzn70EsFhO/SCQS6XS6Wq1qtdpSqcTzPMuyyWTyNl/ymUiv10ulUofD4XQ6cRz3+Xy30dVqlc1mIYSHw2E4HLbb7dsodtdotVqbzaZSqbwbvV6voVDodDoBADabzXa7nU6n39dLEMRsNkPv6fV6NE2zLMswzPeKu5AkWSgUIpGIYBwMBnK5HABgMpkoinpSCgBQKBQYhlEUhRAKBAI/vyj6Irbf73meF4oNh8Mi0VfJjyGXy1utFkLI4/G8TAoAMBgMDMMsFotisRiNRjHs/p95GAjhbrcTmhaPxzUazWu8ZrO5Xq8L3nw+r9PpXuPFcTwYDF4uF4RQo9F4jVSA4ziEEMdxLpfrbsKns/8nFovF7/fbbDaJRAIAGI/HnU7n+acZjcZcLrder3+P7Pl8pmn6SZ1arY7FYvP5/HYJ9Pt9r9f7jE6lUrnd7tFo9GGnQAifGS2CIMrl8oct1e12SZKUyWQP6+x2e6VSWS6Xt7rj8ZhKpYQV9UPedR9CCCEUzpPJpFarIYQymcxut3v4gf8wb5vwG2+h9UGFAAAAAElFTkSuQmCC\"/></td><td style=\"padding:1px;\"><img width=\"128\" height=\"128\" style=\"image-rendering:pixelated; object-fit:cover;\" src=\"data:image/png;base64,iVBORw0KGgoAAAANSUhEUgAAABwAAAAcCAIAAAD9b0jDAAAB8ElEQVR4nO3Su4vqQBQHYMfCgKQTCyGW2i0EA2JAsEwRy8Q/RLDQSrSwsjCdVUAIVjaxsxAfQcHGdJYaRDGFD7ASzjFbhCt7110f64Xb7K+bmZOPkzPj8fzm/4bjOFVVEVFV1Vgs9g9ElmV3ux38yXa7fVWMx+PL5RIRAWC/39u2DQA8z/t8vp9wfr8/mUwuFgsAcNHJZCJJkrssFArXn3jvovV6vdfrMQxz2YnFYjRN9/t9j8fz9vb2NMpxnCiKhBBCyGAwyOVyhJDNZjOdThVF8Xq9hJC7bf2VjzfTbrdpmhZFMZ/PB4NBtwARj8fjE88gGo1qmoaItm2bpilJ0nWNO2JN0x4SKYrSdR0ADoeDIAiBQODjTD+hw+HwIZTnefevU6nUjbLn0NFohIjdbvd2meM4iGgYxqf9L24/nU6zLOs4jq7rt9Hz+ew4jmma99uUZRkA1ut1KBT6roaiqEqlgoidToem6UfR+Xx+QyyXywBgWZYgCPfFC1qr1b48ZVlW0zQAaLVaD3FuMpkMIlqWdX2UzWZ3ux0iNhqNJ8RLp6fTSVEUlmXD4bAsy7quW5aFiPP5vNlsJhKJn6BuVqvVbDa7LA3DKJVKz3FuGIYZj8eu4j5vALBt+7spP5pQKFQsFi9otVqNRCIvib95Me/8RUrNjUX6NgAAAABJRU5ErkJggg==\"/></td><td style=\"padding:1px;\"><img width=\"128\" height=\"128\" style=\"image-rendering:pixelated; object-fit:cover;\" src=\"data:image/png;base64,iVBORw0KGgoAAAANSUhEUgAAABwAAAAcCAIAAAD9b0jDAAABlklEQVR4nO3Ur6vCUBQH8HMPY2BRFOQGRVgQ20wGDSIMRGxaZ1bw3zAJZpNJk02TwWRzOKMLKoJDQdtAUATZXhDU54/r3jC9975p9+zuc8/gcAH+8/sjSdJms4lEInd1vF0kk8lcLmcfjcViqqo+1r+hqVQqn8/bFBFREIRQKEQIYe2bz+etVssmGggETNNsNptvOkXExx2v0mg0AGA2m7FQURQppfZRj8cDAP1+n4Vms1mXy2VTpJQKggAA6/WahZ4nYzKZ2EFrtRqldDqd7na7x7fc3Xo0GjEst9udyWQKhUI6nQaASqViGMZ71OfzXZ6j0SgiSpIUDAZ5npdlGREPh4OiKMfjkeO48Xj89OzriNXr9VKpZBiGruvniiiKhJDT6bTf7zVNUxRFVdXBYLDdblerldfr5Xn+KXrttFwuL5fLRCJxqei63u12NU0bDoe33xSLRb/fv1gsnooO0263TdOsVquvNvxg2u/S6XQ+jzLiECWEhMPhD6OWZTEuCue/H4/HP4yy71AnaK/XsyzLWTd/IV/VrISFLCLl1wAAAABJRU5ErkJggg==\"/></td><td style=\"padding:1px;\"><img width=\"128\" height=\"128\" style=\"image-rendering:pixelated; object-fit:cover;\" src=\"data:image/png;base64,iVBORw0KGgoAAAANSUhEUgAAABwAAAAcCAIAAAD9b0jDAAABKElEQVR4nO3UoYrDQBAG4KGmFYWYQOSuq80DhLSEPEBtTIjsQ5Q8QXxERV4gD1ATEShxUTERiVvVRkQUKoZhTyyFg1PXzplyv979dmB/BuA/n5zj8UhEWuvtdssjJklyv98RkYh83/95YPECKoRYLpdvz/YtYRhO04SIXdcJIVar1bui53lKKURExDiOOYYEOJ1OREREVVXxiLZtExEi3m63IAgYRCll27YGTdOUQQSAw+FgOnQ+ny3LYhD3+/08z4hY17XjOAyilJKeKYqCQQSAPM/xmc1mwyC6rjuOoxHLsmQQAeB6vRrxcrms12se1HQIEaMo4hGLotBamy8SQjCIrusqpYjo8XhkWcawOABgt9uZtg/D8Nu7r+zT19G+75um+YsnPz5fGjKxvq7r4c4AAAAASUVORK5CYII=\"/></td><td style=\"padding:1px;\"><img width=\"128\" height=\"128\" style=\"image-rendering:pixelated; object-fit:cover;\" src=\"data:image/png;base64,iVBORw0KGgoAAAANSUhEUgAAABwAAAAcCAIAAAD9b0jDAAABk0lEQVR4nO3Ur6vCUBQH8DkUFGVYHCaLS/sHrhbBtKTGFYP/gEEQbAPBZBF0f4SaltQyEcRgXRFtaphgUhCD5+ALh2d5IPfKeMlvuwfu5x7uL0n65pv/D2PMtm3P8xARERuNhmmatm0zxj4UTdM8nU4AgIiu63qeBwA0HA6Hwlw4HM7n89frFQDm83mxWIxEIolEYjKZENpsNoXRWq1GTU2nU0VRqFitVqm43+9TqZSY2Ol0EBEA+v3+S5QkabPZEFqpVMREy7IQ8X6/O44Ti8WoGI1Gy+Xy7XZDxHa7LSYmk0k6GcdxXkVN09brNfU4Go3i8bgYqqoqTc5kMqqqtlqt1Wp1uVxoNx6PR6lUEhOpU9/36XzhN4fD4Xg8AoDv+8IihTF2Pp8RcbvddrtdXdfT6fRisQCAXq/3Ifo3hULh+XwiYr1eDww1DIN2Q/huvg8/KnOKhmHwL8+LZrPZ4NHlcinLcigU4qe5stvtACCXywWJ0qfluq6u64GhiqLMZjMAGI/Hwm//vTsYDAAgyGY58wOibf6AWXkq6wAAAABJRU5ErkJggg==\"/></td><td style=\"padding:1px;\"><img width=\"128\" height=\"128\" style=\"image-rendering:pixelated; object-fit:cover;\" src=\"data:image/png;base64,iVBORw0KGgoAAAANSUhEUgAAABwAAAAcCAIAAAD9b0jDAAACI0lEQVR4nO2Uv+txURzHj8ev8pvCJAllMVAsLJQiJYuwWSgGExvKxGKxsLDYyMId5A9ASZSFUtS9RZbb9SPRuXmG2yP1jS+e5Xnq+5rOvfec131/zr2fA8AP/wW0t2bz+Xwej+d2u2UyWaFQOJ/Pf/VylUpVKpUmkwn8Q7FY/Fyn0+nK5fLhcIAQkiS5Wq2m0ymEcLPZ6HS6t3VCobBcLuM4fks3m82USqVWq6UurVbr29JQKATvmM/nCoUCAPCt9NcTqc/nowar1arRaDgcDhRFAQDfVs148iwcDkcikW63u1gsttvt7b5cLn8u/YRKpfK8/GdJ74nH41wul0ajXa9XvV4PAOj1ev1+/5NQHA7HZDK1222SJEmSvF6v1ADDMLVa/baOyWSazWYURSGE+/0ew7B6vb7b7ajC1+t1MplksVhvGFkslsfjodan02mLxQIAkEgk9x0FIfT7/Ww2+9WMuVyOWoYgiEgkAgBIpdLhcEiS5Ol0ymazzWaTmtDpdOx2u8FgMBgMD410Oj2fz0MICYKIxWJisRgAYDKZBoMB1VE2mw0AIBAInE5nrVYjCIKyL5fLh9JoNAoh3O12gUBAIpG4XK56vU41fiaToTrqnmAwiCAIgiBarfahdL1eQwiPx+NoNJrNZrftS6VSdDr9pe37yng8vv8UrVYrkUhoNBoG49U/Gnw9pPl8vtfrNRqN2+22Wq3iOH65XD4M+MO/zm/rjlZeqOP2ZwAAAABJRU5ErkJggg==\"/></td><td style=\"padding:1px;\"><img width=\"128\" height=\"128\" style=\"image-rendering:pixelated; object-fit:cover;\" src=\"data:image/png;base64,iVBORw0KGgoAAAANSUhEUgAAABwAAAAcCAIAAAD9b0jDAAAA4UlEQVR4nO2RLQ6EMBBGW7IKxQmABIdBYbHcBMUVOASOcByuQPgJDk2QuJnOCjZImCaTYPZTI15fp/2U+ueV1HVNRH3fB0EgYwzDcN93RASAPM85R5xHYtu2ruus9niWHsexrquw1PO8JEmEpa7r+r5/zmmainVVVdVZFACUZSkjVUpZSZ+f/+McR2uttebAH6bUGENE3A2YnFVelV5/mmWZ2OVX+wAQx/HDBkxp0zTXXBSFjHSeZyZpl2VZEBERiSiKohvSov1hGIiIiIwx96SFtG1bJmkhHcdxmiY+/49kvjUxasl01AsRAAAAAElFTkSuQmCC\"/></td><td style=\"padding:1px;\"><img width=\"128\" height=\"128\" style=\"image-rendering:pixelated; object-fit:cover;\" src=\"data:image/png;base64,iVBORw0KGgoAAAANSUhEUgAAABwAAAAcCAIAAAD9b0jDAAAB4UlEQVR4nO2UMa/BUBTHbwVlqTBZmpgs1YFNECSkCT6ARC0MjcHuO9gsjUE/ARIGIiLxASSasFhEEAODpB1KcqVvuEmfV9X3+saX95vuPe393/859+QA8M8fIRgMUhRVq9VUVX18pd/vO51Oa3IURTWbzd1ut9/vIYSPxwO+IAgCQRAWRIfD4fN5Q1EIYSwW0x20m4hOp9NcLgcAOJ/PgiBgGKaqKgAgGo0mk0lrWX9eaLeTJEmSpN/vf44TBIEKAiHsdrs4jltwCiE8HA6vcYZhvF4vWh+Px/v9/kvXGsVicTabaQW19kqvlEql9XqtKIqmuFgs3G73659m6QcCgXK5nMlk0DYej6OHAgBIktRoNEajkaIoFnzRNL3dbt+11GAwMDlrM/mGfcVms2nrQqGAus2Qt+mvVqtUKsWy7GQyud1uWrxardbrddMkrePxeFAFTJyapW8IwzC/8eJwOPL5vGGvVCoVSZK+daonkUiMx2MIIUmSz3Gfz8ey7PV6RYqyLKfT6XcimG4vimIoFAIA8Dwvy7IWz2azkUgE9el8Pud5vtfr/dSpKIqG8w316el0arfbLpfrp3KIcDjc6XR0cpvNZrlctlotmqatyWngOM5x3OVyQZON4zjd6PvHnA+P6FdO5na6vgAAAABJRU5ErkJggg==\"/></td></tr></table>"
      ],
      "text/plain": [
       "<IPython.core.display.HTML object>"
      ]
     },
     "metadata": {},
     "output_type": "display_data"
    }
   ],
   "source": [
    "# Load MNIST dataset\n",
    "ds_train = torchvision.datasets.MNIST(root=\"./data\", train=True, download=True)\n",
    "ds_test = torchvision.datasets.MNIST(root=\"./data\", train=False, download=True)\n",
    "\n",
    "# Convert to jax.Array\n",
    "y_train = jnp.array([y.resize(spatial_dims) for y, _ in ds_train])[..., None] / 255\n",
    "y_test = jnp.array([y.resize(spatial_dims) for y, _ in ds_test])[..., None] / 255\n",
    "\n",
    "# Visualize\n",
    "mediapy.show_images(y_train[:8], width=128, height=128)"
   ]
  },
  {
   "cell_type": "markdown",
   "metadata": {},
   "source": [
    "## Model"
   ]
  },
  {
   "cell_type": "code",
   "execution_count": 6,
   "metadata": {},
   "outputs": [],
   "source": [
    "class ViTPerceive(Perceive):\n",
    "\t\"\"\"Vision Transformer Perceive class.\"\"\"\n",
    "\n",
    "\tdef __init__(\n",
    "\t\tself,\n",
    "\t\tchannel_size: int,\n",
    "\t\tperception_size: int,\n",
    "\t\tnum_heads: int,\n",
    "\t\thidden_size: int,\n",
    "\t\tproj_size: int,\n",
    "\t\tmax_position_size: int,\n",
    "\t\trngs: nnx.Rngs,\n",
    "\t\t*,\n",
    "\t\tposition_embed_features: int = 4,\n",
    "\t):\n",
    "\t\t\"\"\"Initialize ViT Perceive.\"\"\"\n",
    "\t\tself.linear = nnx.Linear(in_features=channel_size, out_features=proj_size, rngs=rngs)\n",
    "\n",
    "\t\tself.position_embed_features = position_embed_features\n",
    "\t\tself.position_embed = nnx.Embed(\n",
    "\t\t\tnum_embeddings=max_position_size,\n",
    "\t\t\tfeatures=position_embed_features,\n",
    "\t\t\trngs=rngs,\n",
    "\t\t)\n",
    "\n",
    "\t\tself.attention = nnx.MultiHeadAttention(\n",
    "\t\t\tnum_heads=num_heads,\n",
    "\t\t\tin_features=proj_size + 2 * position_embed_features,\n",
    "\t\t\tqkv_features=hidden_size,\n",
    "\t\t\tout_features=perception_size,\n",
    "\t\t\tdecode=False,\n",
    "\t\t\trngs=rngs,\n",
    "\t\t)\n",
    "\n",
    "\tdef __call__(self, state: State) -> Perception:\n",
    "\t\t\"\"\"Apply perception to the input state.\n",
    "\n",
    "\t\tArgs:\n",
    "\t\t\tstate: State of the cellular automaton.\n",
    "\n",
    "\t\tReturns:\n",
    "\t\t\tThe perceived state after applying convolutional layers.\n",
    "\n",
    "\t\t\"\"\"\n",
    "\t\t# Linear projection of state into tokens\n",
    "\t\tstate = self.linear(state)\n",
    "\n",
    "\t\t# Concatenate position embed\n",
    "\t\tposition_embed_h = self.position_embed(jnp.arange(state.shape[-3]))\n",
    "\t\tposition_embed_w = self.position_embed(jnp.arange(state.shape[-2]))\n",
    "\t\tposition_embed = jnp.concatenate(\n",
    "\t\t\t[\n",
    "\t\t\t\tjnp.repeat(position_embed_h[:, None, :], state.shape[-2], axis=1),\n",
    "\t\t\t\tjnp.repeat(position_embed_w[None, :, :], state.shape[-3], axis=0),\n",
    "\t\t\t],\n",
    "\t\t\taxis=-1,\n",
    "\t\t)\n",
    "\t\ttokens = jnp.concatenate([state, position_embed], axis=-1)\n",
    "\n",
    "\t\t# Get mask for localized attention\n",
    "\t\tmask = self.get_mask(tokens)\n",
    "\n",
    "\t\t# Flatten grid into a sequence of tokens\n",
    "\t\ttokens = jnp.reshape(tokens, tokens.shape[:-3] + (-1, tokens.shape[-1]))\n",
    "\n",
    "\t\t# Apply localized attention\n",
    "\t\tperception = self.attention(tokens, mask=mask)\n",
    "\t\tperception = jnp.reshape(\n",
    "\t\t\tperception,\n",
    "\t\t\tperception.shape[:-2] + (state.shape[-3], state.shape[-2], perception.shape[-1]),\n",
    "\t\t)\n",
    "\n",
    "\t\treturn perception\n",
    "\n",
    "\tdef get_mask(self, tokens: jax.Array) -> jax.Array:\n",
    "\t\t\"\"\"Get mask for localized attention using Moore neighborhood.\n",
    "\n",
    "\t\tArgs:\n",
    "\t\t\ttokens: Input tokens with shape [..., H, W, C]\n",
    "\n",
    "\t\tReturns:\n",
    "\t\t\tBoolean mask with shape [..., H*W, H*W] where True values indicate\n",
    "\t\t\tallowed attention connections between tokens.\n",
    "\n",
    "\t\t\"\"\"\n",
    "\t\th, w = tokens.shape[-3], tokens.shape[-2]\n",
    "\n",
    "\t\t# Create position indices\n",
    "\t\trow_idx = jnp.arange(h)[:, None, None, None]  # [H, 1, 1, 1]\n",
    "\t\tcol_idx = jnp.arange(w)[None, :, None, None]  # [1, W, 1, 1]\n",
    "\n",
    "\t\t# Broadcast to full grid\n",
    "\t\trow1 = jnp.broadcast_to(row_idx, (h, w, h, w))  # Source positions\n",
    "\t\tcol1 = jnp.broadcast_to(col_idx, (h, w, h, w))\n",
    "\t\trow2 = jnp.broadcast_to(row_idx.transpose((2, 3, 0, 1)), (h, w, h, w))  # Target positions\n",
    "\t\tcol2 = jnp.broadcast_to(col_idx.transpose((2, 3, 0, 1)), (h, w, h, w))\n",
    "\n",
    "\t\t# Calculate Manhattan distance between all positions\n",
    "\t\trow_dist = jnp.abs(row1 - row2)\n",
    "\t\tcol_dist = jnp.abs(col1 - col2)\n",
    "\n",
    "\t\t# Create mask where True allows attention (distance <= 1 in both dimensions)\n",
    "\t\tmask = (row_dist <= 1) & (col_dist <= 1)\n",
    "\n",
    "\t\t# Reshape to attention matrix shape\n",
    "\t\tmask = jnp.reshape(mask, (h * w, h * w))\n",
    "\n",
    "\t\treturn mask"
   ]
  },
  {
   "cell_type": "code",
   "execution_count": 7,
   "metadata": {},
   "outputs": [],
   "source": [
    "perceive = ViTPerceive(\n",
    "\tchannel_size=channel_size,\n",
    "\tperception_size=perception_size,\n",
    "\tnum_heads=num_heads,\n",
    "\thidden_size=hidden_size,\n",
    "\tproj_size=proj_size,\n",
    "\tmax_position_size=max(spatial_dims),\n",
    "\trngs=rngs,\n",
    ")\n",
    "update = ResidualUpdate(\n",
    "\tnum_spatial_dims=2,\n",
    "\tchannel_size=channel_size,\n",
    "\tperception_size=perception_size,\n",
    "\thidden_layer_sizes=(hidden_size,),\n",
    "\trngs=rngs,\n",
    "\tcell_dropout_rate=cell_dropout_rate,\n",
    "\tzeros_init=True,\n",
    ")"
   ]
  },
  {
   "cell_type": "code",
   "execution_count": null,
   "metadata": {},
   "outputs": [],
   "source": [
    "class ViTNCA(CA):\n",
    "\t\"\"\"ViT Neural Cellular Automata.\"\"\"\n",
    "\n",
    "\t@nnx.jit\n",
    "\tdef render(self, state):\n",
    "\t\t\"\"\"Render state to RGB.\"\"\"\n",
    "\t\tgray = state[..., -1:]\n",
    "\t\trgb = jnp.repeat(gray, 3, axis=-1)\n",
    "\n",
    "\t\t# Clip values to valid range and convert to uint8\n",
    "\t\treturn clip_and_uint8(rgb)"
   ]
  },
  {
   "cell_type": "code",
   "execution_count": 8,
   "metadata": {},
   "outputs": [],
   "source": [
    "ca = ViTNCA(perceive, update)"
   ]
  },
  {
   "cell_type": "code",
   "execution_count": 9,
   "metadata": {},
   "outputs": [
    {
     "name": "stdout",
     "output_type": "stream",
     "text": [
      "Number of params: 37616\n"
     ]
    }
   ],
   "source": [
    "params = nnx.state(ca, nnx.Param)\n",
    "print(\"Number of params:\", sum(x.size for x in jax.tree.leaves(params)))"
   ]
  },
  {
   "cell_type": "markdown",
   "metadata": {},
   "source": [
    "## Sample initial state"
   ]
  },
  {
   "cell_type": "code",
   "execution_count": 15,
   "metadata": {},
   "outputs": [],
   "source": [
    "def sample_state(key):\n",
    "\t\"\"\"Sample a state with a randomly masked image.\"\"\"\n",
    "\t# Sample image from dataset\n",
    "\ty_idx = jax.random.choice(key, y_train.shape[0])\n",
    "\ty = y_train[y_idx]\n",
    "\ty_channel_size = y.shape[-1]\n",
    "\n",
    "\t# Init state with zeros\n",
    "\tstate = jnp.zeros(spatial_dims + (channel_size,))\n",
    "\n",
    "\t# Mask pixels randomly\n",
    "\tmask = jax.random.bernoulli(key, 1 - mask_ratio, shape=spatial_dims)\n",
    "\tmask = jnp.expand_dims(mask, axis=-1)\n",
    "\ty *= mask\n",
    "\n",
    "\t# Set state\n",
    "\tstate = state.at[..., -y_channel_size:].set(y)\n",
    "\n",
    "\treturn state, y_idx\n",
    "\n",
    "\n",
    "def sample_state_test(key):\n",
    "\t\"\"\"Sample a state with a randomly masked image.\"\"\"\n",
    "\t# Sample image from dataset\n",
    "\ty_idx = jax.random.choice(key, y_test.shape[0])\n",
    "\ty = y_test[y_idx]\n",
    "\ty_channel_size = y.shape[-1]\n",
    "\n",
    "\t# Init state with zeros\n",
    "\tstate = jnp.zeros(spatial_dims + (channel_size,))\n",
    "\n",
    "\t# Mask pixels randomly\n",
    "\tmask = jax.random.bernoulli(key, 1 - mask_ratio, shape=spatial_dims)\n",
    "\tmask = jnp.expand_dims(mask, axis=-1)\n",
    "\ty *= mask\n",
    "\n",
    "\t# Set state\n",
    "\tstate = state.at[..., -y_channel_size:].set(y)\n",
    "\n",
    "\treturn state, y_idx"
   ]
  },
  {
   "cell_type": "markdown",
   "metadata": {},
   "source": [
    "## Train"
   ]
  },
  {
   "cell_type": "markdown",
   "metadata": {},
   "source": [
    "### Pool"
   ]
  },
  {
   "cell_type": "code",
   "execution_count": 18,
   "metadata": {},
   "outputs": [],
   "source": [
    "key, subkey = jax.random.split(key)\n",
    "\n",
    "keys = jax.random.split(subkey, pool_size)\n",
    "state, y_idx = jax.vmap(sample_state)(keys)\n",
    "\n",
    "pool = Pool.create({\"state\": state, \"y_idx\": y_idx})"
   ]
  },
  {
   "cell_type": "markdown",
   "metadata": {},
   "source": [
    "### Optimizer"
   ]
  },
  {
   "cell_type": "code",
   "execution_count": 19,
   "metadata": {},
   "outputs": [],
   "source": [
    "lr_sched = optax.linear_schedule(\n",
    "\tinit_value=learning_rate, end_value=0.1 * learning_rate, transition_steps=4_096\n",
    ")\n",
    "\n",
    "optimizer = optax.chain(\n",
    "\toptax.clip_by_global_norm(1.0),\n",
    "\toptax.adam(learning_rate=lr_sched),\n",
    ")\n",
    "\n",
    "optimizer = nnx.Optimizer(ca, optimizer)"
   ]
  },
  {
   "cell_type": "markdown",
   "metadata": {},
   "source": [
    "### Loss"
   ]
  },
  {
   "cell_type": "code",
   "execution_count": 20,
   "metadata": {},
   "outputs": [],
   "source": [
    "def mse(state, y):\n",
    "\t\"\"\"Mean Squared Error.\"\"\"\n",
    "\treturn jnp.mean(jnp.square(state[..., -1:] - y))"
   ]
  },
  {
   "cell_type": "code",
   "execution_count": 21,
   "metadata": {},
   "outputs": [],
   "source": [
    "@nnx.jit\n",
    "def loss_fn(ca, state, y):\n",
    "\t\"\"\"Loss function.\"\"\"\n",
    "\tstate_axes = nnx.StateAxes({nnx.RngState: 0, ...: None})\n",
    "\tstate, _ = nnx.split_rngs(splits=batch_size)(\n",
    "\t\tnnx.vmap(\n",
    "\t\t\tlambda ca, state: ca(state, num_steps=num_steps),\n",
    "\t\t\tin_axes=(state_axes, 0),\n",
    "\t\t)\n",
    "\t)(ca, state)\n",
    "\n",
    "\tloss = mse(state, y)\n",
    "\treturn loss, state"
   ]
  },
  {
   "cell_type": "markdown",
   "metadata": {},
   "source": [
    "### Train step"
   ]
  },
  {
   "cell_type": "code",
   "execution_count": 24,
   "metadata": {},
   "outputs": [],
   "source": [
    "@nnx.jit\n",
    "def train_step(ca, optimizer, pool, key):\n",
    "\t\"\"\"Train step.\"\"\"\n",
    "\tsample_key, sample_state_key = jax.random.split(key)\n",
    "\n",
    "\t# Sample from pool\n",
    "\tpool_idx, batch = pool.sample(sample_key, batch_size=batch_size)\n",
    "\tcurrent_state = batch[\"state\"]\n",
    "\tcurrent_y_idx = batch[\"y_idx\"]\n",
    "\tcurrent_y = y_train[current_y_idx]\n",
    "\n",
    "\t# Sort by descending loss\n",
    "\tsort_idx = jnp.argsort(jax.vmap(mse)(current_state, current_y), descending=True)\n",
    "\tpool_idx = pool_idx[sort_idx]\n",
    "\tcurrent_state = current_state[sort_idx]\n",
    "\tcurrent_y_idx = current_y_idx[sort_idx]\n",
    "\n",
    "\t# Sample a new image to replace the worst\n",
    "\tnew_state, new_y_idx = sample_state(sample_state_key)\n",
    "\tcurrent_state = current_state.at[0].set(new_state)\n",
    "\tcurrent_y_idx = current_y_idx.at[0].set(new_y_idx)\n",
    "\tcurrent_y = y_train[current_y_idx]\n",
    "\n",
    "\t(loss, current_state), grad = nnx.value_and_grad(loss_fn, has_aux=True)(\n",
    "\t\tca, current_state, current_y\n",
    "\t)\n",
    "\toptimizer.update(grad)\n",
    "\n",
    "\tpool = pool.update(pool_idx, {\"state\": current_state, \"y_idx\": current_y_idx})\n",
    "\treturn loss, pool"
   ]
  },
  {
   "cell_type": "markdown",
   "metadata": {},
   "source": [
    "### Main loop"
   ]
  },
  {
   "cell_type": "code",
   "execution_count": null,
   "metadata": {},
   "outputs": [],
   "source": [
    "num_train_steps = 8_196\n",
    "print_interval = 128\n",
    "\n",
    "pbar = tqdm(range(num_train_steps), desc=\"Training\", unit=\"train_step\")\n",
    "losses = []\n",
    "for i in pbar:\n",
    "\tkey, subkey = jax.random.split(key)\n",
    "\tloss, pool = train_step(ca, optimizer, pool, subkey)\n",
    "\tlosses.append(loss)\n",
    "\n",
    "\tif i % print_interval == 0 or i == num_train_steps - 1:\n",
    "\t\tavg_loss = sum(losses[-print_interval:]) / len(losses[-print_interval:])\n",
    "\t\tpbar.set_postfix({\"Average Loss\": f\"{avg_loss:.3e}\"})"
   ]
  },
  {
   "cell_type": "markdown",
   "metadata": {},
   "source": [
    "## Run"
   ]
  },
  {
   "cell_type": "code",
   "execution_count": 27,
   "metadata": {},
   "outputs": [],
   "source": [
    "num_examples = 8\n",
    "\n",
    "key, subkey = jax.random.split(key)\n",
    "keys = jax.random.split(subkey, num_examples)\n",
    "state_init, y_idx = jax.vmap(sample_state_test)(keys)\n",
    "\n",
    "state_axes = nnx.StateAxes({nnx.RngState: 0, ...: None})\n",
    "state_final, states = nnx.split_rngs(splits=num_examples)(\n",
    "\tnnx.vmap(\n",
    "\t\tlambda ca, state: ca(state, num_steps=2 * num_steps),\n",
    "\t\tin_axes=(state_axes, 0),\n",
    "\t)\n",
    ")(ca, state_init)"
   ]
  },
  {
   "cell_type": "markdown",
   "metadata": {},
   "source": [
    "## Visualize"
   ]
  },
  {
   "cell_type": "code",
   "execution_count": 17,
   "metadata": {},
   "outputs": [
    {
     "data": {
      "text/html": [
       "<table class=\"show_images\" style=\"border-spacing:0px;\"><tr><td style=\"padding:1px;\"><img width=\"128\" height=\"128\" style=\"image-rendering:pixelated; object-fit:cover;\" src=\"data:image/png;base64,iVBORw0KGgoAAAANSUhEUgAAABwAAAAcCAIAAAD9b0jDAAACGklEQVR4nO2SvctxYRzHz21CneRdpGwng8HiZqLwB5BBZkykZGDGxORfsCh5W7yk5Jgsos5JUQYGg4GOAel35RmuOum+Hffz1Jme5/lO1/X9fa/P9fK7COLvkUajSSQSYhL1ev10Oj2dTk6nUzRoo9EAgO12Kw7OaDRmMpnz+Xw6nUKhkDjQQCAAAADQbrfFIdrt9uFwCAD9fl+r1YpAVCqV+/0eADiOE6c/JEmOx2N88Vgs9iYplUpNJpPJZDIYDD9Ac7kcJs5mM51OJxRzOBzNZhMnOY7z+/3voKPRCEfj8fjLgMvlKhaLh8MBnnS5XNxutyD08XgghBBCFEV9r/b7fSSgbDYrCEUIAQDLsnq9/tl3u92dTgdXAWC9XqdSKZIkSZJMJpMA0Gq1foDSNK1QKHhTLpcPBgMAQAhVq1WKolQqFV+tVCp4J0EowzA4EQwGsUOSZK1WwyZFURKJBPs6nS4QCNTr9ePxCAClUkkQynefpmmv16tSqaxWK3ZWqxUf83g8y+WSb9TtdguHw3z14wvUYrEwDCOTyfB0Pp/f7/fPz0+CIDabzW63ezweBEFotVqbzYYzi8UinU5PJhPBkxIEkc/nb7cbvBLfKPw9WZbN5XJms/kdjlehUHjJxdDz+dzr9Xw+32+xnhWJRMrl8vF45DiOh16v12636/V636/9+qbfpVaro9EoHk+nU5qm//iA//Uv6ReclZFkesxVqQAAAABJRU5ErkJggg==\"/></td><td style=\"padding:1px;\"><img width=\"128\" height=\"128\" style=\"image-rendering:pixelated; object-fit:cover;\" src=\"data:image/png;base64,iVBORw0KGgoAAAANSUhEUgAAABwAAAAcCAIAAAD9b0jDAAABqElEQVR4nO2UoavCQBjAdw8s5q3KYCAY9IpicqtnGpitBmH+EYLmIRhNdlGQVYsYDBYXjhtTFIMDMWiYxfNeGI4hQ/Y2w4P3fuH4+Pju933HHcdx//xdQPRSRVE0TavVaqfTqdvtAgAYY5fLZTgcxuksCMJkMjmfz5TS+xMvvt1uhBDLssbjsaIoUXWGYSyXS19k2zbGGGPsOM5Lg/l87u16d/xms9loNAqFgp8BAGSz2c1mw3EchLBSqQTrp9Ppfr9/N6MoiqZpeoPYtq3r+mq1opRKkhTpjKEsFgvfmM/nOY7jeV6SpFQqFdOoqur1evWkuq7/dPtXaHa327mu68WyLPM8H3O6FwaDAX1immar1YIQJpUWi8Xj8XgP4DiOZVmZTCaRFyGEMQ56KaWz2QwhlMgLANA0rd/vBx85xjiRNEiv12OMUUoJIe8rw28/FMbY4/Hw1o9JoxNVKgiCLMtePBqNPtBZFMV2u00pZYxtt9tcLhffVSqVqtUqIeRwOPi3Xy6XY+pUVTUMI/hjuq7b6XQQQul0OqYUQhg0rtfrer0e0/Wr+QYmQTiYzKWxPQAAAABJRU5ErkJggg==\"/></td><td style=\"padding:1px;\"><img width=\"128\" height=\"128\" style=\"image-rendering:pixelated; object-fit:cover;\" src=\"data:image/png;base64,iVBORw0KGgoAAAANSUhEUgAAABwAAAAcCAIAAAD9b0jDAAAB5ElEQVR4nO2SsY8pURSHz3shdoiGZJhSTylCRCHoqLQ6Ef4BhWYKnYpCotFqEZEoaEQ0CkyiIcSEYSImEwXJ4N7ZYhLx3q63Zp9yv+6e87vfPbk5AD/88FJ+fZmgKMrtdofDYZPJpNfrAYCmaY7jWJb9zoN+v79er+92O4QQxhjd4XK5VOtIkszlcufz+WbBGLdarf1+rxxns5nP51NhDIVCw+EQIXS9XrfbbbFYpCjKYDBoNBqCIILBoNKVJKlUKj0rLZfLyjjdbvfTQKVSUQLj8fgpYzqdvlwuCKFCoaDVaj8G3t7eer2eOinDMAihwWDwqdHpdDabzdtHJ5NJFdJ+v/9X3eFwZDIZQRBuxmq1+pQRAGq1GkJIFMVEIqHT6QDA4/HQNC3LMvqTbDb7rNRoNB6PR+Xacrmcz+fKUdlThmFSqZTSjUajz0oBIBAIcByH72BZVhCEfD5vNpstFossyxhjkiQfGTQfS+122263e73eW6XT6Vit1sViAQDxeBxj3O12D4eDCikAiKLYaDTuK4oRAGw2GwBsNhtJkh5Jfz9qPIIgCLVXvoAkydPphBCKxWL/iKmbNBKJKHs2nU5fJlVQ1uvF0tVqtV6vXyzleZ7n+ZdJJ5PJ9XodjUbfGOV/eQd4o1CCjpaGWwAAAABJRU5ErkJggg==\"/></td><td style=\"padding:1px;\"><img width=\"128\" height=\"128\" style=\"image-rendering:pixelated; object-fit:cover;\" src=\"data:image/png;base64,iVBORw0KGgoAAAANSUhEUgAAABwAAAAcCAIAAAD9b0jDAAABpklEQVR4nO2TsarCMBSGmxoUjYtLdXARdXVyEFFQ8A0kD1DEycE30CdwdxRfwMVBEBTESXTQURBBB8mgWwtaWu8QDKVt7k2vF+5w7zf1/DnnPydpIkn//F3AJ2sQwlarpSjKZrMZjUbP55PqgUBAVdVarZbL5crl8vV69dEQY2y+QAixTt1ul+mZTMaHY6FQuFwutPJ2u0UiEapns1nTRrvddtfKPNNOp6MoCv0eDoe6rnumsZyvqVQqhBA2TrFYZEuOSUW3jxBaLBb2ykQiIUkShBBjvFqtvmPqmMU0zWaziTHebrcOfTKZhEIhIdNer2d6YVmWQ6lWq54OHj/qcDiI9J7NZsvlUtR0Op2KmN7vd8MwRE0tyzIMQ9O0fr9/PB61F7quAwAAALIsAwB4jlzy+bxbDAaD8/mcHWipVOKVe1/+9XrtFh+Px263Y2EsFvM3qSfhcHi/37NJx+MxL5P7TN2kUql0Os3C8/n81oyU0+lkv6S+z9RNo9FIJpOCyaKm8XjcHhJCCCGCtVyi0aj9mdbr9XcdKdR0MBgghCCEP2P6y3wAWcpGWzR9M80AAAAASUVORK5CYII=\"/></td><td style=\"padding:1px;\"><img width=\"128\" height=\"128\" style=\"image-rendering:pixelated; object-fit:cover;\" src=\"data:image/png;base64,iVBORw0KGgoAAAANSUhEUgAAABwAAAAcCAIAAAD9b0jDAAABR0lEQVR4nO2UoY6DQBCGZy5V6MViAQup7TvAMxBepCQ8Aoi+AkHWFolCAXUlwZQEHHKHPUHSXE6wpTR3pp8iw/5fht1hAT58+Hts2+66bpomIpqm6Xg8bjWaptl1Hef8crlEUVSWJed8kzEIAiIax9FxnLmSJAkRvW50XZeIOOeGYfyqLAe/Ft4xxhAxDMPr9TpXTNNERER8XQoAQog0TednVVU9zxNC1HW9SToMw6OvOI41TZt7X04t4fs+Ed3vd9/3z+fzvJtEZFnW61IAcF33drvNE1pVFRE1TcMYW05JthwAGGOapgEAIuZ5XhTFfr9fjuyk0r7v+74HAFVV27aVrgfpQf2EMSb98NVSRVEURXmzFACEEG+WHg4H6b+0Wqrr+vs7BQBEPJ1OqyISsizjnD85AM8ihHjyJpUP/4MkSR4X6z/wDYmNm/7KzixmAAAAAElFTkSuQmCC\"/></td><td style=\"padding:1px;\"><img width=\"128\" height=\"128\" style=\"image-rendering:pixelated; object-fit:cover;\" src=\"data:image/png;base64,iVBORw0KGgoAAAANSUhEUgAAABwAAAAcCAIAAAD9b0jDAAABLklEQVR4nO3TMYqDQBQGYMmUwnQhBxAsTBcCKbSNXsDG3hvkFqk8QWCaBE0v3mMKB7uxsJYhBCTMuMVbdrdYEhdfsUX+6hXzPn5n0LLe+Q9Zr9fjOB6PR0IIjkgIuVwuWmutdRAEOKjneSAKIVarFYJICDmfz4DmeY4gWj9qKqV2ux2CGIZh27aAFkWBICZJ8ng8jDGAxnH85PBiIrpcLheLz8NSyqqqENCv3O/3NE1vt9tfF3+JlFJrbYy5Xq8InGVZjDFjjDFmGIbtdouDNk0D78MYwxGjKOr7HlAckVJa1zWIXddN3Hrx+r7vu64L8+l0wkEdx4FBSolzoZvNRikF355l2fTFZ00Ph4Nt2zBzzuf0+05ZllCTc04pnb74+jcVQuz3e6XUjHrvzM4H4A2tEekO6NcAAAAASUVORK5CYII=\"/></td><td style=\"padding:1px;\"><img width=\"128\" height=\"128\" style=\"image-rendering:pixelated; object-fit:cover;\" src=\"data:image/png;base64,iVBORw0KGgoAAAANSUhEUgAAABwAAAAcCAIAAAD9b0jDAAABc0lEQVR4nO3UMYrCUBAG4ElQIQEldkFQgoUE7AVBD2CnhdibSrQSPIIW9mk8QGw8gSDYqKWlnaZRIopCELXIjxZht3SVTLPs/tUrZj4G3rxH9J/fHUVRNpvN4/EYj8fNZjOTyTCg8Xh8Pp+7rgsAgOu6s9msUqkEdUOhkCRJsiwbhmHbNgDP8y6XS61WY5iaiGKxWKvV8jwPgOM4qqryuERULpfX6zWA4XD4okz8CD0cDtFo1D8Emu47uVzufD7f7/dqtSpJEoNYKBSOxyOAer3OwKVSqcFgcDqdAIxGI1mWGVDLsvCVRCLBIBJROp3u9/ur1QqAbduWZUUiER5aVdXlcunP2+l0Xhe/u1KO45RKJQBEJIo/dH2wp8lkUhTF6/W6WCze73oVRVEmkwmAbrfLIxJRsVj0L0rTNB5R0zT/yfP8quFwuNFo7Pf73W6Xz+cFQQgq6ro+nU4BbLfbdrvNMCMR9Xq92+1mmmY2m+UR/0aeQbuzs1s2/z4AAAAASUVORK5CYII=\"/></td><td style=\"padding:1px;\"><img width=\"128\" height=\"128\" style=\"image-rendering:pixelated; object-fit:cover;\" src=\"data:image/png;base64,iVBORw0KGgoAAAANSUhEUgAAABwAAAAcCAIAAAD9b0jDAAABn0lEQVR4nO2UMavCMBSFr8/iIHQ3Ukc7KYg66CSIm6KjnZXi4A+QLi6OHfwDnaWi4FBcHBwEJ2fFSRAUwU0oCpK0bwjKw/peja+jZzpD7peT3JsAfOS1fK4rOI5DCEmSFAqFeJ6v1+sAoGlaq9W6Xq/n85l5z3A4bBgGvokQcvfr9XowGPA8zwwtlUo/QdRPJhNd16nvdrvMUACgxavVSlXVcrksCEIgEACARqOBMdZ13VnCuULz+TxCyFk8m818PveWsKnX6/2W9OttaLVa/UekZ5Jlmd51oVDwhphIJE6nk2VZm80GIeQBURTF4XBIx0tRFA+IwWBwPp/TmTVNM5PJeACtVCr3h/DHwd3nNBKJFIvFaDSaTCZzuZxt2wDQ6XQOhwNzKFEUm81mNpt1PlOMsSAIzMRarXY8Hp2fyN0vFgu2gMvl8inowcuy/BIxHo/v93tCiG3b5CbLsgghpmmORiO6rN1ub7fbVCr1ErTf7zsTXS4XRVGYpsel++Px2DAMTdNeJz4qFovtdjuM8XQ6VVU1nU77/f73cR95qG/LSkrowpedWAAAAABJRU5ErkJggg==\"/></td></tr></table>"
      ],
      "text/plain": [
       "<IPython.core.display.HTML object>"
      ]
     },
     "metadata": {},
     "output_type": "display_data"
    },
    {
     "data": {
      "text/html": [
       "<table class=\"show_images\" style=\"border-spacing:0px;\"><tr><td style=\"padding:1px;\"><img width=\"128\" height=\"128\" style=\"image-rendering:pixelated; object-fit:cover;\" src=\"data:image/png;base64,iVBORw0KGgoAAAANSUhEUgAAABwAAAAcCAIAAAD9b0jDAAABY0lEQVR4nO2ToY7CQBRFr8SMatMQMLj+QjEgSD+AuoYPwNU1KfXwLyhSRwgKSUITTNMEiUEgaIoB8WbFJJPJwjJkM2vIXvWm7/a8OzMt8Dmybds8dLvdVlXleZ4x4mKxAHA8Hs3gWq1WHMcAqqoyQwQwHA6Nsf5Qp9OJiOq6NoNjjG02GyIiotfORqPRbrcBNJtNDTRNU4lzHOe1WTp939dwhXU8Hj/tdrvd2Wx2Pp+F7Z09AQDnnHP+tLVarWRX9XDOJ5PJKyIRFUWhHw4wxhhjURQByLLsnVeejwTguu5jS3MIoh0EgXwyn8/F2ak4x3HED3K5XDRZ0jSV9WAwkGOI6HA4qM6yLNWAYRj+CO10Oupyt9up8YXW6/V+v5f3nud5r9fThFXT4eGjUZdFUag702g6nd7vdxUqanFR1+v1XdA3jUYjUdR1LaPdbrflcvlLoirLspIkEXW/3zdA/NdH6wuKFdQFMR2bRgAAAABJRU5ErkJggg==\"/></td><td style=\"padding:1px;\"><img width=\"128\" height=\"128\" style=\"image-rendering:pixelated; object-fit:cover;\" src=\"data:image/png;base64,iVBORw0KGgoAAAANSUhEUgAAABwAAAAcCAIAAAD9b0jDAAABL0lEQVR4nO2UL46DQBSHf11GocESEhSqph5ZqnqBHoFJuEJP0OC5BkdAVIAA0UCampom9ag3oeJlCSHZDd1BrOin3rxJvvzmL/Dhw2yUUgCklAsbiYiIlFJEBKBpmrZtAQRBMMti23aWZefzeSy9XC48pG+4PyB+lz6fz+12K4QgIiGEYRie5/m+z7NxHM9dI+O6bl3XHIQ7RVEA8DzvPdGYPM9Zd71euWNZ1t91APb7PRdEdDqdtFw/oZtxIE3Toa7rWkq5Xq91pZvNhgveWSJ6PB4AHMfR8oZhOB4O93HSf5vVahVF0UStZZyQJEnf95PHswxzkn69ZVw+ZlmWC0uPxyOAvu9vt5uua7fbNU1zv98XO3S+7fxRdV0HIAxD0zS1jEO6qqoOh8MSOf8bLzGTpYU6VcDgAAAAAElFTkSuQmCC\"/></td><td style=\"padding:1px;\"><img width=\"128\" height=\"128\" style=\"image-rendering:pixelated; object-fit:cover;\" src=\"data:image/png;base64,iVBORw0KGgoAAAANSUhEUgAAABwAAAAcCAIAAAD9b0jDAAABcElEQVR4nO2TvarCMBiGX04RLB2FQievwLEUlw4F3XTwGkTwBhy6OEgXJx0El452LZ07CA4uDv5cgDgLjg6iX3qGYBAVbMLhTD5D+JImDy/5GuDLl3/GsqxWqwUgSRIAaZoCKJfLijrP8wAcj0ciAiBGInIcR8U4HA55wS2MsccpANd1JXT1en29XovpZDKxLMswDAC6rtdqNb5+uVym02leaRiGPM5isXi7IYoiHna73eYy9nq96/UKYDweFwqF1w3FYhH3S8gr3e12AFar1duvtm3j3jFplsvl00qlUvF9/3Q6iUbFcSzt7XQ6ou73+1mWiYDcOxgMpKVEdDgcAJzPZwCMMS7tdrsirCKMMfGHjkajUqkEIMsyAKZpSusajQYfeSFot9tENJ/P1ZO+EgTBxz0/slJd14loNpspRXoHv8ePXZJL2mw2AWia9pdS5HtO0lJN0/b7veypDxDR6yN+Qi5ptVq93W6bzUY9lDK/uf+/G6TNQa0AAAAASUVORK5CYII=\"/></td><td style=\"padding:1px;\"><img width=\"128\" height=\"128\" style=\"image-rendering:pixelated; object-fit:cover;\" src=\"data:image/png;base64,iVBORw0KGgoAAAANSUhEUgAAABwAAAAcCAIAAAD9b0jDAAABFElEQVR4nO2UMdJFMBDHk2Uo6ByB3EBlNA7gQhqdXqN3CL1bKFwAjYrGjLwi8zKZxMvg+eZr3r/a2c3+9p/MgtBPPx3JNE0eY4x5bBgGC7qu8zzvJn3fd3FSnucsI+bPahgG1jbP86cZ9w2WZamWWLUoigvEaZp4fxRFPE8IEY8FQXAK5ziO6PTwstzpWSghhPdIUHWMbdunoJIXcYA0JkmSC0QVofrVCPQ2RQqlVJzRNM0FqO/7AAAAVVUhhFi8LMu6rpRSjDEAYIy3bdP7lRWGoZq0LKtt2682/5P2t9I0fYbY9z3nat70mv7k7khYjDiOn0drqsd7qirLMpE1jqP0Z7kj13V5/OTLsi+qruvHiP+vF16nuTi31YENAAAAAElFTkSuQmCC\"/></td><td style=\"padding:1px;\"><img width=\"128\" height=\"128\" style=\"image-rendering:pixelated; object-fit:cover;\" src=\"data:image/png;base64,iVBORw0KGgoAAAANSUhEUgAAABwAAAAcCAIAAAD9b0jDAAAA00lEQVR4nO2SMQ6EIBBFx6Wz1kPQ6km0tbf3DiZewVPQ2trT09LqHQS2mMSYNasguNv4KjLMfIaZD/Dw8HvyPJ/nWWsdXnocRzwsy+Il1LYtHoqiWINKqeuKZVkqpbZ9YeS08HVwxxiLoqjrujVCKSWEeHVa1/W2Pk1TKeV1uW/gG1VVXZfATqdpAoBhGLx+vQcdKoQIppgkCQBkWQb+Dt1zy6IopZaZRz79II5jy105iAKAMYZz7lRyQtM0gV2FhN9+3/eWmQ4ztd++A8aYW2b6T97OG153VRAxggAAAABJRU5ErkJggg==\"/></td><td style=\"padding:1px;\"><img width=\"128\" height=\"128\" style=\"image-rendering:pixelated; object-fit:cover;\" src=\"data:image/png;base64,iVBORw0KGgoAAAANSUhEUgAAABwAAAAcCAIAAAD9b0jDAAAA60lEQVR4nO3TLQ6EMBAF4Af1vQYJODSKYPDcAEu4BQrFFapIwHMRRDXcABIUmVnRhGzW7N+IFft8v7yZZoB/fiFRFAFo21YpJSMqpfq+JyIiSpJEBg3DEAARyXAA3LxPRf8tNAgCAL7v7/v+cbPHrOvqag7DICOe58nMAIioKAoBsa5rAMz8yhe9sVMi8jzvOI40TT9vd59lWQAw8ziOMqIxhpndQuVjjJHkJE9Ia22tlRQB5Hl+iU3TyKBVVclAV+I4djdORF3XibnX7GVZyojTNDl3nmet9esPn5wpEVlrsyzbtu2rgv98mRsCtXH+R8xVJwAAAABJRU5ErkJggg==\"/></td><td style=\"padding:1px;\"><img width=\"128\" height=\"128\" style=\"image-rendering:pixelated; object-fit:cover;\" src=\"data:image/png;base64,iVBORw0KGgoAAAANSUhEUgAAABwAAAAcCAIAAAD9b0jDAAAA9klEQVR4nO3UoYqFQBTG8c9FBE3aTMZbzNp8CJ/BJJh8B6NF8BV8CJNFH0OtgihMEpmDNwzIsmy47D1ll/2n4zD8EGYY4L/fnW3b0zRd19W2LYDH48GAOo4zDIMQAgARCSH6vo/j+F1X13XTNC3LSpJErUgp30W/lGWZlJKIALiuy0mP46hc5oioqioeKwzDfd+P4+DhVOu6slme5wHYtk19WpbF46qTef18Pl7ZVJblPTdNYxjGD/7sm9TFJCL++3SeJzMaBAEn97miKNisKIoAzPPMJt7xvKoA0jRdlkXNmqYxiF3XqSHPcwburq5r3/c5xb/eE9MRXsU1sdb5AAAAAElFTkSuQmCC\"/></td><td style=\"padding:1px;\"><img width=\"128\" height=\"128\" style=\"image-rendering:pixelated; object-fit:cover;\" src=\"data:image/png;base64,iVBORw0KGgoAAAANSUhEUgAAABwAAAAcCAIAAAD9b0jDAAABG0lEQVR4nO2TMYqFMBCGhzWV4AEsbK0sLbTyAuIpFLyAhY3YBw/wPIBE9AQW3kXwCJYZ3SIg4e2+3dWErd5fTSbkyz8zCcBb/y9CiOM4RVEAQNu2Ivl4PFS5nHPOOQAgopwfhsGyrMu4OI5lLiJyzqdpYoyJWMkpAFBKkyR5yjPG7hCjKHq1hYg3oa/UdZ1OnCzNTlUH9YNs29YDGsdRPC89ONM05WUQBHq4oo8aupnnedM0ALDvOwAgYl3Xd0Cu6wJAGIaid/LfV/2d53k5+BX68a3Bc7KEEAESgXxflmXXPB7HgYgCLfq4bdu5W1XVsix/ZfV9L5d2VlqW5TVTT/o6kDRNlYie563rCgDzPFNKfd83DEOJ+JYufQLShLF7xIIpLAAAAABJRU5ErkJggg==\"/></td></tr></table>"
      ],
      "text/plain": [
       "<IPython.core.display.HTML object>"
      ]
     },
     "metadata": {},
     "output_type": "display_data"
    },
    {
     "data": {
      "text/html": [
       "<table class=\"show_videos\" style=\"border-spacing:0px;\"><tr><td style=\"padding:1px;\"><img width=\"128\" height=\"128\" style=\"image-rendering:pixelated; object-fit:cover;\" src=\"data:image/gif;base64,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\"/></td><td style=\"padding:1px;\"><img width=\"128\" height=\"128\" style=\"image-rendering:pixelated; object-fit:cover;\" src=\"data:image/gif;base64,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\"/></td><td style=\"padding:1px;\"><img width=\"128\" height=\"128\" style=\"image-rendering:pixelated; object-fit:cover;\" src=\"data:image/gif;base64,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\"/></td><td style=\"padding:1px;\"><img width=\"128\" height=\"128\" style=\"image-rendering:pixelated; object-fit:cover;\" src=\"data:image/gif;base64,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\"/></td><td style=\"padding:1px;\"><img width=\"128\" height=\"128\" style=\"image-rendering:pixelated; object-fit:cover;\" src=\"data:image/gif;base64,R0lGODlhHAAcAPf/AAAAAAEBAQICAgMDAwQEBAUFBQYGBgcHBwgICAkJCQoKCgsLCwwMDA0NDQ4ODg8PDxAQEBERERISEhMTExQUFBUVFRYWFhcXFxgYGBkZGRoaGhsbGxwcHB0dHR4eHh8fHyAgICEhISIiIiMjIyQkJCUlJSYmJicnJygoKCkpKSoqKisrKywsLC0tLS4uLi8vLzAwMDExMTIyMjMzMzQ0NDU1NTY2Njc3Nzg4ODk5OTo6Ojs7Ozw8PD09PT4+Pj8/P0BAQEFBQUJCQkNDQ0RERERFREVFRUZGRkdHR0hISElJSUpKSktLS0xMTE1NTU5OTk5PTk9PT1BQUFFRUVJSUlNTU1RUVFVVVVZWVldXV1hYWFpaWVpaWltbW1xcXF1dXV5eXl9fX2BgYGFhYWFiYWJiYmNjY2RkZGVlZWZmZmZnZmdnZ2hoaGlpaWpqamtra2xsbG1tbW5ubm9vb29wb3BwcHFxcXJycnNzc3R0dHV1dXZ2dnd3d3h4eHl5eXp6ent7e3x8fH19fX5+fn9/f4CAgIGBgYKCgoODg4SEhIWFhYaGhoeHh4mJiYqKiouLi4yMjI2NjY6Ojo+Pj5KSkpOTk5SUlJWVlZWWlZaWlpeXl5iYmJmZmZqampubm5ycnJ2dnZ6enp+fn6CgoKGhoaKioqOjo6SkpKWlpaampqenp6ioqKmpqaqqqqurq62tra6urq+vr7CwsLGxsbKysrOzs7S0tLa2tbe3t7i4uLm5ubq6uru7u7y8vL29vb6+vr+/v8DAwMHBwcLCwsTExMXFxcbGxsfHx8jIyMnJycrKysvLy8zMzM3Nzc7Ozs/Pz9DQ0NHR0dLS0tPT09TU1NXV1dbW1tfX19ra2tvb29zc3N3d3d7e3d7e3t7f3t/f3+Dg4OHh4eLi4uPj4+Tk5OXl5ebm5ujo6Onp6erq6uvr6+zs7O3t7e7u7u/v7/Dw8PHx8fLy8vPz8/X19fb29vf39/j4+Pn5+fr6+vv7+/z8/P39/f7+/v7//v///wD/ACH/C05FVFNDQVBFMi4wAwEAAAAh+QQFBAD/ACwAAAAAHAAcAIcAAAABAQECAgIDAwMEBAQFBQUGBgYHBwcICAgJCQkKCgoLCwsMDAwNDQ0ODg4PDw8QEBARERESEhITExMUFBQVFRUWFhYXFxcYGBgZGRkaGhobGxscHBwdHR0eHh4fHx8gICAhISEiIiIjIyMkJCQlJSUmJiYnJycoKCgpKSkqKiorKyssLCwtLS0uLi4vLy8wMDAxMTEyMjIzMzM0NDQ1NTU2NjY3Nzc4ODg5OTk6Ojo7Ozs8PDw9PT0+Pj4/Pz9AQEBBQUFCQkJDQ0NERERERURFRUVGRkZHR0dISEhJSUlKSkpLS0tMTExNTU1OTk5OT05PT09QUFBRUVFSUlJTU1NUVFRVVVVWVlZXV1dYWFhaWllaWlpbW1tcXFxdXV1eXl5fX19gYGBhYWFhYmFiYmJjY2NkZGRlZWVmZmZmZ2ZnZ2doaGhpaWlqampra2tsbGxtbW1ubm5vb29vcG9wcHBxcXFycnJzc3N0dHR1dXV2dnZ3d3d4eHh5eXl6enp7e3t8fHx9fX1+fn5/f3+AgICBgYGCgoKDg4OEhISFhYWGhoaHh4eJiYmKioqLi4uMjIyNjY2Ojo6Pj4+SkpKTk5OUlJSVlZWVlpWWlpaXl5eYmJiZmZmampqbm5ucnJydnZ2enp6fn5+goKChoaGioqKjo6OkpKSlpaWmpqanp6eoqKipqamqqqqrq6utra2urq6vr6+wsLCxsbGysrKzs7O0tLS2trW3t7e4uLi5ubm6urq7u7u8vLy9vb2+vr6/v7/AwMDBwcHCwsLExMTFxcXGxsbHx8fIyMjJycnKysrLy8vMzMzNzc3Ozs7Pz8/Q0NDR0dHS0tLT09PU1NTV1dXW1tbX19fa2trb29vc3Nzd3d3e3t3e3t7e397f39/g4ODh4eHi4uLj4+Pk5OTl5eXm5ubo6Ojp6enq6urr6+vs7Ozt7e3u7u7v7+/w8PDx8fHy8vLz8/P19fX29vb39/f4+Pj5+fn6+vr7+/v8/Pz9/f3+/v7+//7///8A/wAIngABCBxIsKDBgwgTKlzIsKHDhxAjSlSYYOLBGen8ERAYwOJAYQUA7HMgUYAiBgGmCNzAT4FEKvz2CRAIEwADiSD8JRoICAC/jhHT8BuIARwHAEAjdsgAYIBPAF0mCkX3INfQpBM5+ANwzeNACgBkiETgdeAFcGUHpkhANu0MfmDT4tjHLC2AO/xI2KUw0i4npGkNDLMr0N9QwjcJNwwIACH5BAUEAP8ALAkABgAKABUAAAhNAP8JDPCPgcCDCAUKEIAwwIWCAi0knCiQAMIZEwmOEKiG4gABGf7J+HdgYwOK/zogtDDSBMqXCR2gjCAT5sQcNn3Y3JlwA0yCCYECDQgAIfkEBQQA/wAsCQAGAAoAFQAACGAA/wn85+BfgIEIERoQgPDEvwgp/m0QWGGAwX9D/o0YWEBglX9R/s1IGIjIPwJr/n1AmOOAwCYDfyRMGMPiv44Cewi0ObOnz4Qafv5T0VOHUIEHjw482IFhTxdKZz5AGBAAIfkEBQQA/wAsCQAGAAoAFAAACF0A/wkUaEHAwIMCLxxQcLDAQB/8Dhr4N+DfGIQTEQ40KNCLv4n+YBycQhGGmyUJGP47IXCNP4wDUwz5Z+SfDQQIcWo86OHfh51Ag2oMABSJUKA2HALleNCBQAICAwIAIfkEBQQA/wAsCQAHAAoAEwAACFAA/wn8p05ghIECESD0hzDBPwL/4AiswhChQBY5LA5UqPFfiH81Al3pKDCdlX8MGQx8MWVglQYILTj4p4OkR5sqbOrc+W+JTRY8OxqwOfRfQAAh+QQFBAD/ACwJAAYACgAVAAAIXwD/CRQgsIDAg/9oCHzx7wFCBQgjFhTor4ZEgYIQDjj45h+Dix3/4VgEJsKCJQK9IJwjUAwEhGUu/gvwL8IMgStk/iOhsycNmj0j4vn35GLOngtkkoEYkYLABDI5HAwIACH5BAUEAP8ALAkABgAKABUAAAhSAP8JHHhgoMF1AyMYZJDEoMEGAksIvEHQYYyBBBw6EEjD4Y5/ORz+a+LQj0gD/9z80+IwgEAJAvmJHBjOxMx/ME7cBLmzp8+dEG8++ClSxMCAAAAh+QQFBAD/ACwHAAcADQAUAAAIUgD/CRwosIfAAQEI/nsw0I5ChQZqCHooMIFCGhQHBspI0NEUBAN3EJSiMOHDPg8PwBC4hqPACf+YuJypcAhGjjdpLqNJkqZPjg5++qNZQsDAgAAAIfkEBQQA/wAsCwAGAAkAFQAACFcA//17sAGBwIMHgyD8J+Ggo38eBFag8k9IJIEBFgqsofGiwBsZ/30z9W/BvzICsfyr80XjwjwuEVr5xyJmCpdRYv5jojPmFI0tejroidCCwAgaX5xAGBAAIfkEBQQA/wAsBwAGAA0AFQAACGQA/wkc+M8DQYIBBLIT6OIfgYP/KIARyAnivxkDiWj6t+NfwoEKIH4cWODghIM5PAq0dZDHpDUCv1gUiC7RTIt1HoyEyOWmz5lAfu77OVCAz31WfL4QuJOoRU0Ubl5wqiMFwYAAACH5BAUEAP8ALAkACQAJABEAAAhJAP/9a/JCoBFSAhMqXCgQEMOExBLCeShw0kIE/wr948PwgkAw+1wkDJAQnAuSC71Q/PeFYY6V/7QwhPGvxUMzDxbmvLVSw7+AAAAh+QQFBAD/ACwHAAYADAAVAAAIYgD/CRwI4cPAgwgFYkAY4B+efz8EhkgoEAlCKgInCMT4z8ZBRAdBUTwYjc+/hgLtCCzzLxJFTgNJJHz0j9FIAf8qDJQxsmdCKT7/tfGpz+edf2KC8uxZKOi/hRSh9sSpYmBAACH5BAUEAP8ALAcABgAMABYAAAhZAP8JHCgwAcGDAqUgORjg34tEBE8QdDOQCUKBGRA2PAhgIIeNCL8R/PGPj8A1+1aBQWiKIEiBnAhuuMiQpkAdNv/NySlQD8+fP2/wpPDyYDINRYEK3MHzZUAAIfkEBQQA/wAsDAAGAAgAFQAACEYAB/wD8S/Av4MID5YocFDTPy4JwyT8l2TiwR0WB1rExAAhnIQG//GzyCmjSYRELBoac7IlQn0uE2rCgDCkNQ4mQyJckTAgACH5BAUEAP8ALAoABgAKABUAAAhVAP8JjCBCoEGBNQSi2XIwQRNW/9gEO/hIkEApu/5FOcgxCMeDJQwKMKhulYMArCz+s/Px3yuBnVoKtPRxgwyBO2TqFBhnwM6fQDn6kLkqqFGBLA4GBAAh+QQFBAD/ACwJAAUACwAXAAAIYQD/CfwXIMDAgwNJIFzI8IIZgYGs/YNh8F+rTAK5MFQ40BZDgbwQCvnoxJgigXz+/Qrz8Z+Pgz9a8RMI66AAgR8GDmnJ8x+lfwU+6utJ9COOoTeLDoTwL5xShANe8qwoMCAAIfkEBQQA/wAsCQAGAAoAFgAACF0A/wn8J2FggIEC1/0TlCbGwBP/eiG8gVDgmYoYnTXB+K/avxZqBgoYmKugQJMcbQnEZWUgFYTFEA74J2LgEo4CveAUVQjnv00+g/LhCOQfEZwqfY7wySEox5EDAwIAIfkEBQQA/wAsCQAFAAsAFwAACFgA/wkcGGCgQYEn/gk4WPCgw4cCl71yuBCiRYL/+B2098/CvzMXHS47iEZgrH/VekC08y8KRBH/2AyA6Opfgocz8l3UedHRRSYWf4VMcfEDxCH/ZkKsKDAgACH5BAUEAP8ALAgABgALABYAAAhiAP8JHJiCwcCDNgbm4YEgwEGBkAT+ELioWy6Bcx5qFIjloIGB6/7VGMjkIL9iGwSi2/hQ18A4B/ccLPeQwEBE+lj+G/FN5z9b/xr49KlsqFGdIXSuY7Exg0AQG23S0DngYEAAIfkEBQQA/wAsCQAGAAoAFQAACF4A/wkUyMKBwAADB2Yi9I+BwBaDEiY8F2xgun9tBOqTKLAHx4FpOPr7KFDbwH0SDQkYeO3fsX/rqAwQWOCfiYQrP+4h+SsTyZ//8B3kmA+oTJInSMKD8VPExyU6BgYEACH5BAUEAP8ALAkABgALABYAAAhuAP8JFOji34CBCNX9W/WPyIOBM/45+/cJocB3yAQK8ifwoEAUA/dZC/MviMV/9/7lGFjlZId/f+5JOmnxF0KP/xYhfHemwEADFr3Q/FdCIIGhyUwNHShgqdN/oJ76HOqi6VOEAQaOGBrlKc5/AQEAIfkEBQQA/wAsCQAGAAoAFgAACGcA/wkcKGGgQYG3/iUZeONftn+tBDo5mODRwX8tBE4ZiOTivosDBjYbmEngoH/nBur7J0wgNk0CHQzsdvHAPxT/Nv17E/Kit0YGLqb49+riQGJGkyo1mM9L0IvHZCxdKmDqwQIFBgYEACH5BAUEAP8ALAkABQALABcAAAhdAP8JFChgoEGDFQ4eBPbonwSDlsT9s6XQHrR/CywNJDDwhUFsaRSKFCntw0h2IwcWEDhB4D53AgMlGIjAgoqUByulnEYL58WUy3C+GinlnxmcSP8NSCoyCE4DBgMCACH5BAUEAP8ALAgABgAMABYAAAhiAP8J/CfgH4x/BQYqVEhpCYWCA0eZ++dr278pCv0t3LixG8eB/DZ62RhioMaB+twNDMBmobh/CRbOW8hAoYKFfwh8PCHwwMeBD34KFXhvqNF/aXz+xCE03o2jH6sQEap0YEAAIfkEBQQA/wAsCQAFAAoAFwAACFMA/wkUOGCgwYEYDBgUMPDYpYMGw0E8CGiiwDgWBa7J+E/fwEYcLdr7J48SwX8VVvxjlREFR2z/Ili8FiCkzYFiOD77kXEHAYsmJmI5YhEBgoEBAQAh+QQFBAD/ACwIAAYACwAWAAAIZgD/CRwo8ICAgQcHMiNIEN2/YQKlELT2j8EmgYMIymAocMrAAASDDDTDcYTAfJ8EVvr3TiAAjv9kEbwkUN+/eQwX/GsxkJEBmP+6iQI6UAJQfESTMgTJMI7Sf0iS+nhKlaGCBAMDAgAh+QQFBAD/ACwHAAUADAAXAAAIZgD/CRQYQMDAgwcjIFw40NO/Cgd5rBJYTCAUhv84CRSEsMZBcHMWAjgoZOC+gRcEUkMoagLGl/8C/KMg6t6/k/U6HSQg0MXASQdgokoAkxfMo0iR5vnn5qiTAUmjItSCBOaCBQMDAgAh+QQFBAD/ACwJAAYACgAUAAAIVAD/CRz4DwHBfzUEOjsIBNZBgtkOAnpI0MvDfRQHVvunCJ9ABp8oFhvIa4FAU/UEWrMH6l+AAgwG2vpnKSO3jP++/ZuAs6fPjHAM/iQIDwjOFAIDAgAh+QQFBAD/ACwJAAYACgAWAAAIVQD/CfwHYaBBg9AEWvgHQMisgeT+OQkg0Nu/BQczatyYZuM/UgJNaTxmsMG/CakM1hP1QKDJgwgGCjD4yqPNmx5zaexzswqBgy3bCcmIAedGBgwGBgQAIfkEBQQA/wAsCQAGAAoAFAAACEwA/wn89+CFwAEDE0YTWCGhwGPmHEocmG/iGoEFJKaZ+I8ER4fKBg57wHEUhIEWBObKt2niiX+xFEwcR4wCx28fc/LKyXPiupwsBAYEACH5BAUEAP8ALAkABgAKABUAAAhEAP8JHPgvwT8BBBMSrDXwnMIpBP0M1JGwjhuFCdcoHMHoXymMICGA/AiyIMZtsxYoRFGSYICWIAHAnDnzgsAWII8MDAgAIfkEBQQA/wAsCQAGAAsAFgAACF8A/wn85+BfhoEIEX6KcmHgkIHIBDL5J0AguIQJfSSc8+8NRoFBAAhk83GgKYGrSi77189csYESBuoTaCpCQhgDP5UcyGBnsp1Ag9oB+udfnKAfCwosgBRjFiM7GyQMCAAh+QQFBAD/ACwIAAYACwAVAAAIVAD/CRwoUAHBgwgT/luScFNCIQKl/AsnR6HAHwcF/Ov2j5oIhK4s/vOnTmE+gagEBvgX4WAokbUarEyorIJIi/Zu9ropMovIIQYQ2vznQiEWIgMDAgAh+QQFBAD/ACwJAAYACgAWAAAITgD/CRToYqDBg/8sIPyX7p+Sgd8WCjRyMI4bhPz++ZD4LwTCfBzbDYyAMJUEgRMG6joYgKPBEy7/lYspICZCORKlcZGozuULjjUXNhgYEAAh+QQFBAD/ACwJAAYACgAVAAAIQQD/CRTYYsM/AgMTCnwiMIDChxAHIkkoLqJAHgMdWvwHK+Eahe82qrIoyqIti8ksbFz5EB/LlwqJwBQ44MqQgQEBACH5BAUEAP8ALAsABgAIABUAAAg7AP8J/NdhoEGBTCr8s3WwocA+DiNGBHHq34JYB5s1pBcxRgyJAh1EDDBQBsiTJA2m/LeJWpeTEgUcDAgAIfkEBQQA/wAsDAAGAAgAEwAACDkA//1j8W+BwIMIEx47KCDhwSQOEf4RqCOiQAn/ZlmEZ3HVBIsOaz0ASRJknX+8SiL0grCBQCMHAwIAIfkEBQQA/wAsCgAGAAoAFAAACC8A/wkU6GGgwYP/BghAyLChQ4Y5Hh6k9TCexIMyDCpAaOKix48X5zDUBHIgBYQBAQAh+QQFBAD/ACwJAAcACgAUAAAINAD/CaQhsKBBg+oOClRQcE9BJAojSpxIUSEEhaoOzqjI8d+FjgoDKKQDMuKXkhVFChH5LyAAIfkEBQQA/wAsBwAHAAwAFAAACD0A/wkcmE4gqCUD/w1IyLChw4cQE94AwDBARIZgLj642LACR4YQIiL7SLJkQnx1TA4U8E+YyoQBAFgBMjAgACH5BAUEAP8ALAoABgAJABUAAAg0AP/9C/CvhcCD/2YgVEIBoUNFDh0eiUixIkJT/xTUssjx4IWOB2mBHEnSoZ2SKA/+ACAwIAAh+QQFBAD/ACwJAAUACgAWAAAINQD/CRQoYKDBfw1cHFzIsKHDhw1tOPyw6F8pgbYgGlR1MJXGjyD/AWjIzOGukCgPSnhYxWBAACH5BAUEAP8ALAkABgAKABMAAAhAAP8JFNhioEGDnwYSOMjwn5SGECMOXCPQwkAPAyMwVDMQl8SBFP4RwHAw1AKBAj4aPAbxnsoBB+eonNmwwL+AAAAh+QQFBAD/ACwKAAUACAAVAAAILgD/CfwXYKBAAAI7/BtgsKFDh5oeNiTgMI3DfBL/McvIsaPHjwLlgBwpAILBgAAAIfkEBQQA/wAsCgAFAAgAFQAACDAA/wkUCGCgwYMyBEL7l6TAwYcPjQiM8i8cRIFoLmrcOPACx48gNer6WDDkQBf/AgIAIfkEBQQA/wAsCQAGAAsAFQAACDgA/wkc+E8BwYMICQYjGCDhwAEOIx5EMxAAwQ4HESBMI/EBQlQPLUgcSdAESXIkU6pcyVKgRYQBAQAh+QQFBAD/ACwLAAYACAAUAAAIMQD/CWQhUGCAgggRGkvIMKG+hgJrnIH47wBFgQ4aTigII9fFjwJjgBzJMBPJgi0EBgQAIfkEBQQA/wAsCgAGAAkAFQAACCoA/wkUyGGgQYGe/k04yLChw4cQ/5GKSFFgBYYKKmrcyLEiAYMOIPYYGBAAIfkEBQQA/wAsCAAGAAsAFAAACDsA/wkcKDABwYPPBEoA8I/AwYOJHv7TI/Fgm4N+KhKc9tCARoLECKb6SPLhrI/GSqpcSbAOy5f/WAgMCAAh+QQFBAD/ACwHAAcADAATAAAIOAD/CQwgsOA/JQYHGFzIcCGAhhD/KYxoJqLAURYN9stYUMJCChxDihT5MGKufwJGqszIQOAKgQEBACH5BAUEAP8ALAkABwAKABUAAAgwAP8JHDgwAsGDCBMqXMhwoKh/BQZ+aXiwGkEBFDMuhLEQh8aEcz5qVJGQCkMHAwMCACH5BAUEAP8ALAoABgAJABUAAAg1AP8J/Ldi4MAYAp0JhGCwIaKGEBvCgegv4kAOFjNajKDxX4CGDzqKzBgHIoCRKBdknLJjYEAAIfkEBQQA/wAsCgAGAAgAFQAACC4A/wkUuAHBwIMIEwqMolDgk4YQDxL4hy8iQnoCKSAEZbGjx48RGVgMgFCHwIAAACH5BAUEAP8ALAcABwALABAAAAgpAP8J/AdgYLNOAxMqXMiwocOHDiE0zDeQn8AGBSFq3MixY0NcD+X8CwgAIfkEBQQA/wAsCgAGAAkAFQAACCkA/wn8p2KgwYMPDipcyLDhP30OI0qEIHGgtobFKmpkGGfjwAEapRgMCAAh+QQFBAD/ACwKAAUACQAWAAAINQD/CQwgsKDBfxoOKnSgsOChhhAb9olYEF8oihHxCTxlUAbGf7I+FnwhsiTGAQ2JmPyXo2BAACH5BAUEAP8ALAkABgAKABUAAAgxAP8JHChQAMGD/xoEQMiwocOH/8pAHHAQDcSLEEs8FCcQAMNxGEOKDKlAYIqGOAYGBAAh+QQFBAD/ACwKAAYACQAUAAAIJgD/CfyXYqDBgwwOKlzI8F+/hhAfQJxIsaLFixgXBvgXDCIKgQEBACH5BAUEAP8ALAsABgAIABUAAAgrAP8JFHhg4EBmBgcWS5gwD8OHD7clFACxosEJFjNWBKCxo0eGJxJGuTEwIAAh+QQFBAD/ACwLAAUACQASAAAIJwD/CQQgsKBABgYTKvxXSyHBhRAjSvwHamJBhBYzavznYmNGOAUDAgAh+QQFBAD/ACwHAAcADAAQAAAIMAD/CRwocJnABQQTKjQk8IlCgkUUAhh46KHAMxYzatyYMUBCfBw1lghJsuTDNwIDAgAh+QQFBAD/ACwKAAcACAAUAAAIKQAB/IPxr6DBgwgNZjKID6E4fgkjSpw4cQLFixgzRnSDEBNFARifGAwIACH5BAUEAP8ALAsABQAIABYAAAgsAP/9AyCwoMGDCBMqROhkocAxCwM4REgN4YuJGDNqFEhQ4KWEwBaaONiwYEAAIfkEBQQA/wAsDQAGAAcAFAAACCsA/wk0ILCgsn9LCipcWFAAw4J8HkqcSPHfp4oCiWFsuLEgJowJBJYAIDAgADs=\"/></td><td style=\"padding:1px;\"><img width=\"128\" height=\"128\" style=\"image-rendering:pixelated; object-fit:cover;\" src=\"data:image/gif;base64,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\"/></td><td style=\"padding:1px;\"><img width=\"128\" height=\"128\" style=\"image-rendering:pixelated; object-fit:cover;\" src=\"data:image/gif;base64,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\"/></td><td style=\"padding:1px;\"><img width=\"128\" height=\"128\" style=\"image-rendering:pixelated; object-fit:cover;\" src=\"data:image/gif;base64,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\"/></td></tr></table>"
      ],
      "text/plain": [
       "<IPython.core.display.HTML object>"
      ]
     },
     "metadata": {},
     "output_type": "display_data"
    }
   ],
   "source": [
    "states = jnp.concatenate([state_init[:, None], states], axis=1)\n",
    "frame_init = jax.vmap(ca.render)(state_init)\n",
    "frames = jax.vmap(ca.render)(states)\n",
    "\n",
    "mediapy.show_images(y_test[y_idx], width=128, height=128)\n",
    "mediapy.show_images(frame_init, width=128, height=128)\n",
    "mediapy.show_videos(frames, width=128, height=128, codec=\"gif\")"
   ]
  }
 ],
 "metadata": {
  "kernelspec": {
   "display_name": ".venv",
   "language": "python",
   "name": "python3"
  },
  "language_info": {
   "codemirror_mode": {
    "name": "ipython",
    "version": 3
   },
   "file_extension": ".py",
   "mimetype": "text/x-python",
   "name": "python",
   "nbconvert_exporter": "python",
   "pygments_lexer": "ipython3",
   "version": "3.13.3"
  }
 },
 "nbformat": 4,
 "nbformat_minor": 2
}
