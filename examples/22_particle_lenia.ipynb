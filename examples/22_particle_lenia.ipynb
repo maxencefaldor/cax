{
 "cells": [
  {
   "cell_type": "markdown",
   "metadata": {},
   "source": [
    "# Particle Lenia [![Colab](https://colab.research.google.com/assets/colab-badge.svg)](https://colab.research.google.com/github/maxencefaldor/cax/blob/main/examples/22_particle_lenia.ipynb)"
   ]
  },
  {
   "cell_type": "markdown",
   "metadata": {},
   "source": [
    "## Installation"
   ]
  },
  {
   "cell_type": "markdown",
   "metadata": {},
   "source": [
    "You will need Python 3.11 or later, and a working JAX installation. For example, you can install JAX with:"
   ]
  },
  {
   "cell_type": "code",
   "execution_count": null,
   "metadata": {},
   "outputs": [],
   "source": [
    "%pip install -U \"jax[cuda]\""
   ]
  },
  {
   "cell_type": "markdown",
   "metadata": {},
   "source": [
    "Then, install CAX from PyPi:"
   ]
  },
  {
   "cell_type": "code",
   "execution_count": null,
   "metadata": {},
   "outputs": [],
   "source": [
    "%pip install -U \"cax[examples]\""
   ]
  },
  {
   "cell_type": "markdown",
   "metadata": {},
   "source": [
    "## Import"
   ]
  },
  {
   "cell_type": "code",
   "execution_count": null,
   "metadata": {},
   "outputs": [],
   "source": [
    "import jax\n",
    "import jax.numpy as jnp\n",
    "import mediapy\n",
    "from flax import nnx\n",
    "\n",
    "from cax.cs.particle_lenia import (\n",
    "\tGrowthParams,\n",
    "\tKernelParams,\n",
    "\tParticleLenia,\n",
    "\tParticleLeniaRuleParams,\n",
    "\tbell,\n",
    ")"
   ]
  },
  {
   "cell_type": "markdown",
   "metadata": {},
   "source": [
    "## Configuration"
   ]
  },
  {
   "cell_type": "code",
   "execution_count": null,
   "metadata": {},
   "outputs": [],
   "source": [
    "seed = 0\n",
    "\n",
    "num_steps = 8_192\n",
    "num_spatial_dims = 2\n",
    "num_particles = 200\n",
    "T = 10\n",
    "\n",
    "key = jax.random.key(seed)\n",
    "rngs = nnx.Rngs(seed)"
   ]
  },
  {
   "cell_type": "markdown",
   "metadata": {},
   "source": [
    "## Instantiate system"
   ]
  },
  {
   "cell_type": "markdown",
   "metadata": {},
   "source": [
    "### Rule parameters"
   ]
  },
  {
   "cell_type": "code",
   "execution_count": null,
   "metadata": {},
   "outputs": [],
   "source": [
    "mean = 4.0\n",
    "std = 1.0\n",
    "\n",
    "\n",
    "def compute_weight(mean, std, num_spatial_dims):\n",
    "\t\"\"\"Compute weight for the kernel.\"\"\"\n",
    "\tr = jnp.linspace(max(mean - 4 * std, 0.0), mean + 4 * std, 51)\n",
    "\ty = bell(r, mean, std) * r ** (num_spatial_dims - 1)\n",
    "\ts = jnp.trapezoid(y, r) * {2: 2, 3: 4}[num_spatial_dims] * jnp.pi\n",
    "\treturn 1 / s\n",
    "\n",
    "\n",
    "weight = compute_weight(mean, std, num_spatial_dims)"
   ]
  },
  {
   "cell_type": "code",
   "execution_count": null,
   "metadata": {},
   "outputs": [],
   "source": [
    "kernel_params = KernelParams(\n",
    "\tweight=weight,\n",
    "\tmean=mean,\n",
    "\tstd=std,\n",
    ")\n",
    "\n",
    "growth_params = GrowthParams(\n",
    "\tmean=0.6,\n",
    "\tstd=0.15,\n",
    ")\n",
    "\n",
    "rule_params = ParticleLeniaRuleParams(\n",
    "\tc_rep=1.0,\n",
    "\tkernel_params=kernel_params,\n",
    "\tgrowth_params=growth_params,\n",
    ")"
   ]
  },
  {
   "cell_type": "code",
   "execution_count": null,
   "metadata": {},
   "outputs": [],
   "source": [
    "cs = ParticleLenia(\n",
    "\tnum_spatial_dims=num_spatial_dims,\n",
    "\tT=T,\n",
    "\trule_params=rule_params,\n",
    ")"
   ]
  },
  {
   "cell_type": "markdown",
   "metadata": {},
   "source": [
    "## Sample initial state"
   ]
  },
  {
   "cell_type": "code",
   "execution_count": null,
   "metadata": {},
   "outputs": [],
   "source": [
    "def sample_state(key):\n",
    "\t\"\"\"Sample a state with random particule positions.\"\"\"\n",
    "\tstate = 12.0 * (jax.random.uniform(key, (num_particles, num_spatial_dims)) - 0.5)\n",
    "\treturn state"
   ]
  },
  {
   "cell_type": "markdown",
   "metadata": {},
   "source": [
    "## Run"
   ]
  },
  {
   "cell_type": "code",
   "execution_count": null,
   "metadata": {},
   "outputs": [],
   "source": [
    "key, subkey = jax.random.split(key)\n",
    "state_init = sample_state(subkey)\n",
    "state_final = cs(state_init, num_steps=num_steps, sow=True)"
   ]
  },
  {
   "cell_type": "markdown",
   "metadata": {},
   "source": [
    "## Visualize"
   ]
  },
  {
   "cell_type": "code",
   "execution_count": null,
   "metadata": {},
   "outputs": [],
   "source": [
    "intermediates = nnx.pop(cs, nnx.Intermediate)\n",
    "states = intermediates.state.value[0]"
   ]
  },
  {
   "cell_type": "code",
   "execution_count": null,
   "metadata": {},
   "outputs": [],
   "source": [
    "states = jnp.concatenate([state_init[None], states])\n",
    "frames = nnx.vmap(\n",
    "\tlambda cs, state: cs.render(state, resolution=512, particle_radius=0.3),\n",
    "\tin_axes=(None, 0),\n",
    ")(cs, states)\n",
    "\n",
    "mediapy.show_video(frames, width=256, height=256, fps=600)"
   ]
  }
 ],
 "metadata": {
  "accelerator": "GPU",
  "colab": {
   "provenance": []
  },
  "gpuClass": "standard",
  "kernelspec": {
   "display_name": ".venv",
   "language": "python",
   "name": "python3"
  },
  "language_info": {
   "codemirror_mode": {
    "name": "ipython",
    "version": 3
   },
   "file_extension": ".py",
   "mimetype": "text/x-python",
   "name": "python",
   "nbconvert_exporter": "python",
   "pygments_lexer": "ipython3",
   "version": "3.13.3"
  }
 },
 "nbformat": 4,
 "nbformat_minor": 0
}
